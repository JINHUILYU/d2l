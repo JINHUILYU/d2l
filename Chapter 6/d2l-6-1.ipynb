{
 "cells": [
  {
   "cell_type": "code",
   "execution_count": 1,
   "id": "845ff86d",
   "metadata": {
    "_cell_guid": "b1076dfc-b9ad-4769-8c92-a6c4dae69d19",
    "_uuid": "8f2839f25d086af736a60e9eeb907d3b93b6e0e5",
    "execution": {
     "iopub.execute_input": "2024-12-04T07:02:37.087623Z",
     "iopub.status.busy": "2024-12-04T07:02:37.087205Z",
     "iopub.status.idle": "2024-12-04T07:02:37.992497Z",
     "shell.execute_reply": "2024-12-04T07:02:37.991419Z"
    },
    "papermill": {
     "duration": 0.913526,
     "end_time": "2024-12-04T07:02:37.994963",
     "exception": false,
     "start_time": "2024-12-04T07:02:37.081437",
     "status": "completed"
    },
    "tags": []
   },
   "outputs": [],
   "source": [
    "# This Python 3 environment comes with many helpful analytics libraries installed\n",
    "# It is defined by the kaggle/python Docker image: https://github.com/kaggle/docker-python\n",
    "# For example, here's several helpful packages to load\n",
    "\n",
    "import numpy as np # linear algebra\n",
    "import pandas as pd # data processing, CSV file I/O (e.g. pd.read_csv)\n",
    "\n",
    "# Input data files are available in the read-only \"../input/\" directory\n",
    "# For example, running this (by clicking run or pressing Shift+Enter) will list all files under the input directory\n",
    "\n",
    "import os\n",
    "for dirname, _, filenames in os.walk('/kaggle/input'):\n",
    "    for filename in filenames:\n",
    "        print(os.path.join(dirname, filename))\n",
    "\n",
    "# You can write up to 20GB to the current directory (/kaggle/working/) that gets preserved as output when you create a version using \"Save & Run All\" \n",
    "# You can also write temporary files to /kaggle/temp/, but they won't be saved outside of the current session"
   ]
  },
  {
   "cell_type": "markdown",
   "id": "0099105b",
   "metadata": {
    "papermill": {
     "duration": 0.003128,
     "end_time": "2024-12-04T07:02:38.001680",
     "exception": false,
     "start_time": "2024-12-04T07:02:37.998552",
     "status": "completed"
    },
    "tags": []
   },
   "source": [
    "# Layers and Modules"
   ]
  },
  {
   "cell_type": "markdown",
   "id": "3b94a8b4",
   "metadata": {
    "papermill": {
     "duration": 0.002993,
     "end_time": "2024-12-04T07:02:38.007856",
     "exception": false,
     "start_time": "2024-12-04T07:02:38.004863",
     "status": "completed"
    },
    "tags": []
   },
   "source": [
    "![Multiple layers are combined into modules, forming repeating patterns of larger models.](http://d2l.ai/_images/blocks.svg)"
   ]
  },
  {
   "cell_type": "code",
   "execution_count": 2,
   "id": "245b528c",
   "metadata": {
    "execution": {
     "iopub.execute_input": "2024-12-04T07:02:38.018143Z",
     "iopub.status.busy": "2024-12-04T07:02:38.017565Z",
     "iopub.status.idle": "2024-12-04T07:02:41.037944Z",
     "shell.execute_reply": "2024-12-04T07:02:41.036780Z"
    },
    "papermill": {
     "duration": 3.027536,
     "end_time": "2024-12-04T07:02:41.040564",
     "exception": false,
     "start_time": "2024-12-04T07:02:38.013028",
     "status": "completed"
    },
    "tags": []
   },
   "outputs": [],
   "source": [
    "import torch\n",
    "from torch import nn\n",
    "from torch.nn import functional as F"
   ]
  },
  {
   "cell_type": "code",
   "execution_count": 3,
   "id": "c75936b2",
   "metadata": {
    "execution": {
     "iopub.execute_input": "2024-12-04T07:02:41.049124Z",
     "iopub.status.busy": "2024-12-04T07:02:41.048613Z",
     "iopub.status.idle": "2024-12-04T07:02:41.246374Z",
     "shell.execute_reply": "2024-12-04T07:02:41.245363Z"
    },
    "papermill": {
     "duration": 0.204736,
     "end_time": "2024-12-04T07:02:41.248783",
     "exception": false,
     "start_time": "2024-12-04T07:02:41.044047",
     "status": "completed"
    },
    "tags": []
   },
   "outputs": [
    {
     "data": {
      "text/plain": [
       "torch.Size([2, 10])"
      ]
     },
     "execution_count": 3,
     "metadata": {},
     "output_type": "execute_result"
    }
   ],
   "source": [
    "# 包含一个具有 256 个单元和 ReLU 激活的完全连接隐藏层，然后是一个具有 10 个单元（无激活函数）的完全连接输出层\n",
    "net = nn.Sequential(nn.LazyLinear(256), nn.ReLU(), nn.LazyLinear(10))\n",
    "\n",
    "X = torch.rand(2, 20)\n",
    "net(X).shape"
   ]
  },
  {
   "cell_type": "code",
   "execution_count": 4,
   "id": "7480789a",
   "metadata": {
    "execution": {
     "iopub.execute_input": "2024-12-04T07:02:41.257617Z",
     "iopub.status.busy": "2024-12-04T07:02:41.256784Z",
     "iopub.status.idle": "2024-12-04T07:02:41.262680Z",
     "shell.execute_reply": "2024-12-04T07:02:41.261587Z"
    },
    "papermill": {
     "duration": 0.012607,
     "end_time": "2024-12-04T07:02:41.265003",
     "exception": false,
     "start_time": "2024-12-04T07:02:41.252396",
     "status": "completed"
    },
    "tags": []
   },
   "outputs": [],
   "source": [
    "class MLP(nn.Module):\n",
    "    def __init__(self):\n",
    "        # Call the constructor of the parent class nn.Module to perform\n",
    "        # the necessary initialization\n",
    "        super().__init__()\n",
    "        self.hidden = nn.LazyLinear(256)\n",
    "        self.out = nn.LazyLinear(10)\n",
    "\n",
    "    # Define the forward propagation of the model, that is, how to return the\n",
    "    # required model output based on the input X\n",
    "    def forward(self, X):\n",
    "        return self.out(F.relu(self.hidden(X)))"
   ]
  },
  {
   "cell_type": "markdown",
   "id": "79dde0a6",
   "metadata": {
    "papermill": {
     "duration": 0.003078,
     "end_time": "2024-12-04T07:02:41.271533",
     "exception": false,
     "start_time": "2024-12-04T07:02:41.268455",
     "status": "completed"
    },
    "tags": []
   },
   "source": [
    "**Note that unless we implement a new layer, we need not worry about the backpropagation method or parameter initialization. The system will generate these methods automatically.**"
   ]
  },
  {
   "cell_type": "code",
   "execution_count": 5,
   "id": "d082b5b0",
   "metadata": {
    "execution": {
     "iopub.execute_input": "2024-12-04T07:02:41.280947Z",
     "iopub.status.busy": "2024-12-04T07:02:41.280545Z",
     "iopub.status.idle": "2024-12-04T07:02:41.290369Z",
     "shell.execute_reply": "2024-12-04T07:02:41.289269Z"
    },
    "papermill": {
     "duration": 0.017716,
     "end_time": "2024-12-04T07:02:41.292571",
     "exception": false,
     "start_time": "2024-12-04T07:02:41.274855",
     "status": "completed"
    },
    "tags": []
   },
   "outputs": [
    {
     "data": {
      "text/plain": [
       "torch.Size([2, 10])"
      ]
     },
     "execution_count": 5,
     "metadata": {},
     "output_type": "execute_result"
    }
   ],
   "source": [
    "net = MLP()\n",
    "net(X).shape"
   ]
  },
  {
   "cell_type": "code",
   "execution_count": 6,
   "id": "b6ce2dce",
   "metadata": {
    "execution": {
     "iopub.execute_input": "2024-12-04T07:02:41.301045Z",
     "iopub.status.busy": "2024-12-04T07:02:41.300649Z",
     "iopub.status.idle": "2024-12-04T07:02:41.306677Z",
     "shell.execute_reply": "2024-12-04T07:02:41.305684Z"
    },
    "papermill": {
     "duration": 0.012753,
     "end_time": "2024-12-04T07:02:41.308847",
     "exception": false,
     "start_time": "2024-12-04T07:02:41.296094",
     "status": "completed"
    },
    "tags": []
   },
   "outputs": [],
   "source": [
    "class MySequential(nn.Module):\n",
    "    def __init__(self, *args):\n",
    "        super().__init__()\n",
    "        # 将多个神经网络模块组合成序列\n",
    "        for idx, module in enumerate(args):\n",
    "            self.add_module(str(idx), module)\n",
    "\n",
    "    # 实现前向传播\n",
    "    def forward(self, X):\n",
    "        for module in self.children():\n",
    "            X = module(X)  # 使用前一个 X 作为输入，输出的结果作为新的 X\n",
    "        return X"
   ]
  },
  {
   "cell_type": "code",
   "execution_count": 7,
   "id": "1651d4fc",
   "metadata": {
    "execution": {
     "iopub.execute_input": "2024-12-04T07:02:41.317597Z",
     "iopub.status.busy": "2024-12-04T07:02:41.317235Z",
     "iopub.status.idle": "2024-12-04T07:02:41.326516Z",
     "shell.execute_reply": "2024-12-04T07:02:41.325437Z"
    },
    "papermill": {
     "duration": 0.016327,
     "end_time": "2024-12-04T07:02:41.328764",
     "exception": false,
     "start_time": "2024-12-04T07:02:41.312437",
     "status": "completed"
    },
    "tags": []
   },
   "outputs": [
    {
     "data": {
      "text/plain": [
       "torch.Size([2, 10])"
      ]
     },
     "execution_count": 7,
     "metadata": {},
     "output_type": "execute_result"
    }
   ],
   "source": [
    "net = MySequential(nn.LazyLinear(256), nn.ReLU(), nn.LazyLinear(10))\n",
    "net(X).shape"
   ]
  },
  {
   "cell_type": "code",
   "execution_count": 8,
   "id": "8b32e9a8",
   "metadata": {
    "execution": {
     "iopub.execute_input": "2024-12-04T07:02:41.337734Z",
     "iopub.status.busy": "2024-12-04T07:02:41.337170Z",
     "iopub.status.idle": "2024-12-04T07:02:41.344255Z",
     "shell.execute_reply": "2024-12-04T07:02:41.343253Z"
    },
    "papermill": {
     "duration": 0.013862,
     "end_time": "2024-12-04T07:02:41.346369",
     "exception": false,
     "start_time": "2024-12-04T07:02:41.332507",
     "status": "completed"
    },
    "tags": []
   },
   "outputs": [],
   "source": [
    "class FixedHiddenMLP(nn.Module):\n",
    "    def __init__(self):\n",
    "        super().__init__()\n",
    "        # Random weight parameters that will not compute gradients and\n",
    "        # therefore keep constant during training\n",
    "        self.rand_weight = torch.rand((20, 20))  # 在训练过程中不会计算梯度，因此它们会保持不变\n",
    "        self.linear = nn.LazyLinear(20)\n",
    "\n",
    "    def forward(self, X):\n",
    "        X = self.linear(X)\n",
    "        X = F.relu(X @ self.rand_weight + 1)\n",
    "        # Reuse the fully connected layer. This is equivalent to sharing\n",
    "        # parameters with two fully connected layers\n",
    "        X = self.linear(X)\n",
    "        # Control flow\n",
    "        while X.abs().sum() > 1:\n",
    "            X /= 2\n",
    "        return X.sum()"
   ]
  },
  {
   "cell_type": "code",
   "execution_count": 9,
   "id": "18580f7a",
   "metadata": {
    "execution": {
     "iopub.execute_input": "2024-12-04T07:02:41.355315Z",
     "iopub.status.busy": "2024-12-04T07:02:41.354938Z",
     "iopub.status.idle": "2024-12-04T07:02:41.412207Z",
     "shell.execute_reply": "2024-12-04T07:02:41.411102Z"
    },
    "papermill": {
     "duration": 0.064329,
     "end_time": "2024-12-04T07:02:41.414490",
     "exception": false,
     "start_time": "2024-12-04T07:02:41.350161",
     "status": "completed"
    },
    "tags": []
   },
   "outputs": [
    {
     "data": {
      "text/plain": [
       "tensor(-0.1893, grad_fn=<SumBackward0>)"
      ]
     },
     "execution_count": 9,
     "metadata": {},
     "output_type": "execute_result"
    }
   ],
   "source": [
    "net = FixedHiddenMLP()\n",
    "net(X)"
   ]
  },
  {
   "cell_type": "code",
   "execution_count": 10,
   "id": "e558997f",
   "metadata": {
    "execution": {
     "iopub.execute_input": "2024-12-04T07:02:41.423807Z",
     "iopub.status.busy": "2024-12-04T07:02:41.423399Z",
     "iopub.status.idle": "2024-12-04T07:02:41.436294Z",
     "shell.execute_reply": "2024-12-04T07:02:41.435281Z"
    },
    "papermill": {
     "duration": 0.02012,
     "end_time": "2024-12-04T07:02:41.438486",
     "exception": false,
     "start_time": "2024-12-04T07:02:41.418366",
     "status": "completed"
    },
    "tags": []
   },
   "outputs": [
    {
     "data": {
      "text/plain": [
       "tensor(0.0001, grad_fn=<SumBackward0>)"
      ]
     },
     "execution_count": 10,
     "metadata": {},
     "output_type": "execute_result"
    }
   ],
   "source": [
    "class NestMLP(nn.Module):\n",
    "    def __init__(self):\n",
    "        super().__init__()\n",
    "        self.net = nn.Sequential(nn.LazyLinear(64), nn.ReLU(),\n",
    "                                 nn.LazyLinear(32), nn.ReLU())\n",
    "        self.linear = nn.LazyLinear(16)\n",
    "\n",
    "    def forward(self, X):\n",
    "        return self.linear(self.net(X))\n",
    "\n",
    "chimera = nn.Sequential(NestMLP(), nn.LazyLinear(20), FixedHiddenMLP())\n",
    "chimera(X)"
   ]
  }
 ],
 "metadata": {
  "kaggle": {
   "accelerator": "none",
   "dataSources": [],
   "dockerImageVersionId": 30804,
   "isGpuEnabled": false,
   "isInternetEnabled": true,
   "language": "python",
   "sourceType": "notebook"
  },
  "kernelspec": {
   "display_name": "Python 3",
   "language": "python",
   "name": "python3"
  },
  "language_info": {
   "codemirror_mode": {
    "name": "ipython",
    "version": 3
   },
   "file_extension": ".py",
   "mimetype": "text/x-python",
   "name": "python",
   "nbconvert_exporter": "python",
   "pygments_lexer": "ipython3",
   "version": "3.10.14"
  },
  "papermill": {
   "default_parameters": {},
   "duration": 7.969089,
   "end_time": "2024-12-04T07:02:42.364255",
   "environment_variables": {},
   "exception": null,
   "input_path": "__notebook__.ipynb",
   "output_path": "__notebook__.ipynb",
   "parameters": {},
   "start_time": "2024-12-04T07:02:34.395166",
   "version": "2.6.0"
  }
 },
 "nbformat": 4,
 "nbformat_minor": 5
}
