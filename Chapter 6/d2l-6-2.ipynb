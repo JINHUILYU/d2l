{
 "cells": [
  {
   "cell_type": "code",
   "execution_count": 1,
   "id": "ffc30e2e",
   "metadata": {
    "_cell_guid": "b1076dfc-b9ad-4769-8c92-a6c4dae69d19",
    "_uuid": "8f2839f25d086af736a60e9eeb907d3b93b6e0e5",
    "execution": {
     "iopub.execute_input": "2024-12-04T08:29:11.410011Z",
     "iopub.status.busy": "2024-12-04T08:29:11.409619Z",
     "iopub.status.idle": "2024-12-04T08:29:12.283427Z",
     "shell.execute_reply": "2024-12-04T08:29:12.282559Z"
    },
    "papermill": {
     "duration": 0.880766,
     "end_time": "2024-12-04T08:29:12.285777",
     "exception": false,
     "start_time": "2024-12-04T08:29:11.405011",
     "status": "completed"
    },
    "tags": []
   },
   "outputs": [],
   "source": [
    "# This Python 3 environment comes with many helpful analytics libraries installed\n",
    "# It is defined by the kaggle/python Docker image: https://github.com/kaggle/docker-python\n",
    "# For example, here's several helpful packages to load\n",
    "\n",
    "import numpy as np # linear algebra\n",
    "import pandas as pd # data processing, CSV file I/O (e.g. pd.read_csv)\n",
    "\n",
    "# Input data files are available in the read-only \"../input/\" directory\n",
    "# For example, running this (by clicking run or pressing Shift+Enter) will list all files under the input directory\n",
    "\n",
    "import os\n",
    "for dirname, _, filenames in os.walk('/kaggle/input'):\n",
    "    for filename in filenames:\n",
    "        print(os.path.join(dirname, filename))\n",
    "\n",
    "# You can write up to 20GB to the current directory (/kaggle/working/) that gets preserved as output when you create a version using \"Save & Run All\" \n",
    "# You can also write temporary files to /kaggle/temp/, but they won't be saved outside of the current session"
   ]
  },
  {
   "cell_type": "markdown",
   "id": "3b3346f5",
   "metadata": {
    "papermill": {
     "duration": 0.002409,
     "end_time": "2024-12-04T08:29:12.291277",
     "exception": false,
     "start_time": "2024-12-04T08:29:12.288868",
     "status": "completed"
    },
    "tags": []
   },
   "source": [
    "# Parameter Management"
   ]
  },
  {
   "cell_type": "code",
   "execution_count": 2,
   "id": "410570f5",
   "metadata": {
    "execution": {
     "iopub.execute_input": "2024-12-04T08:29:12.298383Z",
     "iopub.status.busy": "2024-12-04T08:29:12.297872Z",
     "iopub.status.idle": "2024-12-04T08:29:15.245666Z",
     "shell.execute_reply": "2024-12-04T08:29:15.244761Z"
    },
    "papermill": {
     "duration": 2.953912,
     "end_time": "2024-12-04T08:29:15.247885",
     "exception": false,
     "start_time": "2024-12-04T08:29:12.293973",
     "status": "completed"
    },
    "tags": []
   },
   "outputs": [],
   "source": [
    "import torch\n",
    "from torch import nn"
   ]
  },
  {
   "cell_type": "code",
   "execution_count": 3,
   "id": "c5287616",
   "metadata": {
    "execution": {
     "iopub.execute_input": "2024-12-04T08:29:15.255073Z",
     "iopub.status.busy": "2024-12-04T08:29:15.254269Z",
     "iopub.status.idle": "2024-12-04T08:29:15.463107Z",
     "shell.execute_reply": "2024-12-04T08:29:15.461995Z"
    },
    "papermill": {
     "duration": 0.214488,
     "end_time": "2024-12-04T08:29:15.465103",
     "exception": false,
     "start_time": "2024-12-04T08:29:15.250615",
     "status": "completed"
    },
    "tags": []
   },
   "outputs": [
    {
     "data": {
      "text/plain": [
       "torch.Size([2, 1])"
      ]
     },
     "execution_count": 3,
     "metadata": {},
     "output_type": "execute_result"
    }
   ],
   "source": [
    "# 具有一个隐藏层的 MLP\n",
    "net = nn.Sequential(nn.LazyLinear(8),  # 第一个线性层，将输入映射到8个输出单元 (隐藏层)\n",
    "                    nn.ReLU(),  # 激活函数\n",
    "                    nn.LazyLinear(1))  # 第二个线性层，将8个输入映射到1个输出单元\n",
    "\n",
    "X = torch.rand(size=(2, 4))\n",
    "net(X).shape"
   ]
  },
  {
   "cell_type": "code",
   "execution_count": 4,
   "id": "2e536f9e",
   "metadata": {
    "execution": {
     "iopub.execute_input": "2024-12-04T08:29:15.472472Z",
     "iopub.status.busy": "2024-12-04T08:29:15.471833Z",
     "iopub.status.idle": "2024-12-04T08:29:15.524522Z",
     "shell.execute_reply": "2024-12-04T08:29:15.523432Z"
    },
    "papermill": {
     "duration": 0.058482,
     "end_time": "2024-12-04T08:29:15.526502",
     "exception": false,
     "start_time": "2024-12-04T08:29:15.468020",
     "status": "completed"
    },
    "tags": []
   },
   "outputs": [
    {
     "data": {
      "text/plain": [
       "OrderedDict([('weight',\n",
       "              tensor([[-0.1293, -0.1664,  0.1976, -0.2060, -0.2076, -0.2265,  0.2052,  0.1212]])),\n",
       "             ('bias', tensor([0.0153]))])"
      ]
     },
     "execution_count": 4,
     "metadata": {},
     "output_type": "execute_result"
    }
   ],
   "source": [
    "net[2].state_dict()  # 通过索引获得权重参数"
   ]
  },
  {
   "cell_type": "code",
   "execution_count": 5,
   "id": "617abcf7",
   "metadata": {
    "execution": {
     "iopub.execute_input": "2024-12-04T08:29:15.533866Z",
     "iopub.status.busy": "2024-12-04T08:29:15.533437Z",
     "iopub.status.idle": "2024-12-04T08:29:15.541100Z",
     "shell.execute_reply": "2024-12-04T08:29:15.540076Z"
    },
    "papermill": {
     "duration": 0.013591,
     "end_time": "2024-12-04T08:29:15.542940",
     "exception": false,
     "start_time": "2024-12-04T08:29:15.529349",
     "status": "completed"
    },
    "tags": []
   },
   "outputs": [
    {
     "data": {
      "text/plain": [
       "tensor([[0.5922, 0.6869, 0.4482, 0.1364],\n",
       "        [0.2770, 0.1608, 0.4327, 0.7418]])"
      ]
     },
     "execution_count": 5,
     "metadata": {},
     "output_type": "execute_result"
    }
   ],
   "source": [
    "X"
   ]
  },
  {
   "cell_type": "code",
   "execution_count": 6,
   "id": "bae871f4",
   "metadata": {
    "execution": {
     "iopub.execute_input": "2024-12-04T08:29:15.550758Z",
     "iopub.status.busy": "2024-12-04T08:29:15.550071Z",
     "iopub.status.idle": "2024-12-04T08:29:15.558314Z",
     "shell.execute_reply": "2024-12-04T08:29:15.557247Z"
    },
    "papermill": {
     "duration": 0.014478,
     "end_time": "2024-12-04T08:29:15.560411",
     "exception": false,
     "start_time": "2024-12-04T08:29:15.545933",
     "status": "completed"
    },
    "tags": []
   },
   "outputs": [
    {
     "data": {
      "text/plain": [
       "(torch.nn.parameter.Parameter, tensor([0.0153]))"
      ]
     },
     "execution_count": 6,
     "metadata": {},
     "output_type": "execute_result"
    }
   ],
   "source": [
    "type(net[2].bias), net[2].bias.data"
   ]
  },
  {
   "cell_type": "code",
   "execution_count": 7,
   "id": "0aac7f18",
   "metadata": {
    "execution": {
     "iopub.execute_input": "2024-12-04T08:29:15.568395Z",
     "iopub.status.busy": "2024-12-04T08:29:15.568018Z",
     "iopub.status.idle": "2024-12-04T08:29:15.575313Z",
     "shell.execute_reply": "2024-12-04T08:29:15.574374Z"
    },
    "papermill": {
     "duration": 0.013829,
     "end_time": "2024-12-04T08:29:15.577379",
     "exception": false,
     "start_time": "2024-12-04T08:29:15.563550",
     "status": "completed"
    },
    "tags": []
   },
   "outputs": [
    {
     "data": {
      "text/plain": [
       "[('0.weight', torch.Size([8, 4])),\n",
       " ('0.bias', torch.Size([8])),\n",
       " ('2.weight', torch.Size([1, 8])),\n",
       " ('2.bias', torch.Size([1]))]"
      ]
     },
     "execution_count": 7,
     "metadata": {},
     "output_type": "execute_result"
    }
   ],
   "source": [
    "[(name, param.shape) for name, param in net.named_parameters()]"
   ]
  },
  {
   "cell_type": "code",
   "execution_count": 8,
   "id": "55eebcc2",
   "metadata": {
    "execution": {
     "iopub.execute_input": "2024-12-04T08:29:15.585602Z",
     "iopub.status.busy": "2024-12-04T08:29:15.584845Z",
     "iopub.status.idle": "2024-12-04T08:29:15.597163Z",
     "shell.execute_reply": "2024-12-04T08:29:15.596100Z"
    },
    "papermill": {
     "duration": 0.018728,
     "end_time": "2024-12-04T08:29:15.599339",
     "exception": false,
     "start_time": "2024-12-04T08:29:15.580611",
     "status": "completed"
    },
    "tags": []
   },
   "outputs": [
    {
     "name": "stdout",
     "output_type": "stream",
     "text": [
      "tensor([True, True, True, True, True, True, True, True])\n",
      "tensor([True, True, True, True, True, True, True, True])\n"
     ]
    }
   ],
   "source": [
    "# We need to give the shared layer a name so that we can refer to its\n",
    "# parameters\n",
    "shared = nn.LazyLinear(8)\n",
    "net = nn.Sequential(nn.LazyLinear(8), nn.ReLU(),\n",
    "                    shared, nn.ReLU(),\n",
    "                    shared, nn.ReLU(),\n",
    "                    nn.LazyLinear(1))\n",
    "\n",
    "net(X)\n",
    "# Check whether the parameters are the same\n",
    "print(net[2].weight.data[0] == net[4].weight.data[0])\n",
    "net[2].weight.data[0, 0] = 100\n",
    "# Make sure that they are actually the same object rather than just having the\n",
    "# same value\n",
    "print(net[2].weight.data[0] == net[4].weight.data[0])"
   ]
  }
 ],
 "metadata": {
  "kaggle": {
   "accelerator": "none",
   "dataSources": [],
   "dockerImageVersionId": 30804,
   "isGpuEnabled": false,
   "isInternetEnabled": true,
   "language": "python",
   "sourceType": "notebook"
  },
  "kernelspec": {
   "display_name": "Python 3",
   "language": "python",
   "name": "python3"
  },
  "language_info": {
   "codemirror_mode": {
    "name": "ipython",
    "version": 3
   },
   "file_extension": ".py",
   "mimetype": "text/x-python",
   "name": "python",
   "nbconvert_exporter": "python",
   "pygments_lexer": "ipython3",
   "version": "3.10.14"
  },
  "papermill": {
   "default_parameters": {},
   "duration": 7.824121,
   "end_time": "2024-12-04T08:29:16.525198",
   "environment_variables": {},
   "exception": null,
   "input_path": "__notebook__.ipynb",
   "output_path": "__notebook__.ipynb",
   "parameters": {},
   "start_time": "2024-12-04T08:29:08.701077",
   "version": "2.6.0"
  }
 },
 "nbformat": 4,
 "nbformat_minor": 5
}
