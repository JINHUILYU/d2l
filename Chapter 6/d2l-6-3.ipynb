{
 "cells": [
  {
   "cell_type": "code",
   "execution_count": 1,
   "id": "593c6ea5",
   "metadata": {
    "_cell_guid": "b1076dfc-b9ad-4769-8c92-a6c4dae69d19",
    "_uuid": "8f2839f25d086af736a60e9eeb907d3b93b6e0e5",
    "execution": {
     "iopub.execute_input": "2024-12-04T08:40:44.916256Z",
     "iopub.status.busy": "2024-12-04T08:40:44.915833Z",
     "iopub.status.idle": "2024-12-04T08:40:46.153476Z",
     "shell.execute_reply": "2024-12-04T08:40:46.151721Z"
    },
    "papermill": {
     "duration": 1.246399,
     "end_time": "2024-12-04T08:40:46.156325",
     "exception": false,
     "start_time": "2024-12-04T08:40:44.909926",
     "status": "completed"
    },
    "tags": []
   },
   "outputs": [],
   "source": [
    "# This Python 3 environment comes with many helpful analytics libraries installed\n",
    "# It is defined by the kaggle/python Docker image: https://github.com/kaggle/docker-python\n",
    "# For example, here's several helpful packages to load\n",
    "\n",
    "import numpy as np # linear algebra\n",
    "import pandas as pd # data processing, CSV file I/O (e.g. pd.read_csv)\n",
    "\n",
    "# Input data files are available in the read-only \"../input/\" directory\n",
    "# For example, running this (by clicking run or pressing Shift+Enter) will list all files under the input directory\n",
    "\n",
    "import os\n",
    "for dirname, _, filenames in os.walk('/kaggle/input'):\n",
    "    for filename in filenames:\n",
    "        print(os.path.join(dirname, filename))\n",
    "\n",
    "# You can write up to 20GB to the current directory (/kaggle/working/) that gets preserved as output when you create a version using \"Save & Run All\" \n",
    "# You can also write temporary files to /kaggle/temp/, but they won't be saved outside of the current session"
   ]
  },
  {
   "cell_type": "markdown",
   "id": "adff4540",
   "metadata": {
    "papermill": {
     "duration": 0.002744,
     "end_time": "2024-12-04T08:40:46.162513",
     "exception": false,
     "start_time": "2024-12-04T08:40:46.159769",
     "status": "completed"
    },
    "tags": []
   },
   "source": [
    "# Parameter Initialization"
   ]
  },
  {
   "cell_type": "code",
   "execution_count": 2,
   "id": "202b6004",
   "metadata": {
    "execution": {
     "iopub.execute_input": "2024-12-04T08:40:46.170850Z",
     "iopub.status.busy": "2024-12-04T08:40:46.170290Z",
     "iopub.status.idle": "2024-12-04T08:40:50.017081Z",
     "shell.execute_reply": "2024-12-04T08:40:50.015911Z"
    },
    "papermill": {
     "duration": 3.854825,
     "end_time": "2024-12-04T08:40:50.020242",
     "exception": false,
     "start_time": "2024-12-04T08:40:46.165417",
     "status": "completed"
    },
    "tags": []
   },
   "outputs": [],
   "source": [
    "import torch\n",
    "from torch import nn"
   ]
  },
  {
   "cell_type": "code",
   "execution_count": 3,
   "id": "164484ce",
   "metadata": {
    "execution": {
     "iopub.execute_input": "2024-12-04T08:40:50.029262Z",
     "iopub.status.busy": "2024-12-04T08:40:50.028619Z",
     "iopub.status.idle": "2024-12-04T08:40:50.285331Z",
     "shell.execute_reply": "2024-12-04T08:40:50.284111Z"
    },
    "papermill": {
     "duration": 0.264102,
     "end_time": "2024-12-04T08:40:50.288155",
     "exception": false,
     "start_time": "2024-12-04T08:40:50.024053",
     "status": "completed"
    },
    "tags": []
   },
   "outputs": [
    {
     "data": {
      "text/plain": [
       "torch.Size([2, 1])"
      ]
     },
     "execution_count": 3,
     "metadata": {},
     "output_type": "execute_result"
    }
   ],
   "source": [
    "net = nn.Sequential(nn.LazyLinear(8), nn.ReLU(), nn.LazyLinear(1))\n",
    "X = torch.rand(size=(2, 4))\n",
    "net(X).shape"
   ]
  },
  {
   "cell_type": "code",
   "execution_count": 4,
   "id": "cbdd3f5c",
   "metadata": {
    "execution": {
     "iopub.execute_input": "2024-12-04T08:40:50.298213Z",
     "iopub.status.busy": "2024-12-04T08:40:50.297045Z",
     "iopub.status.idle": "2024-12-04T08:40:50.368187Z",
     "shell.execute_reply": "2024-12-04T08:40:50.366920Z"
    },
    "papermill": {
     "duration": 0.078747,
     "end_time": "2024-12-04T08:40:50.370566",
     "exception": false,
     "start_time": "2024-12-04T08:40:50.291819",
     "status": "completed"
    },
    "tags": []
   },
   "outputs": [
    {
     "data": {
      "text/plain": [
       "(tensor([-0.0022,  0.0073,  0.0050, -0.0042]), tensor(0.))"
      ]
     },
     "execution_count": 4,
     "metadata": {},
     "output_type": "execute_result"
    }
   ],
   "source": [
    "def init_normal(module):\n",
    "    if type(module) == nn.Linear:\n",
    "        nn.init.normal_(module.weight, mean=0, std=0.01)  # 均值为0，标准差为0.01的高斯分布\n",
    "        nn.init.zeros_(module.bias)\n",
    "\n",
    "net.apply(init_normal)\n",
    "net[0].weight.data[0], net[0].bias.data[0]"
   ]
  },
  {
   "cell_type": "code",
   "execution_count": 5,
   "id": "049b3cf9",
   "metadata": {
    "execution": {
     "iopub.execute_input": "2024-12-04T08:40:50.378784Z",
     "iopub.status.busy": "2024-12-04T08:40:50.378405Z",
     "iopub.status.idle": "2024-12-04T08:40:50.390007Z",
     "shell.execute_reply": "2024-12-04T08:40:50.388466Z"
    },
    "papermill": {
     "duration": 0.018992,
     "end_time": "2024-12-04T08:40:50.392827",
     "exception": false,
     "start_time": "2024-12-04T08:40:50.373835",
     "status": "completed"
    },
    "tags": []
   },
   "outputs": [
    {
     "data": {
      "text/plain": [
       "(tensor([1., 1., 1., 1.]), tensor(0.))"
      ]
     },
     "execution_count": 5,
     "metadata": {},
     "output_type": "execute_result"
    }
   ],
   "source": [
    "def init_constant(module):\n",
    "    if type(module) == nn.Linear:\n",
    "        nn.init.constant_(module.weight, 1)  # 初始化为固定值1\n",
    "        nn.init.zeros_(module.bias)\n",
    "\n",
    "net.apply(init_constant)\n",
    "net[0].weight.data[0], net[0].bias.data[0]"
   ]
  },
  {
   "cell_type": "code",
   "execution_count": 6,
   "id": "01fe1d9d",
   "metadata": {
    "execution": {
     "iopub.execute_input": "2024-12-04T08:40:50.401990Z",
     "iopub.status.busy": "2024-12-04T08:40:50.401534Z",
     "iopub.status.idle": "2024-12-04T08:40:50.411985Z",
     "shell.execute_reply": "2024-12-04T08:40:50.410582Z"
    },
    "papermill": {
     "duration": 0.01786,
     "end_time": "2024-12-04T08:40:50.414573",
     "exception": false,
     "start_time": "2024-12-04T08:40:50.396713",
     "status": "completed"
    },
    "tags": []
   },
   "outputs": [
    {
     "name": "stdout",
     "output_type": "stream",
     "text": [
      "tensor([ 0.6799, -0.0825, -0.3397, -0.0844])\n",
      "tensor([[42., 42., 42., 42., 42., 42., 42., 42.]])\n"
     ]
    }
   ],
   "source": [
    "def init_xavier(module):\n",
    "    if type(module) == nn.Linear:\n",
    "        nn.init.xavier_uniform_(module.weight)  # 使用xavier初始化\n",
    "\n",
    "def init_42(module):\n",
    "    if type(module) == nn.Linear:\n",
    "        nn.init.constant_(module.weight, 42)  # 初始化为固定值42\n",
    "\n",
    "net[0].apply(init_xavier)\n",
    "net[2].apply(init_42)\n",
    "print(net[0].weight.data[0])\n",
    "print(net[2].weight.data)"
   ]
  },
  {
   "cell_type": "markdown",
   "id": "c0bdee52",
   "metadata": {
    "papermill": {
     "duration": 0.003107,
     "end_time": "2024-12-04T08:40:50.421147",
     "exception": false,
     "start_time": "2024-12-04T08:40:50.418040",
     "status": "completed"
    },
    "tags": []
   },
   "source": [
    "自定义初始化方式\n",
    "\n",
    "$$\r\n",
    "\\begin{aligned}\r\n",
    "    w \\sim \\begin{cases}\r\n",
    "        U(5, 10) & \\textrm{ with probability } \\frac{1}{4} \\\\\r\n",
    "            0    & \\textrm{ with probability } \\frac{1}{2} \\\\\r\n",
    "        U(-10, -5) & \\textrm{ with probability } \\frac{1}{4}\r\n",
    "    \\end{cases}\r\n",
    "\\end{aligned}\r\n",
    "$$"
   ]
  },
  {
   "cell_type": "code",
   "execution_count": 7,
   "id": "ef9f5659",
   "metadata": {
    "execution": {
     "iopub.execute_input": "2024-12-04T08:40:50.431404Z",
     "iopub.status.busy": "2024-12-04T08:40:50.430972Z",
     "iopub.status.idle": "2024-12-04T08:40:50.452787Z",
     "shell.execute_reply": "2024-12-04T08:40:50.451443Z"
    },
    "papermill": {
     "duration": 0.030829,
     "end_time": "2024-12-04T08:40:50.455431",
     "exception": false,
     "start_time": "2024-12-04T08:40:50.424602",
     "status": "completed"
    },
    "tags": []
   },
   "outputs": [
    {
     "name": "stdout",
     "output_type": "stream",
     "text": [
      "Init weight torch.Size([8, 4])\n",
      "Init weight torch.Size([1, 8])\n"
     ]
    },
    {
     "data": {
      "text/plain": [
       "tensor([[-5.9154, -9.7267,  0.0000,  5.1002],\n",
       "        [ 8.0050, -5.1499, -9.2415, -0.0000]], grad_fn=<SliceBackward0>)"
      ]
     },
     "execution_count": 7,
     "metadata": {},
     "output_type": "execute_result"
    }
   ],
   "source": [
    "def my_init(module):\n",
    "    if type(module) == nn.Linear:\n",
    "        print(\"Init\", *[(name, param.shape)\n",
    "                        for name, param in module.named_parameters()][0])\n",
    "        nn.init.uniform_(module.weight, -10, 10)\n",
    "        module.weight.data *= module.weight.data.abs() >= 5\n",
    "\n",
    "net.apply(my_init)\n",
    "net[0].weight[:2]"
   ]
  },
  {
   "cell_type": "code",
   "execution_count": 8,
   "id": "3fe9adbd",
   "metadata": {
    "execution": {
     "iopub.execute_input": "2024-12-04T08:40:50.465047Z",
     "iopub.status.busy": "2024-12-04T08:40:50.464642Z",
     "iopub.status.idle": "2024-12-04T08:40:50.477101Z",
     "shell.execute_reply": "2024-12-04T08:40:50.475731Z"
    },
    "papermill": {
     "duration": 0.020623,
     "end_time": "2024-12-04T08:40:50.479774",
     "exception": false,
     "start_time": "2024-12-04T08:40:50.459151",
     "status": "completed"
    },
    "tags": []
   },
   "outputs": [
    {
     "data": {
      "text/plain": [
       "tensor([42.0000, -8.7267,  1.0000,  6.1002])"
      ]
     },
     "execution_count": 8,
     "metadata": {},
     "output_type": "execute_result"
    }
   ],
   "source": [
    "net[0].weight.data[:] += 1\n",
    "net[0].weight.data[0, 0] = 42\n",
    "net[0].weight.data[0]"
   ]
  }
 ],
 "metadata": {
  "kaggle": {
   "accelerator": "none",
   "dataSources": [],
   "dockerImageVersionId": 30804,
   "isGpuEnabled": false,
   "isInternetEnabled": true,
   "language": "python",
   "sourceType": "notebook"
  },
  "kernelspec": {
   "display_name": "Python 3",
   "language": "python",
   "name": "python3"
  },
  "language_info": {
   "codemirror_mode": {
    "name": "ipython",
    "version": 3
   },
   "file_extension": ".py",
   "mimetype": "text/x-python",
   "name": "python",
   "nbconvert_exporter": "python",
   "pygments_lexer": "ipython3",
   "version": "3.10.14"
  },
  "papermill": {
   "default_parameters": {},
   "duration": 9.87896,
   "end_time": "2024-12-04T08:40:51.511912",
   "environment_variables": {},
   "exception": null,
   "input_path": "__notebook__.ipynb",
   "output_path": "__notebook__.ipynb",
   "parameters": {},
   "start_time": "2024-12-04T08:40:41.632952",
   "version": "2.6.0"
  }
 },
 "nbformat": 4,
 "nbformat_minor": 5
}
