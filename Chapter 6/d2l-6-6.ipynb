{
 "cells": [
  {
   "cell_type": "code",
   "execution_count": 1,
   "id": "dfb8d643",
   "metadata": {
    "_cell_guid": "b1076dfc-b9ad-4769-8c92-a6c4dae69d19",
    "_uuid": "8f2839f25d086af736a60e9eeb907d3b93b6e0e5",
    "execution": {
     "iopub.execute_input": "2024-12-04T11:40:04.093913Z",
     "iopub.status.busy": "2024-12-04T11:40:04.093428Z",
     "iopub.status.idle": "2024-12-04T11:40:04.947306Z",
     "shell.execute_reply": "2024-12-04T11:40:04.946159Z"
    },
    "papermill": {
     "duration": 0.861204,
     "end_time": "2024-12-04T11:40:04.949503",
     "exception": false,
     "start_time": "2024-12-04T11:40:04.088299",
     "status": "completed"
    },
    "tags": []
   },
   "outputs": [],
   "source": [
    "# This Python 3 environment comes with many helpful analytics libraries installed\n",
    "# It is defined by the kaggle/python Docker image: https://github.com/kaggle/docker-python\n",
    "# For example, here's several helpful packages to load\n",
    "\n",
    "import numpy as np # linear algebra\n",
    "import pandas as pd # data processing, CSV file I/O (e.g. pd.read_csv)\n",
    "\n",
    "# Input data files are available in the read-only \"../input/\" directory\n",
    "# For example, running this (by clicking run or pressing Shift+Enter) will list all files under the input directory\n",
    "\n",
    "import os\n",
    "for dirname, _, filenames in os.walk('/kaggle/input'):\n",
    "    for filename in filenames:\n",
    "        print(os.path.join(dirname, filename))\n",
    "\n",
    "# You can write up to 20GB to the current directory (/kaggle/working/) that gets preserved as output when you create a version using \"Save & Run All\" \n",
    "# You can also write temporary files to /kaggle/temp/, but they won't be saved outside of the current session"
   ]
  },
  {
   "cell_type": "markdown",
   "id": "6cbdd87c",
   "metadata": {
    "papermill": {
     "duration": 0.002637,
     "end_time": "2024-12-04T11:40:04.955186",
     "exception": false,
     "start_time": "2024-12-04T11:40:04.952549",
     "status": "completed"
    },
    "tags": []
   },
   "source": [
    "# File I/O"
   ]
  },
  {
   "cell_type": "code",
   "execution_count": 2,
   "id": "9fadfe68",
   "metadata": {
    "execution": {
     "iopub.execute_input": "2024-12-04T11:40:04.962128Z",
     "iopub.status.busy": "2024-12-04T11:40:04.961579Z",
     "iopub.status.idle": "2024-12-04T11:40:07.937379Z",
     "shell.execute_reply": "2024-12-04T11:40:07.936228Z"
    },
    "papermill": {
     "duration": 2.982099,
     "end_time": "2024-12-04T11:40:07.939832",
     "exception": false,
     "start_time": "2024-12-04T11:40:04.957733",
     "status": "completed"
    },
    "tags": []
   },
   "outputs": [],
   "source": [
    "import torch\n",
    "from torch import nn\n",
    "from torch.nn import functional as F"
   ]
  },
  {
   "cell_type": "code",
   "execution_count": 3,
   "id": "20fcffd7",
   "metadata": {
    "execution": {
     "iopub.execute_input": "2024-12-04T11:40:07.947454Z",
     "iopub.status.busy": "2024-12-04T11:40:07.946972Z",
     "iopub.status.idle": "2024-12-04T11:40:08.083965Z",
     "shell.execute_reply": "2024-12-04T11:40:08.082904Z"
    },
    "papermill": {
     "duration": 0.14331,
     "end_time": "2024-12-04T11:40:08.086204",
     "exception": false,
     "start_time": "2024-12-04T11:40:07.942894",
     "status": "completed"
    },
    "tags": []
   },
   "outputs": [],
   "source": [
    "x = torch.arange(4)\n",
    "torch.save(x, 'x-file')"
   ]
  },
  {
   "cell_type": "code",
   "execution_count": 4,
   "id": "1458caaa",
   "metadata": {
    "execution": {
     "iopub.execute_input": "2024-12-04T11:40:08.093620Z",
     "iopub.status.busy": "2024-12-04T11:40:08.093218Z",
     "iopub.status.idle": "2024-12-04T11:40:08.130819Z",
     "shell.execute_reply": "2024-12-04T11:40:08.129764Z"
    },
    "papermill": {
     "duration": 0.043998,
     "end_time": "2024-12-04T11:40:08.133101",
     "exception": false,
     "start_time": "2024-12-04T11:40:08.089103",
     "status": "completed"
    },
    "tags": []
   },
   "outputs": [
    {
     "data": {
      "text/plain": [
       "tensor([0, 1, 2, 3])"
      ]
     },
     "execution_count": 4,
     "metadata": {},
     "output_type": "execute_result"
    }
   ],
   "source": [
    "x2 = torch.load('x-file', weights_only=False)\n",
    "x2"
   ]
  },
  {
   "cell_type": "code",
   "execution_count": 5,
   "id": "75ea9539",
   "metadata": {
    "execution": {
     "iopub.execute_input": "2024-12-04T11:40:08.140524Z",
     "iopub.status.busy": "2024-12-04T11:40:08.140155Z",
     "iopub.status.idle": "2024-12-04T11:40:08.182679Z",
     "shell.execute_reply": "2024-12-04T11:40:08.181475Z"
    },
    "papermill": {
     "duration": 0.048882,
     "end_time": "2024-12-04T11:40:08.184997",
     "exception": false,
     "start_time": "2024-12-04T11:40:08.136115",
     "status": "completed"
    },
    "tags": []
   },
   "outputs": [
    {
     "data": {
      "text/plain": [
       "(tensor([0, 1, 2, 3]), tensor([0., 0., 0., 0.]))"
      ]
     },
     "execution_count": 5,
     "metadata": {},
     "output_type": "execute_result"
    }
   ],
   "source": [
    "y = torch.zeros(4)\n",
    "torch.save([x, y],'x-files')\n",
    "x2, y2 = torch.load('x-files', weights_only=False)\n",
    "(x2, y2)"
   ]
  },
  {
   "cell_type": "code",
   "execution_count": 6,
   "id": "3a1fce6c",
   "metadata": {
    "execution": {
     "iopub.execute_input": "2024-12-04T11:40:08.192948Z",
     "iopub.status.busy": "2024-12-04T11:40:08.192459Z",
     "iopub.status.idle": "2024-12-04T11:40:08.202107Z",
     "shell.execute_reply": "2024-12-04T11:40:08.201085Z"
    },
    "papermill": {
     "duration": 0.016119,
     "end_time": "2024-12-04T11:40:08.204287",
     "exception": false,
     "start_time": "2024-12-04T11:40:08.188168",
     "status": "completed"
    },
    "tags": []
   },
   "outputs": [
    {
     "data": {
      "text/plain": [
       "{'x': tensor([0, 1, 2, 3]), 'y': tensor([0., 0., 0., 0.])}"
      ]
     },
     "execution_count": 6,
     "metadata": {},
     "output_type": "execute_result"
    }
   ],
   "source": [
    "mydict = {'x': x, 'y': y}\n",
    "torch.save(mydict, 'mydict')\n",
    "mydict2 = torch.load('mydict', weights_only=False)\n",
    "mydict2"
   ]
  },
  {
   "cell_type": "code",
   "execution_count": 7,
   "id": "c6d6f5f8",
   "metadata": {
    "execution": {
     "iopub.execute_input": "2024-12-04T11:40:08.212401Z",
     "iopub.status.busy": "2024-12-04T11:40:08.212017Z",
     "iopub.status.idle": "2024-12-04T11:40:08.251828Z",
     "shell.execute_reply": "2024-12-04T11:40:08.250601Z"
    },
    "papermill": {
     "duration": 0.046612,
     "end_time": "2024-12-04T11:40:08.254190",
     "exception": false,
     "start_time": "2024-12-04T11:40:08.207578",
     "status": "completed"
    },
    "tags": []
   },
   "outputs": [],
   "source": [
    "class MLP(nn.Module):\n",
    "    def __init__(self):\n",
    "        super().__init__()\n",
    "        self.hidden = nn.LazyLinear(256)\n",
    "        self.output = nn.LazyLinear(10)\n",
    "\n",
    "    def forward(self, x):\n",
    "        return self.output(F.relu(self.hidden(x)))\n",
    "\n",
    "net = MLP()\n",
    "X = torch.randn(size=(2, 20))\n",
    "Y = net(X)"
   ]
  },
  {
   "cell_type": "code",
   "execution_count": 8,
   "id": "20d49b59",
   "metadata": {
    "execution": {
     "iopub.execute_input": "2024-12-04T11:40:08.263593Z",
     "iopub.status.busy": "2024-12-04T11:40:08.262726Z",
     "iopub.status.idle": "2024-12-04T11:40:08.269019Z",
     "shell.execute_reply": "2024-12-04T11:40:08.267933Z"
    },
    "papermill": {
     "duration": 0.012679,
     "end_time": "2024-12-04T11:40:08.271108",
     "exception": false,
     "start_time": "2024-12-04T11:40:08.258429",
     "status": "completed"
    },
    "tags": []
   },
   "outputs": [],
   "source": [
    "torch.save(net.state_dict(), 'mlp.params')"
   ]
  },
  {
   "cell_type": "code",
   "execution_count": 9,
   "id": "1a5243df",
   "metadata": {
    "execution": {
     "iopub.execute_input": "2024-12-04T11:40:08.278949Z",
     "iopub.status.busy": "2024-12-04T11:40:08.278510Z",
     "iopub.status.idle": "2024-12-04T11:40:08.288316Z",
     "shell.execute_reply": "2024-12-04T11:40:08.287300Z"
    },
    "papermill": {
     "duration": 0.016178,
     "end_time": "2024-12-04T11:40:08.290502",
     "exception": false,
     "start_time": "2024-12-04T11:40:08.274324",
     "status": "completed"
    },
    "tags": []
   },
   "outputs": [
    {
     "data": {
      "text/plain": [
       "MLP(\n",
       "  (hidden): LazyLinear(in_features=0, out_features=256, bias=True)\n",
       "  (output): LazyLinear(in_features=0, out_features=10, bias=True)\n",
       ")"
      ]
     },
     "execution_count": 9,
     "metadata": {},
     "output_type": "execute_result"
    }
   ],
   "source": [
    "clone = MLP()\n",
    "clone.load_state_dict(torch.load('mlp.params', weights_only=False))\n",
    "clone.eval()"
   ]
  },
  {
   "cell_type": "code",
   "execution_count": 10,
   "id": "4d7a0e59",
   "metadata": {
    "execution": {
     "iopub.execute_input": "2024-12-04T11:40:08.298896Z",
     "iopub.status.busy": "2024-12-04T11:40:08.298236Z",
     "iopub.status.idle": "2024-12-04T11:40:08.307200Z",
     "shell.execute_reply": "2024-12-04T11:40:08.306231Z"
    },
    "papermill": {
     "duration": 0.015402,
     "end_time": "2024-12-04T11:40:08.309266",
     "exception": false,
     "start_time": "2024-12-04T11:40:08.293864",
     "status": "completed"
    },
    "tags": []
   },
   "outputs": [
    {
     "data": {
      "text/plain": [
       "tensor([[True, True, True, True, True, True, True, True, True, True],\n",
       "        [True, True, True, True, True, True, True, True, True, True]])"
      ]
     },
     "execution_count": 10,
     "metadata": {},
     "output_type": "execute_result"
    }
   ],
   "source": [
    "Y_clone = clone(X)\n",
    "Y_clone == Y"
   ]
  }
 ],
 "metadata": {
  "kaggle": {
   "accelerator": "none",
   "dataSources": [],
   "dockerImageVersionId": 30804,
   "isGpuEnabled": false,
   "isInternetEnabled": true,
   "language": "python",
   "sourceType": "notebook"
  },
  "kernelspec": {
   "display_name": "Python 3",
   "language": "python",
   "name": "python3"
  },
  "language_info": {
   "codemirror_mode": {
    "name": "ipython",
    "version": 3
   },
   "file_extension": ".py",
   "mimetype": "text/x-python",
   "name": "python",
   "nbconvert_exporter": "python",
   "pygments_lexer": "ipython3",
   "version": "3.10.14"
  },
  "papermill": {
   "default_parameters": {},
   "duration": 7.752783,
   "end_time": "2024-12-04T11:40:09.234090",
   "environment_variables": {},
   "exception": null,
   "input_path": "__notebook__.ipynb",
   "output_path": "__notebook__.ipynb",
   "parameters": {},
   "start_time": "2024-12-04T11:40:01.481307",
   "version": "2.6.0"
  }
 },
 "nbformat": 4,
 "nbformat_minor": 5
}
