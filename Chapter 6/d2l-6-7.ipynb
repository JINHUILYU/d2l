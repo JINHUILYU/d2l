{
 "cells": [
  {
   "cell_type": "code",
   "execution_count": 1,
   "id": "5c055d3e",
   "metadata": {
    "_cell_guid": "b1076dfc-b9ad-4769-8c92-a6c4dae69d19",
    "_uuid": "8f2839f25d086af736a60e9eeb907d3b93b6e0e5",
    "execution": {
     "iopub.execute_input": "2024-12-04T11:55:02.474470Z",
     "iopub.status.busy": "2024-12-04T11:55:02.473624Z",
     "iopub.status.idle": "2024-12-04T11:55:03.288146Z",
     "shell.execute_reply": "2024-12-04T11:55:03.287211Z"
    },
    "papermill": {
     "duration": 0.822149,
     "end_time": "2024-12-04T11:55:03.290299",
     "exception": false,
     "start_time": "2024-12-04T11:55:02.468150",
     "status": "completed"
    },
    "tags": []
   },
   "outputs": [],
   "source": [
    "# This Python 3 environment comes with many helpful analytics libraries installed\n",
    "# It is defined by the kaggle/python Docker image: https://github.com/kaggle/docker-python\n",
    "# For example, here's several helpful packages to load\n",
    "\n",
    "import numpy as np # linear algebra\n",
    "import pandas as pd # data processing, CSV file I/O (e.g. pd.read_csv)\n",
    "\n",
    "# Input data files are available in the read-only \"../input/\" directory\n",
    "# For example, running this (by clicking run or pressing Shift+Enter) will list all files under the input directory\n",
    "\n",
    "import os\n",
    "for dirname, _, filenames in os.walk('/kaggle/input'):\n",
    "    for filename in filenames:\n",
    "        print(os.path.join(dirname, filename))\n",
    "\n",
    "# You can write up to 20GB to the current directory (/kaggle/working/) that gets preserved as output when you create a version using \"Save & Run All\" \n",
    "# You can also write temporary files to /kaggle/temp/, but they won't be saved outside of the current session"
   ]
  },
  {
   "cell_type": "markdown",
   "id": "fd9a1a23",
   "metadata": {
    "papermill": {
     "duration": 0.003458,
     "end_time": "2024-12-04T11:55:03.297736",
     "exception": false,
     "start_time": "2024-12-04T11:55:03.294278",
     "status": "completed"
    },
    "tags": []
   },
   "source": [
    "# GPUs"
   ]
  },
  {
   "cell_type": "code",
   "execution_count": 2,
   "id": "2670a38a",
   "metadata": {
    "collapsed": true,
    "execution": {
     "iopub.execute_input": "2024-12-04T11:55:03.306157Z",
     "iopub.status.busy": "2024-12-04T11:55:03.305748Z",
     "iopub.status.idle": "2024-12-04T11:55:51.858972Z",
     "shell.execute_reply": "2024-12-04T11:55:51.857727Z"
    },
    "jupyter": {
     "outputs_hidden": true
    },
    "papermill": {
     "duration": 48.56118,
     "end_time": "2024-12-04T11:55:51.862415",
     "exception": false,
     "start_time": "2024-12-04T11:55:03.301235",
     "status": "completed"
    },
    "tags": []
   },
   "outputs": [
    {
     "name": "stdout",
     "output_type": "stream",
     "text": [
      "Collecting d2l==1.0.3\r\n",
      "  Downloading d2l-1.0.3-py3-none-any.whl.metadata (556 bytes)\r\n",
      "Collecting jupyter==1.0.0 (from d2l==1.0.3)\r\n",
      "  Downloading jupyter-1.0.0-py2.py3-none-any.whl.metadata (995 bytes)\r\n",
      "Collecting numpy==1.23.5 (from d2l==1.0.3)\r\n",
      "  Downloading numpy-1.23.5-cp310-cp310-manylinux_2_17_x86_64.manylinux2014_x86_64.whl.metadata (2.3 kB)\r\n",
      "Collecting matplotlib==3.7.2 (from d2l==1.0.3)\r\n",
      "  Downloading matplotlib-3.7.2-cp310-cp310-manylinux_2_17_x86_64.manylinux2014_x86_64.whl.metadata (5.6 kB)\r\n",
      "Collecting matplotlib-inline==0.1.6 (from d2l==1.0.3)\r\n",
      "  Downloading matplotlib_inline-0.1.6-py3-none-any.whl.metadata (2.8 kB)\r\n",
      "Collecting requests==2.31.0 (from d2l==1.0.3)\r\n",
      "  Downloading requests-2.31.0-py3-none-any.whl.metadata (4.6 kB)\r\n",
      "Collecting pandas==2.0.3 (from d2l==1.0.3)\r\n",
      "  Downloading pandas-2.0.3-cp310-cp310-manylinux_2_17_x86_64.manylinux2014_x86_64.whl.metadata (18 kB)\r\n",
      "Collecting scipy==1.10.1 (from d2l==1.0.3)\r\n",
      "  Downloading scipy-1.10.1-cp310-cp310-manylinux_2_17_x86_64.manylinux2014_x86_64.whl.metadata (58 kB)\r\n",
      "\u001b[2K     \u001b[90m━━━━━━━━━━━━━━━━━━━━━━━━━━━━━━━━━━━━━━━━\u001b[0m \u001b[32m58.9/58.9 kB\u001b[0m \u001b[31m2.2 MB/s\u001b[0m eta \u001b[36m0:00:00\u001b[0m\r\n",
      "\u001b[?25hRequirement already satisfied: notebook in /opt/conda/lib/python3.10/site-packages (from jupyter==1.0.0->d2l==1.0.3) (6.5.7)\r\n",
      "Requirement already satisfied: qtconsole in /opt/conda/lib/python3.10/site-packages (from jupyter==1.0.0->d2l==1.0.3) (5.6.1)\r\n",
      "Requirement already satisfied: jupyter-console in /opt/conda/lib/python3.10/site-packages (from jupyter==1.0.0->d2l==1.0.3) (6.6.3)\r\n",
      "Requirement already satisfied: nbconvert in /opt/conda/lib/python3.10/site-packages (from jupyter==1.0.0->d2l==1.0.3) (6.4.5)\r\n",
      "Requirement already satisfied: ipykernel in /opt/conda/lib/python3.10/site-packages (from jupyter==1.0.0->d2l==1.0.3) (6.29.4)\r\n",
      "Requirement already satisfied: ipywidgets in /opt/conda/lib/python3.10/site-packages (from jupyter==1.0.0->d2l==1.0.3) (8.1.5)\r\n",
      "Requirement already satisfied: contourpy>=1.0.1 in /opt/conda/lib/python3.10/site-packages (from matplotlib==3.7.2->d2l==1.0.3) (1.2.1)\r\n",
      "Requirement already satisfied: cycler>=0.10 in /opt/conda/lib/python3.10/site-packages (from matplotlib==3.7.2->d2l==1.0.3) (0.12.1)\r\n",
      "Requirement already satisfied: fonttools>=4.22.0 in /opt/conda/lib/python3.10/site-packages (from matplotlib==3.7.2->d2l==1.0.3) (4.53.0)\r\n",
      "Requirement already satisfied: kiwisolver>=1.0.1 in /opt/conda/lib/python3.10/site-packages (from matplotlib==3.7.2->d2l==1.0.3) (1.4.5)\r\n",
      "Requirement already satisfied: packaging>=20.0 in /opt/conda/lib/python3.10/site-packages (from matplotlib==3.7.2->d2l==1.0.3) (21.3)\r\n",
      "Requirement already satisfied: pillow>=6.2.0 in /opt/conda/lib/python3.10/site-packages (from matplotlib==3.7.2->d2l==1.0.3) (10.3.0)\r\n",
      "Collecting pyparsing<3.1,>=2.3.1 (from matplotlib==3.7.2->d2l==1.0.3)\r\n",
      "  Downloading pyparsing-3.0.9-py3-none-any.whl.metadata (4.2 kB)\r\n",
      "Requirement already satisfied: python-dateutil>=2.7 in /opt/conda/lib/python3.10/site-packages (from matplotlib==3.7.2->d2l==1.0.3) (2.9.0.post0)\r\n",
      "Requirement already satisfied: traitlets in /opt/conda/lib/python3.10/site-packages (from matplotlib-inline==0.1.6->d2l==1.0.3) (5.14.3)\r\n",
      "Requirement already satisfied: pytz>=2020.1 in /opt/conda/lib/python3.10/site-packages (from pandas==2.0.3->d2l==1.0.3) (2024.1)\r\n",
      "Requirement already satisfied: tzdata>=2022.1 in /opt/conda/lib/python3.10/site-packages (from pandas==2.0.3->d2l==1.0.3) (2024.1)\r\n",
      "Requirement already satisfied: charset-normalizer<4,>=2 in /opt/conda/lib/python3.10/site-packages (from requests==2.31.0->d2l==1.0.3) (3.3.2)\r\n",
      "Requirement already satisfied: idna<4,>=2.5 in /opt/conda/lib/python3.10/site-packages (from requests==2.31.0->d2l==1.0.3) (3.7)\r\n",
      "Requirement already satisfied: urllib3<3,>=1.21.1 in /opt/conda/lib/python3.10/site-packages (from requests==2.31.0->d2l==1.0.3) (1.26.18)\r\n",
      "Requirement already satisfied: certifi>=2017.4.17 in /opt/conda/lib/python3.10/site-packages (from requests==2.31.0->d2l==1.0.3) (2024.6.2)\r\n",
      "Requirement already satisfied: six>=1.5 in /opt/conda/lib/python3.10/site-packages (from python-dateutil>=2.7->matplotlib==3.7.2->d2l==1.0.3) (1.16.0)\r\n",
      "Requirement already satisfied: comm>=0.1.1 in /opt/conda/lib/python3.10/site-packages (from ipykernel->jupyter==1.0.0->d2l==1.0.3) (0.2.2)\r\n",
      "Requirement already satisfied: debugpy>=1.6.5 in /opt/conda/lib/python3.10/site-packages (from ipykernel->jupyter==1.0.0->d2l==1.0.3) (1.8.1)\r\n",
      "Requirement already satisfied: ipython>=7.23.1 in /opt/conda/lib/python3.10/site-packages (from ipykernel->jupyter==1.0.0->d2l==1.0.3) (8.21.0)\r\n",
      "Requirement already satisfied: jupyter-client>=6.1.12 in /opt/conda/lib/python3.10/site-packages (from ipykernel->jupyter==1.0.0->d2l==1.0.3) (7.4.9)\r\n",
      "Requirement already satisfied: jupyter-core!=5.0.*,>=4.12 in /opt/conda/lib/python3.10/site-packages (from ipykernel->jupyter==1.0.0->d2l==1.0.3) (5.7.2)\r\n",
      "Requirement already satisfied: nest-asyncio in /opt/conda/lib/python3.10/site-packages (from ipykernel->jupyter==1.0.0->d2l==1.0.3) (1.6.0)\r\n",
      "Requirement already satisfied: psutil in /opt/conda/lib/python3.10/site-packages (from ipykernel->jupyter==1.0.0->d2l==1.0.3) (5.9.3)\r\n",
      "Requirement already satisfied: pyzmq>=24 in /opt/conda/lib/python3.10/site-packages (from ipykernel->jupyter==1.0.0->d2l==1.0.3) (26.0.3)\r\n",
      "Requirement already satisfied: tornado>=6.1 in /opt/conda/lib/python3.10/site-packages (from ipykernel->jupyter==1.0.0->d2l==1.0.3) (6.4.1)\r\n",
      "Requirement already satisfied: widgetsnbextension~=4.0.12 in /opt/conda/lib/python3.10/site-packages (from ipywidgets->jupyter==1.0.0->d2l==1.0.3) (4.0.13)\r\n",
      "Requirement already satisfied: jupyterlab-widgets~=3.0.12 in /opt/conda/lib/python3.10/site-packages (from ipywidgets->jupyter==1.0.0->d2l==1.0.3) (3.0.13)\r\n",
      "Requirement already satisfied: prompt-toolkit>=3.0.30 in /opt/conda/lib/python3.10/site-packages (from jupyter-console->jupyter==1.0.0->d2l==1.0.3) (3.0.47)\r\n",
      "Requirement already satisfied: pygments in /opt/conda/lib/python3.10/site-packages (from jupyter-console->jupyter==1.0.0->d2l==1.0.3) (2.18.0)\r\n",
      "Requirement already satisfied: mistune<2,>=0.8.1 in /opt/conda/lib/python3.10/site-packages (from nbconvert->jupyter==1.0.0->d2l==1.0.3) (0.8.4)\r\n",
      "Requirement already satisfied: jinja2>=2.4 in /opt/conda/lib/python3.10/site-packages (from nbconvert->jupyter==1.0.0->d2l==1.0.3) (3.1.4)\r\n",
      "Requirement already satisfied: jupyterlab-pygments in /opt/conda/lib/python3.10/site-packages (from nbconvert->jupyter==1.0.0->d2l==1.0.3) (0.3.0)\r\n",
      "Requirement already satisfied: nbformat>=4.4 in /opt/conda/lib/python3.10/site-packages (from nbconvert->jupyter==1.0.0->d2l==1.0.3) (5.10.4)\r\n",
      "Requirement already satisfied: entrypoints>=0.2.2 in /opt/conda/lib/python3.10/site-packages (from nbconvert->jupyter==1.0.0->d2l==1.0.3) (0.4)\r\n",
      "Requirement already satisfied: bleach in /opt/conda/lib/python3.10/site-packages (from nbconvert->jupyter==1.0.0->d2l==1.0.3) (6.1.0)\r\n",
      "Requirement already satisfied: pandocfilters>=1.4.1 in /opt/conda/lib/python3.10/site-packages (from nbconvert->jupyter==1.0.0->d2l==1.0.3) (1.5.0)\r\n",
      "Requirement already satisfied: testpath in /opt/conda/lib/python3.10/site-packages (from nbconvert->jupyter==1.0.0->d2l==1.0.3) (0.6.0)\r\n",
      "Requirement already satisfied: defusedxml in /opt/conda/lib/python3.10/site-packages (from nbconvert->jupyter==1.0.0->d2l==1.0.3) (0.7.1)\r\n",
      "Requirement already satisfied: beautifulsoup4 in /opt/conda/lib/python3.10/site-packages (from nbconvert->jupyter==1.0.0->d2l==1.0.3) (4.12.3)\r\n",
      "Requirement already satisfied: nbclient<0.6.0,>=0.5.0 in /opt/conda/lib/python3.10/site-packages (from nbconvert->jupyter==1.0.0->d2l==1.0.3) (0.5.13)\r\n",
      "Requirement already satisfied: MarkupSafe>=2.0 in /opt/conda/lib/python3.10/site-packages (from nbconvert->jupyter==1.0.0->d2l==1.0.3) (2.1.5)\r\n",
      "Requirement already satisfied: argon2-cffi in /opt/conda/lib/python3.10/site-packages (from notebook->jupyter==1.0.0->d2l==1.0.3) (23.1.0)\r\n",
      "Requirement already satisfied: ipython-genutils in /opt/conda/lib/python3.10/site-packages (from notebook->jupyter==1.0.0->d2l==1.0.3) (0.2.0)\r\n",
      "Requirement already satisfied: Send2Trash>=1.8.0 in /opt/conda/lib/python3.10/site-packages (from notebook->jupyter==1.0.0->d2l==1.0.3) (1.8.3)\r\n",
      "Requirement already satisfied: terminado>=0.8.3 in /opt/conda/lib/python3.10/site-packages (from notebook->jupyter==1.0.0->d2l==1.0.3) (0.18.1)\r\n",
      "Requirement already satisfied: prometheus-client in /opt/conda/lib/python3.10/site-packages (from notebook->jupyter==1.0.0->d2l==1.0.3) (0.20.0)\r\n",
      "Requirement already satisfied: nbclassic>=0.4.7 in /opt/conda/lib/python3.10/site-packages (from notebook->jupyter==1.0.0->d2l==1.0.3) (1.1.0)\r\n",
      "Requirement already satisfied: qtpy>=2.4.0 in /opt/conda/lib/python3.10/site-packages (from qtconsole->jupyter==1.0.0->d2l==1.0.3) (2.4.2)\r\n",
      "Requirement already satisfied: decorator in /opt/conda/lib/python3.10/site-packages (from ipython>=7.23.1->ipykernel->jupyter==1.0.0->d2l==1.0.3) (5.1.1)\r\n",
      "Requirement already satisfied: jedi>=0.16 in /opt/conda/lib/python3.10/site-packages (from ipython>=7.23.1->ipykernel->jupyter==1.0.0->d2l==1.0.3) (0.19.1)\r\n",
      "Requirement already satisfied: stack-data in /opt/conda/lib/python3.10/site-packages (from ipython>=7.23.1->ipykernel->jupyter==1.0.0->d2l==1.0.3) (0.6.2)\r\n",
      "Requirement already satisfied: exceptiongroup in /opt/conda/lib/python3.10/site-packages (from ipython>=7.23.1->ipykernel->jupyter==1.0.0->d2l==1.0.3) (1.2.0)\r\n",
      "Requirement already satisfied: pexpect>4.3 in /opt/conda/lib/python3.10/site-packages (from ipython>=7.23.1->ipykernel->jupyter==1.0.0->d2l==1.0.3) (4.9.0)\r\n",
      "Requirement already satisfied: platformdirs>=2.5 in /opt/conda/lib/python3.10/site-packages (from jupyter-core!=5.0.*,>=4.12->ipykernel->jupyter==1.0.0->d2l==1.0.3) (3.11.0)\r\n",
      "Requirement already satisfied: notebook-shim>=0.2.3 in /opt/conda/lib/python3.10/site-packages (from nbclassic>=0.4.7->notebook->jupyter==1.0.0->d2l==1.0.3) (0.2.4)\r\n",
      "Requirement already satisfied: fastjsonschema>=2.15 in /opt/conda/lib/python3.10/site-packages (from nbformat>=4.4->nbconvert->jupyter==1.0.0->d2l==1.0.3) (2.19.1)\r\n",
      "Requirement already satisfied: jsonschema>=2.6 in /opt/conda/lib/python3.10/site-packages (from nbformat>=4.4->nbconvert->jupyter==1.0.0->d2l==1.0.3) (4.22.0)\r\n",
      "Requirement already satisfied: wcwidth in /opt/conda/lib/python3.10/site-packages (from prompt-toolkit>=3.0.30->jupyter-console->jupyter==1.0.0->d2l==1.0.3) (0.2.13)\r\n",
      "Requirement already satisfied: ptyprocess in /opt/conda/lib/python3.10/site-packages (from terminado>=0.8.3->notebook->jupyter==1.0.0->d2l==1.0.3) (0.7.0)\r\n",
      "Requirement already satisfied: argon2-cffi-bindings in /opt/conda/lib/python3.10/site-packages (from argon2-cffi->notebook->jupyter==1.0.0->d2l==1.0.3) (21.2.0)\r\n",
      "Requirement already satisfied: soupsieve>1.2 in /opt/conda/lib/python3.10/site-packages (from beautifulsoup4->nbconvert->jupyter==1.0.0->d2l==1.0.3) (2.5)\r\n",
      "Requirement already satisfied: webencodings in /opt/conda/lib/python3.10/site-packages (from bleach->nbconvert->jupyter==1.0.0->d2l==1.0.3) (0.5.1)\r\n",
      "Requirement already satisfied: parso<0.9.0,>=0.8.3 in /opt/conda/lib/python3.10/site-packages (from jedi>=0.16->ipython>=7.23.1->ipykernel->jupyter==1.0.0->d2l==1.0.3) (0.8.4)\r\n",
      "Requirement already satisfied: attrs>=22.2.0 in /opt/conda/lib/python3.10/site-packages (from jsonschema>=2.6->nbformat>=4.4->nbconvert->jupyter==1.0.0->d2l==1.0.3) (23.2.0)\r\n",
      "Requirement already satisfied: jsonschema-specifications>=2023.03.6 in /opt/conda/lib/python3.10/site-packages (from jsonschema>=2.6->nbformat>=4.4->nbconvert->jupyter==1.0.0->d2l==1.0.3) (2023.12.1)\r\n",
      "Requirement already satisfied: referencing>=0.28.4 in /opt/conda/lib/python3.10/site-packages (from jsonschema>=2.6->nbformat>=4.4->nbconvert->jupyter==1.0.0->d2l==1.0.3) (0.35.1)\r\n",
      "Requirement already satisfied: rpds-py>=0.7.1 in /opt/conda/lib/python3.10/site-packages (from jsonschema>=2.6->nbformat>=4.4->nbconvert->jupyter==1.0.0->d2l==1.0.3) (0.18.1)\r\n",
      "Requirement already satisfied: jupyter-server<3,>=1.8 in /opt/conda/lib/python3.10/site-packages (from notebook-shim>=0.2.3->nbclassic>=0.4.7->notebook->jupyter==1.0.0->d2l==1.0.3) (2.12.5)\r\n",
      "Requirement already satisfied: cffi>=1.0.1 in /opt/conda/lib/python3.10/site-packages (from argon2-cffi-bindings->argon2-cffi->notebook->jupyter==1.0.0->d2l==1.0.3) (1.16.0)\r\n",
      "Requirement already satisfied: executing>=1.2.0 in /opt/conda/lib/python3.10/site-packages (from stack-data->ipython>=7.23.1->ipykernel->jupyter==1.0.0->d2l==1.0.3) (2.0.1)\r\n",
      "Requirement already satisfied: asttokens>=2.1.0 in /opt/conda/lib/python3.10/site-packages (from stack-data->ipython>=7.23.1->ipykernel->jupyter==1.0.0->d2l==1.0.3) (2.4.1)\r\n",
      "Requirement already satisfied: pure-eval in /opt/conda/lib/python3.10/site-packages (from stack-data->ipython>=7.23.1->ipykernel->jupyter==1.0.0->d2l==1.0.3) (0.2.2)\r\n",
      "Requirement already satisfied: pycparser in /opt/conda/lib/python3.10/site-packages (from cffi>=1.0.1->argon2-cffi-bindings->argon2-cffi->notebook->jupyter==1.0.0->d2l==1.0.3) (2.22)\r\n",
      "Requirement already satisfied: anyio>=3.1.0 in /opt/conda/lib/python3.10/site-packages (from jupyter-server<3,>=1.8->notebook-shim>=0.2.3->nbclassic>=0.4.7->notebook->jupyter==1.0.0->d2l==1.0.3) (4.4.0)\r\n",
      "Requirement already satisfied: jupyter-events>=0.9.0 in /opt/conda/lib/python3.10/site-packages (from jupyter-server<3,>=1.8->notebook-shim>=0.2.3->nbclassic>=0.4.7->notebook->jupyter==1.0.0->d2l==1.0.3) (0.10.0)\r\n",
      "Requirement already satisfied: jupyter-server-terminals in /opt/conda/lib/python3.10/site-packages (from jupyter-server<3,>=1.8->notebook-shim>=0.2.3->nbclassic>=0.4.7->notebook->jupyter==1.0.0->d2l==1.0.3) (0.5.3)\r\n",
      "Requirement already satisfied: overrides in /opt/conda/lib/python3.10/site-packages (from jupyter-server<3,>=1.8->notebook-shim>=0.2.3->nbclassic>=0.4.7->notebook->jupyter==1.0.0->d2l==1.0.3) (7.7.0)\r\n",
      "Requirement already satisfied: websocket-client in /opt/conda/lib/python3.10/site-packages (from jupyter-server<3,>=1.8->notebook-shim>=0.2.3->nbclassic>=0.4.7->notebook->jupyter==1.0.0->d2l==1.0.3) (1.8.0)\r\n",
      "Requirement already satisfied: sniffio>=1.1 in /opt/conda/lib/python3.10/site-packages (from anyio>=3.1.0->jupyter-server<3,>=1.8->notebook-shim>=0.2.3->nbclassic>=0.4.7->notebook->jupyter==1.0.0->d2l==1.0.3) (1.3.1)\r\n",
      "Requirement already satisfied: typing-extensions>=4.1 in /opt/conda/lib/python3.10/site-packages (from anyio>=3.1.0->jupyter-server<3,>=1.8->notebook-shim>=0.2.3->nbclassic>=0.4.7->notebook->jupyter==1.0.0->d2l==1.0.3) (4.12.2)\r\n",
      "Requirement already satisfied: python-json-logger>=2.0.4 in /opt/conda/lib/python3.10/site-packages (from jupyter-events>=0.9.0->jupyter-server<3,>=1.8->notebook-shim>=0.2.3->nbclassic>=0.4.7->notebook->jupyter==1.0.0->d2l==1.0.3) (2.0.7)\r\n",
      "Requirement already satisfied: pyyaml>=5.3 in /opt/conda/lib/python3.10/site-packages (from jupyter-events>=0.9.0->jupyter-server<3,>=1.8->notebook-shim>=0.2.3->nbclassic>=0.4.7->notebook->jupyter==1.0.0->d2l==1.0.3) (6.0.2)\r\n",
      "Requirement already satisfied: rfc3339-validator in /opt/conda/lib/python3.10/site-packages (from jupyter-events>=0.9.0->jupyter-server<3,>=1.8->notebook-shim>=0.2.3->nbclassic>=0.4.7->notebook->jupyter==1.0.0->d2l==1.0.3) (0.1.4)\r\n",
      "Requirement already satisfied: rfc3986-validator>=0.1.1 in /opt/conda/lib/python3.10/site-packages (from jupyter-events>=0.9.0->jupyter-server<3,>=1.8->notebook-shim>=0.2.3->nbclassic>=0.4.7->notebook->jupyter==1.0.0->d2l==1.0.3) (0.1.1)\r\n",
      "Requirement already satisfied: fqdn in /opt/conda/lib/python3.10/site-packages (from jsonschema[format-nongpl]>=4.18.0->jupyter-events>=0.9.0->jupyter-server<3,>=1.8->notebook-shim>=0.2.3->nbclassic>=0.4.7->notebook->jupyter==1.0.0->d2l==1.0.3) (1.5.1)\r\n",
      "Requirement already satisfied: isoduration in /opt/conda/lib/python3.10/site-packages (from jsonschema[format-nongpl]>=4.18.0->jupyter-events>=0.9.0->jupyter-server<3,>=1.8->notebook-shim>=0.2.3->nbclassic>=0.4.7->notebook->jupyter==1.0.0->d2l==1.0.3) (20.11.0)\r\n",
      "Requirement already satisfied: jsonpointer>1.13 in /opt/conda/lib/python3.10/site-packages (from jsonschema[format-nongpl]>=4.18.0->jupyter-events>=0.9.0->jupyter-server<3,>=1.8->notebook-shim>=0.2.3->nbclassic>=0.4.7->notebook->jupyter==1.0.0->d2l==1.0.3) (2.4)\r\n",
      "Requirement already satisfied: uri-template in /opt/conda/lib/python3.10/site-packages (from jsonschema[format-nongpl]>=4.18.0->jupyter-events>=0.9.0->jupyter-server<3,>=1.8->notebook-shim>=0.2.3->nbclassic>=0.4.7->notebook->jupyter==1.0.0->d2l==1.0.3) (1.3.0)\r\n",
      "Requirement already satisfied: webcolors>=1.11 in /opt/conda/lib/python3.10/site-packages (from jsonschema[format-nongpl]>=4.18.0->jupyter-events>=0.9.0->jupyter-server<3,>=1.8->notebook-shim>=0.2.3->nbclassic>=0.4.7->notebook->jupyter==1.0.0->d2l==1.0.3) (24.6.0)\r\n",
      "Requirement already satisfied: arrow>=0.15.0 in /opt/conda/lib/python3.10/site-packages (from isoduration->jsonschema[format-nongpl]>=4.18.0->jupyter-events>=0.9.0->jupyter-server<3,>=1.8->notebook-shim>=0.2.3->nbclassic>=0.4.7->notebook->jupyter==1.0.0->d2l==1.0.3) (1.3.0)\r\n",
      "Requirement already satisfied: types-python-dateutil>=2.8.10 in /opt/conda/lib/python3.10/site-packages (from arrow>=0.15.0->isoduration->jsonschema[format-nongpl]>=4.18.0->jupyter-events>=0.9.0->jupyter-server<3,>=1.8->notebook-shim>=0.2.3->nbclassic>=0.4.7->notebook->jupyter==1.0.0->d2l==1.0.3) (2.9.0.20240316)\r\n",
      "Downloading d2l-1.0.3-py3-none-any.whl (111 kB)\r\n",
      "\u001b[2K   \u001b[90m━━━━━━━━━━━━━━━━━━━━━━━━━━━━━━━━━━━━━━━━\u001b[0m \u001b[32m111.7/111.7 kB\u001b[0m \u001b[31m4.6 MB/s\u001b[0m eta \u001b[36m0:00:00\u001b[0m\r\n",
      "\u001b[?25hDownloading jupyter-1.0.0-py2.py3-none-any.whl (2.7 kB)\r\n",
      "Downloading matplotlib-3.7.2-cp310-cp310-manylinux_2_17_x86_64.manylinux2014_x86_64.whl (11.6 MB)\r\n",
      "\u001b[2K   \u001b[90m━━━━━━━━━━━━━━━━━━━━━━━━━━━━━━━━━━━━━━━━\u001b[0m \u001b[32m11.6/11.6 MB\u001b[0m \u001b[31m24.5 MB/s\u001b[0m eta \u001b[36m0:00:00\u001b[0m\r\n",
      "\u001b[?25hDownloading matplotlib_inline-0.1.6-py3-none-any.whl (9.4 kB)\r\n",
      "Downloading numpy-1.23.5-cp310-cp310-manylinux_2_17_x86_64.manylinux2014_x86_64.whl (17.1 MB)\r\n",
      "\u001b[2K   \u001b[90m━━━━━━━━━━━━━━━━━━━━━━━━━━━━━━━━━━━━━━━━\u001b[0m \u001b[32m17.1/17.1 MB\u001b[0m \u001b[31m91.0 MB/s\u001b[0m eta \u001b[36m0:00:00\u001b[0m\r\n",
      "\u001b[?25hDownloading pandas-2.0.3-cp310-cp310-manylinux_2_17_x86_64.manylinux2014_x86_64.whl (12.3 MB)\r\n",
      "\u001b[2K   \u001b[90m━━━━━━━━━━━━━━━━━━━━━━━━━━━━━━━━━━━━━━━━\u001b[0m \u001b[32m12.3/12.3 MB\u001b[0m \u001b[31m88.7 MB/s\u001b[0m eta \u001b[36m0:00:00\u001b[0m\r\n",
      "\u001b[?25hDownloading requests-2.31.0-py3-none-any.whl (62 kB)\r\n",
      "\u001b[2K   \u001b[90m━━━━━━━━━━━━━━━━━━━━━━━━━━━━━━━━━━━━━━━━\u001b[0m \u001b[32m62.6/62.6 kB\u001b[0m \u001b[31m3.2 MB/s\u001b[0m eta \u001b[36m0:00:00\u001b[0m\r\n",
      "\u001b[?25hDownloading scipy-1.10.1-cp310-cp310-manylinux_2_17_x86_64.manylinux2014_x86_64.whl (34.4 MB)\r\n",
      "\u001b[2K   \u001b[90m━━━━━━━━━━━━━━━━━━━━━━━━━━━━━━━━━━━━━━━━\u001b[0m \u001b[32m34.4/34.4 MB\u001b[0m \u001b[31m52.5 MB/s\u001b[0m eta \u001b[36m0:00:00\u001b[0m\r\n",
      "\u001b[?25hDownloading pyparsing-3.0.9-py3-none-any.whl (98 kB)\r\n",
      "\u001b[2K   \u001b[90m━━━━━━━━━━━━━━━━━━━━━━━━━━━━━━━━━━━━━━━━\u001b[0m \u001b[32m98.3/98.3 kB\u001b[0m \u001b[31m4.7 MB/s\u001b[0m eta \u001b[36m0:00:00\u001b[0m\r\n",
      "\u001b[?25hInstalling collected packages: requests, pyparsing, numpy, matplotlib-inline, scipy, pandas, matplotlib, jupyter, d2l\r\n",
      "  Attempting uninstall: requests\r\n",
      "    Found existing installation: requests 2.32.3\r\n",
      "    Uninstalling requests-2.32.3:\r\n",
      "      Successfully uninstalled requests-2.32.3\r\n",
      "  Attempting uninstall: pyparsing\r\n",
      "    Found existing installation: pyparsing 3.1.2\r\n",
      "    Uninstalling pyparsing-3.1.2:\r\n",
      "      Successfully uninstalled pyparsing-3.1.2\r\n",
      "  Attempting uninstall: numpy\r\n",
      "    Found existing installation: numpy 1.26.4\r\n",
      "    Uninstalling numpy-1.26.4:\r\n",
      "      Successfully uninstalled numpy-1.26.4\r\n",
      "  Attempting uninstall: matplotlib-inline\r\n",
      "    Found existing installation: matplotlib-inline 0.1.7\r\n",
      "    Uninstalling matplotlib-inline-0.1.7:\r\n",
      "      Successfully uninstalled matplotlib-inline-0.1.7\r\n",
      "  Attempting uninstall: scipy\r\n",
      "    Found existing installation: scipy 1.14.1\r\n",
      "    Uninstalling scipy-1.14.1:\r\n",
      "      Successfully uninstalled scipy-1.14.1\r\n",
      "  Attempting uninstall: pandas\r\n",
      "    Found existing installation: pandas 2.2.3\r\n",
      "    Uninstalling pandas-2.2.3:\r\n",
      "      Successfully uninstalled pandas-2.2.3\r\n",
      "  Attempting uninstall: matplotlib\r\n",
      "    Found existing installation: matplotlib 3.7.5\r\n",
      "    Uninstalling matplotlib-3.7.5:\r\n",
      "      Successfully uninstalled matplotlib-3.7.5\r\n",
      "\u001b[31mERROR: pip's dependency resolver does not currently take into account all the packages that are installed. This behaviour is the source of the following dependency conflicts.\r\n",
      "cudf 24.10.1 requires cubinlinker, which is not installed.\r\n",
      "cudf 24.10.1 requires cupy-cuda11x>=12.0.0, which is not installed.\r\n",
      "cudf 24.10.1 requires libcudf==24.10.*, which is not installed.\r\n",
      "cudf 24.10.1 requires ptxcompiler, which is not installed.\r\n",
      "cuml 24.10.0 requires cupy-cuda11x>=12.0.0, which is not installed.\r\n",
      "cuml 24.10.0 requires cuvs==24.10.*, which is not installed.\r\n",
      "cuml 24.10.0 requires nvidia-cublas, which is not installed.\r\n",
      "cuml 24.10.0 requires nvidia-cufft, which is not installed.\r\n",
      "cuml 24.10.0 requires nvidia-curand, which is not installed.\r\n",
      "cuml 24.10.0 requires nvidia-cusolver, which is not installed.\r\n",
      "cuml 24.10.0 requires nvidia-cusparse, which is not installed.\r\n",
      "dask-cudf 24.10.1 requires cupy-cuda11x>=12.0.0, which is not installed.\r\n",
      "pylibcudf 24.10.1 requires libcudf==24.10.*, which is not installed.\r\n",
      "pylibraft 24.10.0 requires nvidia-cublas, which is not installed.\r\n",
      "pylibraft 24.10.0 requires nvidia-curand, which is not installed.\r\n",
      "pylibraft 24.10.0 requires nvidia-cusolver, which is not installed.\r\n",
      "pylibraft 24.10.0 requires nvidia-cusparse, which is not installed.\r\n",
      "ucxx 0.40.0 requires libucxx==0.40.*, which is not installed.\r\n",
      "albucore 0.0.20 requires numpy>=1.24.4, but you have numpy 1.23.5 which is incompatible.\r\n",
      "albumentations 1.4.21 requires numpy>=1.24.4, but you have numpy 1.23.5 which is incompatible.\r\n",
      "apache-beam 2.46.0 requires cloudpickle~=2.2.1, but you have cloudpickle 3.1.0 which is incompatible.\r\n",
      "apache-beam 2.46.0 requires dill<0.3.2,>=0.3.1.1, but you have dill 0.3.8 which is incompatible.\r\n",
      "apache-beam 2.46.0 requires pyarrow<10.0.0,>=3.0.0, but you have pyarrow 17.0.0 which is incompatible.\r\n",
      "bayesian-optimization 2.0.0 requires numpy>=1.25, but you have numpy 1.23.5 which is incompatible.\r\n",
      "beatrix-jupyterlab 2024.66.154055 requires jupyterlab~=3.6.0, but you have jupyterlab 4.3.1 which is incompatible.\r\n",
      "bigframes 0.22.0 requires google-cloud-bigquery[bqstorage,pandas]>=3.10.0, but you have google-cloud-bigquery 2.34.4 which is incompatible.\r\n",
      "bigframes 0.22.0 requires google-cloud-storage>=2.0.0, but you have google-cloud-storage 1.44.0 which is incompatible.\r\n",
      "blis 1.0.1 requires numpy<3.0.0,>=2.0.0, but you have numpy 1.23.5 which is incompatible.\r\n",
      "cesium 0.12.3 requires numpy<3.0,>=2.0, but you have numpy 1.23.5 which is incompatible.\r\n",
      "chex 0.1.86 requires numpy>=1.24.1, but you have numpy 1.23.5 which is incompatible.\r\n",
      "conda 24.5.0 requires packaging>=23.0, but you have packaging 21.3 which is incompatible.\r\n",
      "cudf 24.10.1 requires cuda-python<12.0a0,>=11.7.1, but you have cuda-python 12.6.2.post1 which is incompatible.\r\n",
      "dataproc-jupyter-plugin 0.1.79 requires pydantic~=1.10.0, but you have pydantic 2.10.1 which is incompatible.\r\n",
      "datasets 3.1.0 requires requests>=2.32.2, but you have requests 2.31.0 which is incompatible.\r\n",
      "featuretools 1.31.0 requires numpy>=1.25.0, but you have numpy 1.23.5 which is incompatible.\r\n",
      "gcsfs 2024.9.0.post1 requires fsspec==2024.9.0, but you have fsspec 2024.6.0 which is incompatible.\r\n",
      "google-cloud-aiplatform 0.6.0a1 requires google-api-core[grpc]<2.0.0dev,>=1.22.2, but you have google-api-core 2.11.1 which is incompatible.\r\n",
      "google-cloud-automl 1.0.1 requires google-api-core[grpc]<2.0.0dev,>=1.14.0, but you have google-api-core 2.11.1 which is incompatible.\r\n",
      "ibis-framework 7.1.0 requires pyarrow<15,>=2, but you have pyarrow 17.0.0 which is incompatible.\r\n",
      "jupyterlab 4.3.1 requires jupyter-lsp>=2.0.0, but you have jupyter-lsp 1.5.1 which is incompatible.\r\n",
      "jupyterlab-lsp 5.1.0 requires jupyter-lsp>=2.0.0, but you have jupyter-lsp 1.5.1 which is incompatible.\r\n",
      "kaggle-environments 1.16.9 requires scipy>=1.11.2, but you have scipy 1.10.1 which is incompatible.\r\n",
      "kfp 2.5.0 requires google-cloud-storage<3,>=2.2.1, but you have google-cloud-storage 1.44.0 which is incompatible.\r\n",
      "libpysal 4.9.2 requires packaging>=22, but you have packaging 21.3 which is incompatible.\r\n",
      "libpysal 4.9.2 requires shapely>=2.0.1, but you have shapely 1.8.5.post1 which is incompatible.\r\n",
      "mizani 0.13.0 requires pandas>=2.2.0, but you have pandas 2.0.3 which is incompatible.\r\n",
      "mlxtend 0.23.3 requires scikit-learn>=1.3.1, but you have scikit-learn 1.2.2 which is incompatible.\r\n",
      "plotnine 0.14.3 requires matplotlib>=3.8.0, but you have matplotlib 3.7.2 which is incompatible.\r\n",
      "plotnine 0.14.3 requires pandas>=2.2.0, but you have pandas 2.0.3 which is incompatible.\r\n",
      "pyldavis 3.4.1 requires numpy>=1.24.2, but you have numpy 1.23.5 which is incompatible.\r\n",
      "pylibcudf 24.10.1 requires cuda-python<12.0a0,>=11.7.1, but you have cuda-python 12.6.2.post1 which is incompatible.\r\n",
      "pytoolconfig 1.3.1 requires packaging>=23.2, but you have packaging 21.3 which is incompatible.\r\n",
      "rapids-dask-dependency 24.10.0a0 requires dask==2024.9.0, but you have dask 2024.11.2 which is incompatible.\r\n",
      "rapids-dask-dependency 24.10.0a0 requires dask-expr==1.1.14, but you have dask-expr 1.1.19 which is incompatible.\r\n",
      "rmm 24.10.0 requires cuda-python<12.0a0,>=11.7.1, but you have cuda-python 12.6.2.post1 which is incompatible.\r\n",
      "thinc 8.3.2 requires numpy<2.1.0,>=2.0.0; python_version >= \"3.9\", but you have numpy 1.23.5 which is incompatible.\r\n",
      "tsfresh 0.20.3 requires scipy>=1.14.0; python_version >= \"3.10\", but you have scipy 1.10.1 which is incompatible.\r\n",
      "woodwork 0.31.0 requires numpy>=1.25.0, but you have numpy 1.23.5 which is incompatible.\r\n",
      "xarray 2024.11.0 requires numpy>=1.24, but you have numpy 1.23.5 which is incompatible.\r\n",
      "xarray 2024.11.0 requires packaging>=23.2, but you have packaging 21.3 which is incompatible.\r\n",
      "xarray 2024.11.0 requires pandas>=2.1, but you have pandas 2.0.3 which is incompatible.\u001b[0m\u001b[31m\r\n",
      "\u001b[0mSuccessfully installed d2l-1.0.3 jupyter-1.0.0 matplotlib-3.7.2 matplotlib-inline-0.1.6 numpy-1.23.5 pandas-2.0.3 pyparsing-3.0.9 requests-2.31.0 scipy-1.10.1\r\n"
     ]
    }
   ],
   "source": [
    "!pip install d2l==1.0.3"
   ]
  },
  {
   "cell_type": "code",
   "execution_count": 3,
   "id": "b04cb991",
   "metadata": {
    "execution": {
     "iopub.execute_input": "2024-12-04T11:55:51.881015Z",
     "iopub.status.busy": "2024-12-04T11:55:51.880675Z",
     "iopub.status.idle": "2024-12-04T11:55:57.486524Z",
     "shell.execute_reply": "2024-12-04T11:55:57.485809Z"
    },
    "papermill": {
     "duration": 5.61732,
     "end_time": "2024-12-04T11:55:57.488879",
     "exception": false,
     "start_time": "2024-12-04T11:55:51.871559",
     "status": "completed"
    },
    "tags": []
   },
   "outputs": [],
   "source": [
    "import torch\n",
    "from torch import nn\n",
    "from d2l import torch as d2l"
   ]
  },
  {
   "cell_type": "code",
   "execution_count": 4,
   "id": "50c3b0b3",
   "metadata": {
    "execution": {
     "iopub.execute_input": "2024-12-04T11:55:57.505405Z",
     "iopub.status.busy": "2024-12-04T11:55:57.505010Z",
     "iopub.status.idle": "2024-12-04T11:55:57.512289Z",
     "shell.execute_reply": "2024-12-04T11:55:57.511476Z"
    },
    "papermill": {
     "duration": 0.017065,
     "end_time": "2024-12-04T11:55:57.513931",
     "exception": false,
     "start_time": "2024-12-04T11:55:57.496866",
     "status": "completed"
    },
    "tags": []
   },
   "outputs": [
    {
     "data": {
      "text/plain": [
       "(device(type='cpu'),\n",
       " device(type='cuda', index=0),\n",
       " device(type='cuda', index=1))"
      ]
     },
     "execution_count": 4,
     "metadata": {},
     "output_type": "execute_result"
    }
   ],
   "source": [
    "def cpu():  #@save\n",
    "    \"\"\"Get the CPU device.\"\"\"\n",
    "    return torch.device('cpu')\n",
    "\n",
    "def gpu(i=0):  #@save\n",
    "    \"\"\"Get a GPU device.\"\"\"\n",
    "    return torch.device(f'cuda:{i}')\n",
    "\n",
    "cpu(), gpu(), gpu(1)"
   ]
  },
  {
   "cell_type": "code",
   "execution_count": 5,
   "id": "1d060d1a",
   "metadata": {
    "execution": {
     "iopub.execute_input": "2024-12-04T11:55:57.529383Z",
     "iopub.status.busy": "2024-12-04T11:55:57.529104Z",
     "iopub.status.idle": "2024-12-04T11:55:57.534791Z",
     "shell.execute_reply": "2024-12-04T11:55:57.533797Z"
    },
    "papermill": {
     "duration": 0.015633,
     "end_time": "2024-12-04T11:55:57.536586",
     "exception": false,
     "start_time": "2024-12-04T11:55:57.520953",
     "status": "completed"
    },
    "tags": []
   },
   "outputs": [
    {
     "data": {
      "text/plain": [
       "2"
      ]
     },
     "execution_count": 5,
     "metadata": {},
     "output_type": "execute_result"
    }
   ],
   "source": [
    "def num_gpus():  #@save\n",
    "    \"\"\"Get the number of available GPUs.\"\"\"\n",
    "    return torch.cuda.device_count()\n",
    "\n",
    "num_gpus()"
   ]
  },
  {
   "cell_type": "code",
   "execution_count": 6,
   "id": "59b2edc8",
   "metadata": {
    "execution": {
     "iopub.execute_input": "2024-12-04T11:55:57.552935Z",
     "iopub.status.busy": "2024-12-04T11:55:57.552668Z",
     "iopub.status.idle": "2024-12-04T11:55:57.560182Z",
     "shell.execute_reply": "2024-12-04T11:55:57.559378Z"
    },
    "papermill": {
     "duration": 0.017671,
     "end_time": "2024-12-04T11:55:57.561860",
     "exception": false,
     "start_time": "2024-12-04T11:55:57.544189",
     "status": "completed"
    },
    "tags": []
   },
   "outputs": [
    {
     "data": {
      "text/plain": [
       "(device(type='cuda', index=0),\n",
       " device(type='cpu'),\n",
       " [device(type='cuda', index=0), device(type='cuda', index=1)])"
      ]
     },
     "execution_count": 6,
     "metadata": {},
     "output_type": "execute_result"
    }
   ],
   "source": [
    "def try_gpu(i=0):  #@save\n",
    "    \"\"\"Return gpu(i) if exists, otherwise return cpu().\"\"\"\n",
    "    if num_gpus() >= i + 1:\n",
    "        return gpu(i)\n",
    "    return cpu()\n",
    "\n",
    "def try_all_gpus():  #@save\n",
    "    \"\"\"Return all available GPUs, or [cpu(),] if no GPU exists.\"\"\"\n",
    "    return [gpu(i) for i in range(num_gpus())]\n",
    "\n",
    "try_gpu(), try_gpu(10), try_all_gpus()"
   ]
  },
  {
   "cell_type": "code",
   "execution_count": 7,
   "id": "13808249",
   "metadata": {
    "execution": {
     "iopub.execute_input": "2024-12-04T11:55:57.577517Z",
     "iopub.status.busy": "2024-12-04T11:55:57.577271Z",
     "iopub.status.idle": "2024-12-04T11:55:57.604931Z",
     "shell.execute_reply": "2024-12-04T11:55:57.604169Z"
    },
    "papermill": {
     "duration": 0.037629,
     "end_time": "2024-12-04T11:55:57.606866",
     "exception": false,
     "start_time": "2024-12-04T11:55:57.569237",
     "status": "completed"
    },
    "tags": []
   },
   "outputs": [
    {
     "data": {
      "text/plain": [
       "device(type='cpu')"
      ]
     },
     "execution_count": 7,
     "metadata": {},
     "output_type": "execute_result"
    }
   ],
   "source": [
    "x = torch.tensor([1, 2, 3])\n",
    "x.device"
   ]
  },
  {
   "cell_type": "code",
   "execution_count": 8,
   "id": "dfede65e",
   "metadata": {
    "execution": {
     "iopub.execute_input": "2024-12-04T11:55:57.624025Z",
     "iopub.status.busy": "2024-12-04T11:55:57.623738Z",
     "iopub.status.idle": "2024-12-04T11:55:58.263226Z",
     "shell.execute_reply": "2024-12-04T11:55:58.262350Z"
    },
    "papermill": {
     "duration": 0.650094,
     "end_time": "2024-12-04T11:55:58.265137",
     "exception": false,
     "start_time": "2024-12-04T11:55:57.615043",
     "status": "completed"
    },
    "tags": []
   },
   "outputs": [
    {
     "data": {
      "text/plain": [
       "tensor([[1., 1., 1.],\n",
       "        [1., 1., 1.]], device='cuda:0')"
      ]
     },
     "execution_count": 8,
     "metadata": {},
     "output_type": "execute_result"
    }
   ],
   "source": [
    "X = torch.ones(2, 3, device=try_gpu())\n",
    "X"
   ]
  },
  {
   "cell_type": "code",
   "execution_count": 9,
   "id": "2228dfa9",
   "metadata": {
    "execution": {
     "iopub.execute_input": "2024-12-04T11:55:58.282821Z",
     "iopub.status.busy": "2024-12-04T11:55:58.282506Z",
     "iopub.status.idle": "2024-12-04T11:55:58.437559Z",
     "shell.execute_reply": "2024-12-04T11:55:58.436637Z"
    },
    "papermill": {
     "duration": 0.165852,
     "end_time": "2024-12-04T11:55:58.439667",
     "exception": false,
     "start_time": "2024-12-04T11:55:58.273815",
     "status": "completed"
    },
    "tags": []
   },
   "outputs": [
    {
     "data": {
      "text/plain": [
       "tensor([[0.5189, 0.6881, 0.3529],\n",
       "        [0.5795, 0.7403, 0.6019]], device='cuda:1')"
      ]
     },
     "execution_count": 9,
     "metadata": {},
     "output_type": "execute_result"
    }
   ],
   "source": [
    "Y = torch.rand(2, 3, device=try_gpu(1))\n",
    "Y"
   ]
  },
  {
   "cell_type": "markdown",
   "id": "9b8feb95",
   "metadata": {
    "papermill": {
     "duration": 0.008002,
     "end_time": "2024-12-04T11:55:58.456198",
     "exception": false,
     "start_time": "2024-12-04T11:55:58.448196",
     "status": "completed"
    },
    "tags": []
   },
   "source": [
    "![Copy data to perform an operation on the same device.](http://d2l.ai/_images/copyto.svg)"
   ]
  },
  {
   "cell_type": "code",
   "execution_count": 10,
   "id": "07b6ba07",
   "metadata": {
    "execution": {
     "iopub.execute_input": "2024-12-04T11:55:58.473363Z",
     "iopub.status.busy": "2024-12-04T11:55:58.473076Z",
     "iopub.status.idle": "2024-12-04T11:55:58.536651Z",
     "shell.execute_reply": "2024-12-04T11:55:58.535677Z"
    },
    "papermill": {
     "duration": 0.074291,
     "end_time": "2024-12-04T11:55:58.538344",
     "exception": false,
     "start_time": "2024-12-04T11:55:58.464053",
     "status": "completed"
    },
    "tags": []
   },
   "outputs": [
    {
     "name": "stdout",
     "output_type": "stream",
     "text": [
      "Expected all tensors to be on the same device, but found at least two devices, cuda:0 and cuda:1!\n"
     ]
    }
   ],
   "source": [
    "try:\n",
    "    # 尝试执行的代码\n",
    "    result = X + Y\n",
    "    print(result)\n",
    "except Exception as e:\n",
    "    # 如果发生异常，打印异常信息\n",
    "    print(e)"
   ]
  },
  {
   "cell_type": "code",
   "execution_count": 11,
   "id": "f7107a06",
   "metadata": {
    "execution": {
     "iopub.execute_input": "2024-12-04T11:55:58.555585Z",
     "iopub.status.busy": "2024-12-04T11:55:58.555343Z",
     "iopub.status.idle": "2024-12-04T11:55:58.562913Z",
     "shell.execute_reply": "2024-12-04T11:55:58.562001Z"
    },
    "papermill": {
     "duration": 0.018012,
     "end_time": "2024-12-04T11:55:58.564603",
     "exception": false,
     "start_time": "2024-12-04T11:55:58.546591",
     "status": "completed"
    },
    "tags": []
   },
   "outputs": [
    {
     "name": "stdout",
     "output_type": "stream",
     "text": [
      "tensor([[1., 1., 1.],\n",
      "        [1., 1., 1.]], device='cuda:0')\n",
      "tensor([[1., 1., 1.],\n",
      "        [1., 1., 1.]], device='cuda:1')\n"
     ]
    }
   ],
   "source": [
    "Z = X.cuda(1)\n",
    "print(X)\n",
    "print(Z)"
   ]
  },
  {
   "cell_type": "code",
   "execution_count": 12,
   "id": "ab1eea72",
   "metadata": {
    "execution": {
     "iopub.execute_input": "2024-12-04T11:55:58.581466Z",
     "iopub.status.busy": "2024-12-04T11:55:58.580715Z",
     "iopub.status.idle": "2024-12-04T11:55:58.612890Z",
     "shell.execute_reply": "2024-12-04T11:55:58.612189Z"
    },
    "papermill": {
     "duration": 0.04202,
     "end_time": "2024-12-04T11:55:58.614457",
     "exception": false,
     "start_time": "2024-12-04T11:55:58.572437",
     "status": "completed"
    },
    "tags": []
   },
   "outputs": [
    {
     "data": {
      "text/plain": [
       "tensor([[1.5189, 1.6881, 1.3529],\n",
       "        [1.5795, 1.7403, 1.6019]], device='cuda:1')"
      ]
     },
     "execution_count": 12,
     "metadata": {},
     "output_type": "execute_result"
    }
   ],
   "source": [
    "Y + Z"
   ]
  },
  {
   "cell_type": "markdown",
   "id": "4238ca92",
   "metadata": {
    "papermill": {
     "duration": 0.007328,
     "end_time": "2024-12-04T11:55:58.629357",
     "exception": false,
     "start_time": "2024-12-04T11:55:58.622029",
     "status": "completed"
    },
    "tags": []
   },
   "source": [
    "But what if your variable Z already lived on your second GPU? What happens if we still call Z.cuda(1)? It will return Z instead of making a copy and allocating new memory."
   ]
  },
  {
   "cell_type": "code",
   "execution_count": 13,
   "id": "266e1803",
   "metadata": {
    "execution": {
     "iopub.execute_input": "2024-12-04T11:55:58.645916Z",
     "iopub.status.busy": "2024-12-04T11:55:58.645350Z",
     "iopub.status.idle": "2024-12-04T11:55:58.650605Z",
     "shell.execute_reply": "2024-12-04T11:55:58.649827Z"
    },
    "papermill": {
     "duration": 0.015235,
     "end_time": "2024-12-04T11:55:58.652108",
     "exception": false,
     "start_time": "2024-12-04T11:55:58.636873",
     "status": "completed"
    },
    "tags": []
   },
   "outputs": [
    {
     "data": {
      "text/plain": [
       "True"
      ]
     },
     "execution_count": 13,
     "metadata": {},
     "output_type": "execute_result"
    }
   ],
   "source": [
    "Z.cuda(1) is Z"
   ]
  },
  {
   "cell_type": "code",
   "execution_count": 14,
   "id": "f62a7187",
   "metadata": {
    "execution": {
     "iopub.execute_input": "2024-12-04T11:55:58.668183Z",
     "iopub.status.busy": "2024-12-04T11:55:58.667942Z",
     "iopub.status.idle": "2024-12-04T11:55:58.675389Z",
     "shell.execute_reply": "2024-12-04T11:55:58.674615Z"
    },
    "papermill": {
     "duration": 0.017114,
     "end_time": "2024-12-04T11:55:58.676920",
     "exception": false,
     "start_time": "2024-12-04T11:55:58.659806",
     "status": "completed"
    },
    "tags": []
   },
   "outputs": [],
   "source": [
    "net = nn.Sequential(nn.LazyLinear(1))\n",
    "net = net.to(device=try_gpu())"
   ]
  },
  {
   "cell_type": "code",
   "execution_count": 15,
   "id": "e5fac5c5",
   "metadata": {
    "execution": {
     "iopub.execute_input": "2024-12-04T11:55:58.693372Z",
     "iopub.status.busy": "2024-12-04T11:55:58.693156Z",
     "iopub.status.idle": "2024-12-04T11:55:58.818159Z",
     "shell.execute_reply": "2024-12-04T11:55:58.817335Z"
    },
    "papermill": {
     "duration": 0.135655,
     "end_time": "2024-12-04T11:55:58.819951",
     "exception": false,
     "start_time": "2024-12-04T11:55:58.684296",
     "status": "completed"
    },
    "tags": []
   },
   "outputs": [
    {
     "data": {
      "text/plain": [
       "tensor([[0.2119],\n",
       "        [0.2119]], device='cuda:0', grad_fn=<AddmmBackward0>)"
      ]
     },
     "execution_count": 15,
     "metadata": {},
     "output_type": "execute_result"
    }
   ],
   "source": [
    "net(X)"
   ]
  },
  {
   "cell_type": "code",
   "execution_count": 16,
   "id": "ea1748c1",
   "metadata": {
    "execution": {
     "iopub.execute_input": "2024-12-04T11:55:58.837996Z",
     "iopub.status.busy": "2024-12-04T11:55:58.837680Z",
     "iopub.status.idle": "2024-12-04T11:55:58.842886Z",
     "shell.execute_reply": "2024-12-04T11:55:58.842110Z"
    },
    "papermill": {
     "duration": 0.016342,
     "end_time": "2024-12-04T11:55:58.844980",
     "exception": false,
     "start_time": "2024-12-04T11:55:58.828638",
     "status": "completed"
    },
    "tags": []
   },
   "outputs": [
    {
     "data": {
      "text/plain": [
       "device(type='cuda', index=0)"
      ]
     },
     "execution_count": 16,
     "metadata": {},
     "output_type": "execute_result"
    }
   ],
   "source": [
    "net[0].weight.data.device"
   ]
  },
  {
   "cell_type": "code",
   "execution_count": 17,
   "id": "3156e99a",
   "metadata": {
    "execution": {
     "iopub.execute_input": "2024-12-04T11:55:58.862553Z",
     "iopub.status.busy": "2024-12-04T11:55:58.862307Z",
     "iopub.status.idle": "2024-12-04T11:55:58.868320Z",
     "shell.execute_reply": "2024-12-04T11:55:58.867603Z"
    },
    "papermill": {
     "duration": 0.016572,
     "end_time": "2024-12-04T11:55:58.870099",
     "exception": false,
     "start_time": "2024-12-04T11:55:58.853527",
     "status": "completed"
    },
    "tags": []
   },
   "outputs": [],
   "source": [
    "# Trainer + GPU\n",
    "@d2l.add_to_class(d2l.Trainer)  #@save\n",
    "def __init__(self, max_epochs, num_gpus=0, gradient_clip_val=0):\n",
    "    self.save_hyperparameters()\n",
    "    self.gpus = [d2l.gpu(i) for i in range(min(num_gpus, d2l.num_gpus()))]\n",
    "\n",
    "@d2l.add_to_class(d2l.Trainer)  #@save\n",
    "def prepare_batch(self, batch):\n",
    "    if self.gpus:\n",
    "        batch = [a.to(self.gpus[0]) for a in batch]\n",
    "    return batch\n",
    "\n",
    "@d2l.add_to_class(d2l.Trainer)  #@save\n",
    "def prepare_model(self, model):\n",
    "    model.trainer = self\n",
    "    model.board.xlim = [0, self.max_epochs]\n",
    "    if self.gpus:\n",
    "        model.to(self.gpus[0])\n",
    "    self.model = model"
   ]
  }
 ],
 "metadata": {
  "kaggle": {
   "accelerator": "nvidiaTeslaT4",
   "dataSources": [],
   "dockerImageVersionId": 30805,
   "isGpuEnabled": true,
   "isInternetEnabled": true,
   "language": "python",
   "sourceType": "notebook"
  },
  "kernelspec": {
   "display_name": "Python 3",
   "language": "python",
   "name": "python3"
  },
  "language_info": {
   "codemirror_mode": {
    "name": "ipython",
    "version": 3
   },
   "file_extension": ".py",
   "mimetype": "text/x-python",
   "name": "python",
   "nbconvert_exporter": "python",
   "pygments_lexer": "ipython3",
   "version": "3.10.14"
  },
  "papermill": {
   "default_parameters": {},
   "duration": 60.613507,
   "end_time": "2024-12-04T11:56:00.399298",
   "environment_variables": {},
   "exception": null,
   "input_path": "__notebook__.ipynb",
   "output_path": "__notebook__.ipynb",
   "parameters": {},
   "start_time": "2024-12-04T11:54:59.785791",
   "version": "2.6.0"
  }
 },
 "nbformat": 4,
 "nbformat_minor": 5
}
