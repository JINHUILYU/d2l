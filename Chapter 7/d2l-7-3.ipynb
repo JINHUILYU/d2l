{
 "cells": [
  {
   "cell_type": "code",
   "execution_count": 1,
   "id": "1de8e815",
   "metadata": {
    "_cell_guid": "b1076dfc-b9ad-4769-8c92-a6c4dae69d19",
    "_uuid": "8f2839f25d086af736a60e9eeb907d3b93b6e0e5",
    "execution": {
     "iopub.execute_input": "2024-12-05T11:38:33.579838Z",
     "iopub.status.busy": "2024-12-05T11:38:33.579436Z",
     "iopub.status.idle": "2024-12-05T11:38:34.429263Z",
     "shell.execute_reply": "2024-12-05T11:38:34.428326Z"
    },
    "papermill": {
     "duration": 0.857534,
     "end_time": "2024-12-05T11:38:34.431632",
     "exception": false,
     "start_time": "2024-12-05T11:38:33.574098",
     "status": "completed"
    },
    "tags": []
   },
   "outputs": [],
   "source": [
    "# This Python 3 environment comes with many helpful analytics libraries installed\n",
    "# It is defined by the kaggle/python Docker image: https://github.com/kaggle/docker-python\n",
    "# For example, here's several helpful packages to load\n",
    "\n",
    "import numpy as np # linear algebra\n",
    "import pandas as pd # data processing, CSV file I/O (e.g. pd.read_csv)\n",
    "\n",
    "# Input data files are available in the read-only \"../input/\" directory\n",
    "# For example, running this (by clicking run or pressing Shift+Enter) will list all files under the input directory\n",
    "\n",
    "import os\n",
    "for dirname, _, filenames in os.walk('/kaggle/input'):\n",
    "    for filename in filenames:\n",
    "        print(os.path.join(dirname, filename))\n",
    "\n",
    "# You can write up to 20GB to the current directory (/kaggle/working/) that gets preserved as output when you create a version using \"Save & Run All\" \n",
    "# You can also write temporary files to /kaggle/temp/, but they won't be saved outside of the current session"
   ]
  },
  {
   "cell_type": "markdown",
   "id": "8e6661ca",
   "metadata": {
    "papermill": {
     "duration": 0.002944,
     "end_time": "2024-12-05T11:38:34.438064",
     "exception": false,
     "start_time": "2024-12-05T11:38:34.435120",
     "status": "completed"
    },
    "tags": []
   },
   "source": [
    "# Padding and Stride"
   ]
  },
  {
   "cell_type": "code",
   "execution_count": 2,
   "id": "68166c26",
   "metadata": {
    "execution": {
     "iopub.execute_input": "2024-12-05T11:38:34.446117Z",
     "iopub.status.busy": "2024-12-05T11:38:34.445206Z",
     "iopub.status.idle": "2024-12-05T11:38:37.345843Z",
     "shell.execute_reply": "2024-12-05T11:38:37.344894Z"
    },
    "papermill": {
     "duration": 2.907231,
     "end_time": "2024-12-05T11:38:37.348242",
     "exception": false,
     "start_time": "2024-12-05T11:38:34.441011",
     "status": "completed"
    },
    "tags": []
   },
   "outputs": [],
   "source": [
    "import torch\n",
    "from torch import nn"
   ]
  },
  {
   "cell_type": "markdown",
   "id": "0defe1f4",
   "metadata": {
    "papermill": {
     "duration": 0.00283,
     "end_time": "2024-12-05T11:38:37.354377",
     "exception": false,
     "start_time": "2024-12-05T11:38:37.351547",
     "status": "completed"
    },
    "tags": []
   },
   "source": [
    "![image](https://d2l.ai/_images/conv-reuse.svg)"
   ]
  },
  {
   "cell_type": "markdown",
   "id": "a13403f1",
   "metadata": {
    "papermill": {
     "duration": 0.002706,
     "end_time": "2024-12-05T11:38:37.360132",
     "exception": false,
     "start_time": "2024-12-05T11:38:37.357426",
     "status": "completed"
    },
    "tags": []
   },
   "source": [
    "Pixel utilization for convolutions of size $1 \\times 1$, $2 \\times 2$, and $3 \\times 3$ respectively."
   ]
  },
  {
   "cell_type": "markdown",
   "id": "0c5cc1ec",
   "metadata": {
    "papermill": {
     "duration": 0.002703,
     "end_time": "2024-12-05T11:38:37.365887",
     "exception": false,
     "start_time": "2024-12-05T11:38:37.363184",
     "status": "completed"
    },
    "tags": []
   },
   "source": [
    "![image](https://d2l.ai/_images/conv-pad.svg)"
   ]
  },
  {
   "cell_type": "markdown",
   "id": "c752ea45",
   "metadata": {
    "papermill": {
     "duration": 0.002677,
     "end_time": "2024-12-05T11:38:37.371477",
     "exception": false,
     "start_time": "2024-12-05T11:38:37.368800",
     "status": "completed"
    },
    "tags": []
   },
   "source": [
    "$$(n_\\textrm{h}-k_\\textrm{h}+p_\\textrm{h}+1)\\times(n_\\textrm{w}-k_\\textrm{w}+p_\\textrm{w}+1).$$"
   ]
  },
  {
   "cell_type": "markdown",
   "id": "4ba409de",
   "metadata": {
    "papermill": {
     "duration": 0.003688,
     "end_time": "2024-12-05T11:38:37.378018",
     "exception": false,
     "start_time": "2024-12-05T11:38:37.374330",
     "status": "completed"
    },
    "tags": []
   },
   "source": [
    "This means that the height and width of the output\r\n",
    "will increase by $p_\\textrm{h}$ and $p_\\textrm{w}$, respectively\n",
    "\n",
    "CNNs commonly use convolution kernels with odd height and width values, such as 1, 3, 5, or 7. Choosing odd kernel sizes has the benefit that we can preserve the dimensionality while padding with the same number of rows on top and bottom, and the same number of columns on left and right.."
   ]
  },
  {
   "cell_type": "code",
   "execution_count": 3,
   "id": "5c1846eb",
   "metadata": {
    "execution": {
     "iopub.execute_input": "2024-12-05T11:38:37.385835Z",
     "iopub.status.busy": "2024-12-05T11:38:37.384948Z",
     "iopub.status.idle": "2024-12-05T11:38:37.577799Z",
     "shell.execute_reply": "2024-12-05T11:38:37.576730Z"
    },
    "papermill": {
     "duration": 0.199157,
     "end_time": "2024-12-05T11:38:37.580018",
     "exception": false,
     "start_time": "2024-12-05T11:38:37.380861",
     "status": "completed"
    },
    "tags": []
   },
   "outputs": [
    {
     "data": {
      "text/plain": [
       "torch.Size([8, 8])"
      ]
     },
     "execution_count": 3,
     "metadata": {},
     "output_type": "execute_result"
    }
   ],
   "source": [
    "# We define a helper function to calculate convolutions. It initializes the\n",
    "# convolutional layer weights and performs corresponding dimensionality\n",
    "# elevations and reductions on the input and output\n",
    "def comp_conv2d(conv2d, X):\n",
    "    # (1, 1) indicates that batch size and the number of channels are both 1\n",
    "    X = X.reshape((1, 1) + X.shape)\n",
    "    Y = conv2d(X)\n",
    "    # Strip the first two dimensions: examples and channels\n",
    "    return Y.reshape(Y.shape[2:])\n",
    "\n",
    "# 1 row and column is padded on either side, so a total of 2 rows or columns\n",
    "# are added\n",
    "conv2d = nn.LazyConv2d(1, kernel_size=3, padding=1)\n",
    "X = torch.rand(size=(8, 8))\n",
    "comp_conv2d(conv2d, X).shape"
   ]
  },
  {
   "cell_type": "code",
   "execution_count": 4,
   "id": "dbec72f4",
   "metadata": {
    "execution": {
     "iopub.execute_input": "2024-12-05T11:38:37.588099Z",
     "iopub.status.busy": "2024-12-05T11:38:37.587707Z",
     "iopub.status.idle": "2024-12-05T11:38:37.595845Z",
     "shell.execute_reply": "2024-12-05T11:38:37.594908Z"
    },
    "papermill": {
     "duration": 0.014348,
     "end_time": "2024-12-05T11:38:37.597717",
     "exception": false,
     "start_time": "2024-12-05T11:38:37.583369",
     "status": "completed"
    },
    "tags": []
   },
   "outputs": [
    {
     "data": {
      "text/plain": [
       "torch.Size([8, 8])"
      ]
     },
     "execution_count": 4,
     "metadata": {},
     "output_type": "execute_result"
    }
   ],
   "source": [
    "# We use a convolution kernel with height 5 and width 3. The padding on either\n",
    "# side of the height and width are 2 and 1, respectively\n",
    "conv2d = nn.LazyConv2d(1, kernel_size=(5, 3), padding=(2, 1))\n",
    "comp_conv2d(conv2d, X).shape"
   ]
  },
  {
   "cell_type": "markdown",
   "id": "163e6f57",
   "metadata": {
    "papermill": {
     "duration": 0.003107,
     "end_time": "2024-12-05T11:38:37.604282",
     "exception": false,
     "start_time": "2024-12-05T11:38:37.601175",
     "status": "completed"
    },
    "tags": []
   },
   "source": [
    "![image](https://d2l.ai/_images/conv-stride.svg)"
   ]
  },
  {
   "cell_type": "markdown",
   "id": "3cf436c5",
   "metadata": {
    "papermill": {
     "duration": 0.002926,
     "end_time": "2024-12-05T11:38:37.610413",
     "exception": false,
     "start_time": "2024-12-05T11:38:37.607487",
     "status": "completed"
    },
    "tags": []
   },
   "source": [
    "In general, when the stride for the height is $s_\\textrm{h}$\r\n",
    "and the stride for the width is $s_\\textrm{w}$, the output shape is\r\n",
    "\r\n",
    "$$\\lfloor(n_\\textrm{h}-k_\\textrm{h}+p_\\textrm{h}+s_\\textrm{h})/s_\\textrm{h}\\rfloor \\times \\lfloor(n_\\textrm{w}-k_\\textrm{w}+p_\\textrm{w}+s_\\textrm{w})/s_\\textrm{w}\\rfloor.$$\r\n"
   ]
  },
  {
   "cell_type": "markdown",
   "id": "121c001d",
   "metadata": {
    "papermill": {
     "duration": 0.002898,
     "end_time": "2024-12-05T11:38:37.616577",
     "exception": false,
     "start_time": "2024-12-05T11:38:37.613679",
     "status": "completed"
    },
    "tags": []
   },
   "source": [
    "If we set $p_\\textrm{h}=k_\\textrm{h}-1$ and $p_\\textrm{w}=k_\\textrm{w}-1$,\r\n",
    "then the output shape can be simplified to\r\n",
    "$\\lfloor(n_\\textrm{h}+s_\\textrm{h}-1)/s_\\textrm{h}\\rfloor \\times \\lfloor(n_\\textrm{w}+s_\\textrm{w}-1)/s_\\textrm{w}\\rfloor$.\r\n",
    "Going a step further, if the input height and width\r\n",
    "are divisible by the strides on the height and width,\r\n",
    "then the output shape will be $(n_\\textrm{h}/s_\\textrm{h}) \\times (n_\\textrm{w}/s_\\textrm{w})$."
   ]
  },
  {
   "cell_type": "code",
   "execution_count": 5,
   "id": "f1dd9ffc",
   "metadata": {
    "execution": {
     "iopub.execute_input": "2024-12-05T11:38:37.624768Z",
     "iopub.status.busy": "2024-12-05T11:38:37.624020Z",
     "iopub.status.idle": "2024-12-05T11:38:37.631887Z",
     "shell.execute_reply": "2024-12-05T11:38:37.630950Z"
    },
    "papermill": {
     "duration": 0.013978,
     "end_time": "2024-12-05T11:38:37.633688",
     "exception": false,
     "start_time": "2024-12-05T11:38:37.619710",
     "status": "completed"
    },
    "tags": []
   },
   "outputs": [
    {
     "data": {
      "text/plain": [
       "torch.Size([4, 4])"
      ]
     },
     "execution_count": 5,
     "metadata": {},
     "output_type": "execute_result"
    }
   ],
   "source": [
    "conv2d = nn.LazyConv2d(1, kernel_size=3, padding=1, stride=2)\n",
    "comp_conv2d(conv2d, X).shape"
   ]
  },
  {
   "cell_type": "code",
   "execution_count": 6,
   "id": "7002523a",
   "metadata": {
    "execution": {
     "iopub.execute_input": "2024-12-05T11:38:37.642606Z",
     "iopub.status.busy": "2024-12-05T11:38:37.641660Z",
     "iopub.status.idle": "2024-12-05T11:38:37.651571Z",
     "shell.execute_reply": "2024-12-05T11:38:37.650621Z"
    },
    "papermill": {
     "duration": 0.016497,
     "end_time": "2024-12-05T11:38:37.653642",
     "exception": false,
     "start_time": "2024-12-05T11:38:37.637145",
     "status": "completed"
    },
    "tags": []
   },
   "outputs": [
    {
     "data": {
      "text/plain": [
       "torch.Size([2, 2])"
      ]
     },
     "execution_count": 6,
     "metadata": {},
     "output_type": "execute_result"
    }
   ],
   "source": [
    "conv2d = nn.LazyConv2d(1, kernel_size=(3, 5), padding=(0, 1), stride=(3, 4))\n",
    "comp_conv2d(conv2d, X).shape"
   ]
  }
 ],
 "metadata": {
  "kaggle": {
   "accelerator": "none",
   "dataSources": [],
   "dockerImageVersionId": 30804,
   "isGpuEnabled": false,
   "isInternetEnabled": true,
   "language": "python",
   "sourceType": "notebook"
  },
  "kernelspec": {
   "display_name": "Python 3",
   "language": "python",
   "name": "python3"
  },
  "language_info": {
   "codemirror_mode": {
    "name": "ipython",
    "version": 3
   },
   "file_extension": ".py",
   "mimetype": "text/x-python",
   "name": "python",
   "nbconvert_exporter": "python",
   "pygments_lexer": "ipython3",
   "version": "3.10.14"
  },
  "papermill": {
   "default_parameters": {},
   "duration": 7.660928,
   "end_time": "2024-12-05T11:38:38.578065",
   "environment_variables": {},
   "exception": null,
   "input_path": "__notebook__.ipynb",
   "output_path": "__notebook__.ipynb",
   "parameters": {},
   "start_time": "2024-12-05T11:38:30.917137",
   "version": "2.6.0"
  }
 },
 "nbformat": 4,
 "nbformat_minor": 5
}
