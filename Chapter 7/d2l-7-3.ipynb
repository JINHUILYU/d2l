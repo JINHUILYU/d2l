{
 "cells": [
  {
   "cell_type": "code",
   "execution_count": 1,
   "id": "471c83d2",
   "metadata": {
    "_cell_guid": "b1076dfc-b9ad-4769-8c92-a6c4dae69d19",
    "_uuid": "8f2839f25d086af736a60e9eeb907d3b93b6e0e5",
    "execution": {
     "iopub.execute_input": "2024-12-05T10:50:31.047509Z",
     "iopub.status.busy": "2024-12-05T10:50:31.046975Z",
     "iopub.status.idle": "2024-12-05T10:50:31.999278Z",
     "shell.execute_reply": "2024-12-05T10:50:31.998011Z"
    },
    "papermill": {
     "duration": 0.96042,
     "end_time": "2024-12-05T10:50:32.002074",
     "exception": false,
     "start_time": "2024-12-05T10:50:31.041654",
     "status": "completed"
    },
    "tags": []
   },
   "outputs": [],
   "source": [
    "# This Python 3 environment comes with many helpful analytics libraries installed\n",
    "# It is defined by the kaggle/python Docker image: https://github.com/kaggle/docker-python\n",
    "# For example, here's several helpful packages to load\n",
    "\n",
    "import numpy as np # linear algebra\n",
    "import pandas as pd # data processing, CSV file I/O (e.g. pd.read_csv)\n",
    "\n",
    "# Input data files are available in the read-only \"../input/\" directory\n",
    "# For example, running this (by clicking run or pressing Shift+Enter) will list all files under the input directory\n",
    "\n",
    "import os\n",
    "for dirname, _, filenames in os.walk('/kaggle/input'):\n",
    "    for filename in filenames:\n",
    "        print(os.path.join(dirname, filename))\n",
    "\n",
    "# You can write up to 20GB to the current directory (/kaggle/working/) that gets preserved as output when you create a version using \"Save & Run All\" \n",
    "# You can also write temporary files to /kaggle/temp/, but they won't be saved outside of the current session"
   ]
  },
  {
   "cell_type": "markdown",
   "id": "8df340d5",
   "metadata": {
    "papermill": {
     "duration": 0.002745,
     "end_time": "2024-12-05T10:50:32.008130",
     "exception": false,
     "start_time": "2024-12-05T10:50:32.005385",
     "status": "completed"
    },
    "tags": []
   },
   "source": [
    "# Padding and Stride"
   ]
  },
  {
   "cell_type": "code",
   "execution_count": 2,
   "id": "58293a49",
   "metadata": {
    "execution": {
     "iopub.execute_input": "2024-12-05T10:50:32.015857Z",
     "iopub.status.busy": "2024-12-05T10:50:32.015284Z",
     "iopub.status.idle": "2024-12-05T10:50:35.176685Z",
     "shell.execute_reply": "2024-12-05T10:50:35.175556Z"
    },
    "papermill": {
     "duration": 3.168145,
     "end_time": "2024-12-05T10:50:35.179198",
     "exception": false,
     "start_time": "2024-12-05T10:50:32.011053",
     "status": "completed"
    },
    "tags": []
   },
   "outputs": [],
   "source": [
    "import torch\n",
    "from torch import nn"
   ]
  },
  {
   "cell_type": "markdown",
   "id": "78ebdd32",
   "metadata": {
    "papermill": {
     "duration": 0.002766,
     "end_time": "2024-12-05T10:50:35.185144",
     "exception": false,
     "start_time": "2024-12-05T10:50:35.182378",
     "status": "completed"
    },
    "tags": []
   },
   "source": [
    "![image](https://d2l.ai/_images/conv-reuse.svg)"
   ]
  },
  {
   "cell_type": "markdown",
   "id": "7a620e91",
   "metadata": {
    "papermill": {
     "duration": 0.002625,
     "end_time": "2024-12-05T10:50:35.190874",
     "exception": false,
     "start_time": "2024-12-05T10:50:35.188249",
     "status": "completed"
    },
    "tags": []
   },
   "source": [
    "Pixel utilization for convolutions of size $1 \\times 1$, $2 \\times 2$, and $3 \\times 3$ respectively."
   ]
  },
  {
   "cell_type": "markdown",
   "id": "53d9c307",
   "metadata": {
    "papermill": {
     "duration": 0.002876,
     "end_time": "2024-12-05T10:50:35.196686",
     "exception": false,
     "start_time": "2024-12-05T10:50:35.193810",
     "status": "completed"
    },
    "tags": []
   },
   "source": [
    "![image](https://d2l.ai/_images/conv-pad.svg)"
   ]
  },
  {
   "cell_type": "markdown",
   "id": "449b3adc",
   "metadata": {
    "papermill": {
     "duration": 0.002602,
     "end_time": "2024-12-05T10:50:35.202103",
     "exception": false,
     "start_time": "2024-12-05T10:50:35.199501",
     "status": "completed"
    },
    "tags": []
   },
   "source": [
    "$$(n_\\textrm{h}-k_\\textrm{h}+p_\\textrm{h}+1)\\times(n_\\textrm{w}-k_\\textrm{w}+p_\\textrm{w}+1).$$"
   ]
  },
  {
   "cell_type": "markdown",
   "id": "ace9813f",
   "metadata": {
    "papermill": {
     "duration": 0.002611,
     "end_time": "2024-12-05T10:50:35.207616",
     "exception": false,
     "start_time": "2024-12-05T10:50:35.205005",
     "status": "completed"
    },
    "tags": []
   },
   "source": [
    "This means that the height and width of the output\r\n",
    "will increase by $p_\\textrm{h}$ and $p_\\textrm{w}$, respectively\n",
    "\n",
    "CNNs commonly use convolution kernels with odd height and width values, such as 1, 3, 5, or 7. Choosing odd kernel sizes has the benefit that we can preserve the dimensionality while padding with the same number of rows on top and bottom, and the same number of columns on left and right.."
   ]
  },
  {
   "cell_type": "code",
   "execution_count": 3,
   "id": "79101cf0",
   "metadata": {
    "execution": {
     "iopub.execute_input": "2024-12-05T10:50:35.216572Z",
     "iopub.status.busy": "2024-12-05T10:50:35.216007Z",
     "iopub.status.idle": "2024-12-05T10:50:35.411837Z",
     "shell.execute_reply": "2024-12-05T10:50:35.410567Z"
    },
    "papermill": {
     "duration": 0.20377,
     "end_time": "2024-12-05T10:50:35.414278",
     "exception": false,
     "start_time": "2024-12-05T10:50:35.210508",
     "status": "completed"
    },
    "tags": []
   },
   "outputs": [
    {
     "data": {
      "text/plain": [
       "torch.Size([8, 8])"
      ]
     },
     "execution_count": 3,
     "metadata": {},
     "output_type": "execute_result"
    }
   ],
   "source": [
    "# We define a helper function to calculate convolutions. It initializes the\n",
    "# convolutional layer weights and performs corresponding dimensionality\n",
    "# elevations and reductions on the input and output\n",
    "def comp_conv2d(conv2d, X):\n",
    "    # (1, 1) indicates that batch size and the number of channels are both 1\n",
    "    X = X.reshape((1, 1) + X.shape)\n",
    "    Y = conv2d(X)\n",
    "    # Strip the first two dimensions: examples and channels\n",
    "    return Y.reshape(Y.shape[2:])\n",
    "\n",
    "# 1 row and column is padded on either side, so a total of 2 rows or columns\n",
    "# are added\n",
    "conv2d = nn.LazyConv2d(1, kernel_size=3, padding=1)\n",
    "X = torch.rand(size=(8, 8))\n",
    "comp_conv2d(conv2d, X).shape"
   ]
  },
  {
   "cell_type": "code",
   "execution_count": 4,
   "id": "6639fde6",
   "metadata": {
    "execution": {
     "iopub.execute_input": "2024-12-05T10:50:35.422419Z",
     "iopub.status.busy": "2024-12-05T10:50:35.422020Z",
     "iopub.status.idle": "2024-12-05T10:50:35.432415Z",
     "shell.execute_reply": "2024-12-05T10:50:35.431576Z"
    },
    "papermill": {
     "duration": 0.017244,
     "end_time": "2024-12-05T10:50:35.434835",
     "exception": false,
     "start_time": "2024-12-05T10:50:35.417591",
     "status": "completed"
    },
    "tags": []
   },
   "outputs": [
    {
     "data": {
      "text/plain": [
       "torch.Size([8, 8])"
      ]
     },
     "execution_count": 4,
     "metadata": {},
     "output_type": "execute_result"
    }
   ],
   "source": [
    "# We use a convolution kernel with height 5 and width 3. The padding on either\n",
    "# side of the height and width are 2 and 1, respectively\n",
    "conv2d = nn.LazyConv2d(1, kernel_size=(5, 3), padding=(2, 1))\n",
    "comp_conv2d(conv2d, X).shape"
   ]
  },
  {
   "cell_type": "markdown",
   "id": "067998e4",
   "metadata": {
    "papermill": {
     "duration": 0.003757,
     "end_time": "2024-12-05T10:50:35.442177",
     "exception": false,
     "start_time": "2024-12-05T10:50:35.438420",
     "status": "completed"
    },
    "tags": []
   },
   "source": [
    "![image](https://d2l.ai/_images/conv-stride.svg)"
   ]
  },
  {
   "cell_type": "code",
   "execution_count": 5,
   "id": "09c584fc",
   "metadata": {
    "execution": {
     "iopub.execute_input": "2024-12-05T10:50:35.451058Z",
     "iopub.status.busy": "2024-12-05T10:50:35.450612Z",
     "iopub.status.idle": "2024-12-05T10:50:35.460003Z",
     "shell.execute_reply": "2024-12-05T10:50:35.458961Z"
    },
    "papermill": {
     "duration": 0.016595,
     "end_time": "2024-12-05T10:50:35.462245",
     "exception": false,
     "start_time": "2024-12-05T10:50:35.445650",
     "status": "completed"
    },
    "tags": []
   },
   "outputs": [
    {
     "data": {
      "text/plain": [
       "torch.Size([4, 4])"
      ]
     },
     "execution_count": 5,
     "metadata": {},
     "output_type": "execute_result"
    }
   ],
   "source": [
    "conv2d = nn.LazyConv2d(1, kernel_size=3, padding=1, stride=2)\n",
    "comp_conv2d(conv2d, X).shape"
   ]
  },
  {
   "cell_type": "code",
   "execution_count": 6,
   "id": "e5c7e9d3",
   "metadata": {
    "execution": {
     "iopub.execute_input": "2024-12-05T10:50:35.471575Z",
     "iopub.status.busy": "2024-12-05T10:50:35.470488Z",
     "iopub.status.idle": "2024-12-05T10:50:35.481187Z",
     "shell.execute_reply": "2024-12-05T10:50:35.479927Z"
    },
    "papermill": {
     "duration": 0.017934,
     "end_time": "2024-12-05T10:50:35.483734",
     "exception": false,
     "start_time": "2024-12-05T10:50:35.465800",
     "status": "completed"
    },
    "tags": []
   },
   "outputs": [
    {
     "data": {
      "text/plain": [
       "torch.Size([2, 2])"
      ]
     },
     "execution_count": 6,
     "metadata": {},
     "output_type": "execute_result"
    }
   ],
   "source": [
    "conv2d = nn.LazyConv2d(1, kernel_size=(3, 5), padding=(0, 1), stride=(3, 4))\n",
    "comp_conv2d(conv2d, X).shape"
   ]
  }
 ],
 "metadata": {
  "kaggle": {
   "accelerator": "none",
   "dataSources": [],
   "dockerImageVersionId": 30804,
   "isGpuEnabled": false,
   "isInternetEnabled": true,
   "language": "python",
   "sourceType": "notebook"
  },
  "kernelspec": {
   "display_name": "Python 3",
   "language": "python",
   "name": "python3"
  },
  "language_info": {
   "codemirror_mode": {
    "name": "ipython",
    "version": 3
   },
   "file_extension": ".py",
   "mimetype": "text/x-python",
   "name": "python",
   "nbconvert_exporter": "python",
   "pygments_lexer": "ipython3",
   "version": "3.10.14"
  },
  "papermill": {
   "default_parameters": {},
   "duration": 8.15754,
   "end_time": "2024-12-05T10:50:36.410964",
   "environment_variables": {},
   "exception": null,
   "input_path": "__notebook__.ipynb",
   "output_path": "__notebook__.ipynb",
   "parameters": {},
   "start_time": "2024-12-05T10:50:28.253424",
   "version": "2.6.0"
  }
 },
 "nbformat": 4,
 "nbformat_minor": 5
}
