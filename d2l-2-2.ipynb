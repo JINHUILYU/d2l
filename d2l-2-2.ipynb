{
 "cells": [
  {
   "cell_type": "code",
   "execution_count": 1,
   "id": "3c18d15e",
   "metadata": {
    "_cell_guid": "b1076dfc-b9ad-4769-8c92-a6c4dae69d19",
    "_uuid": "8f2839f25d086af736a60e9eeb907d3b93b6e0e5",
    "execution": {
     "iopub.execute_input": "2024-11-11T08:56:42.740488Z",
     "iopub.status.busy": "2024-11-11T08:56:42.739911Z",
     "iopub.status.idle": "2024-11-11T08:56:43.909674Z",
     "shell.execute_reply": "2024-11-11T08:56:43.908214Z"
    },
    "papermill": {
     "duration": 1.180124,
     "end_time": "2024-11-11T08:56:43.914005",
     "exception": false,
     "start_time": "2024-11-11T08:56:42.733881",
     "status": "completed"
    },
    "tags": []
   },
   "outputs": [],
   "source": [
    "# This Python 3 environment comes with many helpful analytics libraries installed\n",
    "# It is defined by the kaggle/python Docker image: https://github.com/kaggle/docker-python\n",
    "# For example, here's several helpful packages to load\n",
    "\n",
    "import numpy as np # linear algebra\n",
    "import pandas as pd # data processing, CSV file I/O (e.g. pd.read_csv)\n",
    "\n",
    "# Input data files are available in the read-only \"../input/\" directory\n",
    "# For example, running this (by clicking run or pressing Shift+Enter) will list all files under the input directory\n",
    "\n",
    "import os\n",
    "for dirname, _, filenames in os.walk('/kaggle/input'):\n",
    "    for filename in filenames:\n",
    "        print(os.path.join(dirname, filename))\n",
    "\n",
    "# You can write up to 20GB to the current directory (/kaggle/working/) that gets preserved as output when you create a version using \"Save & Run All\" \n",
    "# You can also write temporary files to /kaggle/temp/, but they won't be saved outside of the current session"
   ]
  },
  {
   "cell_type": "code",
   "execution_count": 2,
   "id": "f68d8a22",
   "metadata": {
    "execution": {
     "iopub.execute_input": "2024-11-11T08:56:43.924450Z",
     "iopub.status.busy": "2024-11-11T08:56:43.923852Z",
     "iopub.status.idle": "2024-11-11T08:56:43.932748Z",
     "shell.execute_reply": "2024-11-11T08:56:43.931166Z"
    },
    "papermill": {
     "duration": 0.017684,
     "end_time": "2024-11-11T08:56:43.935721",
     "exception": false,
     "start_time": "2024-11-11T08:56:43.918037",
     "status": "completed"
    },
    "tags": []
   },
   "outputs": [],
   "source": [
    "import os\n",
    "\n",
    "os.makedirs(os.path.join('..', 'data'), exist_ok=True)\n",
    "data_file = os.path.join('..', 'data', 'house_tiny.csv')\n",
    "with open(data_file, 'w') as f:\n",
    "    f.write('''NumRooms,RoofType,Price\n",
    "NA,NA,127500\n",
    "2,NA,106000\n",
    "4,Slate,178100\n",
    "NA,NA,140000''')"
   ]
  },
  {
   "cell_type": "code",
   "execution_count": 3,
   "id": "f831fc41",
   "metadata": {
    "execution": {
     "iopub.execute_input": "2024-11-11T08:56:43.944886Z",
     "iopub.status.busy": "2024-11-11T08:56:43.944329Z",
     "iopub.status.idle": "2024-11-11T08:56:43.973227Z",
     "shell.execute_reply": "2024-11-11T08:56:43.971945Z"
    },
    "papermill": {
     "duration": 0.037132,
     "end_time": "2024-11-11T08:56:43.976362",
     "exception": false,
     "start_time": "2024-11-11T08:56:43.939230",
     "status": "completed"
    },
    "tags": []
   },
   "outputs": [
    {
     "name": "stdout",
     "output_type": "stream",
     "text": [
      "   NumRooms RoofType   Price\n",
      "0       NaN      NaN  127500\n",
      "1       2.0      NaN  106000\n",
      "2       4.0    Slate  178100\n",
      "3       NaN      NaN  140000\n"
     ]
    }
   ],
   "source": [
    "import pandas as pd\n",
    "\n",
    "data = pd.read_csv(data_file)\n",
    "print(data)"
   ]
  },
  {
   "cell_type": "code",
   "execution_count": 4,
   "id": "f9d8292d",
   "metadata": {
    "execution": {
     "iopub.execute_input": "2024-11-11T08:56:43.986042Z",
     "iopub.status.busy": "2024-11-11T08:56:43.985544Z",
     "iopub.status.idle": "2024-11-11T08:56:44.008476Z",
     "shell.execute_reply": "2024-11-11T08:56:44.006863Z"
    },
    "papermill": {
     "duration": 0.031772,
     "end_time": "2024-11-11T08:56:44.011669",
     "exception": false,
     "start_time": "2024-11-11T08:56:43.979897",
     "status": "completed"
    },
    "tags": []
   },
   "outputs": [
    {
     "name": "stdout",
     "output_type": "stream",
     "text": [
      "   NumRooms  RoofType_Slate  RoofType_nan\n",
      "0       NaN           False          True\n",
      "1       2.0           False          True\n",
      "2       4.0            True         False\n",
      "3       NaN           False          True\n"
     ]
    }
   ],
   "source": [
    "inputs, targets = data.iloc[:, 0:2], data.iloc[:, 2]  # 将数据的前两列作为输入，最后一列作为输出\n",
    "inputs = pd.get_dummies(inputs, dummy_na=True)  # 对于分类字段，将NaN和Slate作为类别\n",
    "print(inputs)"
   ]
  },
  {
   "cell_type": "code",
   "execution_count": 5,
   "id": "742cc797",
   "metadata": {
    "execution": {
     "iopub.execute_input": "2024-11-11T08:56:44.022219Z",
     "iopub.status.busy": "2024-11-11T08:56:44.020799Z",
     "iopub.status.idle": "2024-11-11T08:56:44.035094Z",
     "shell.execute_reply": "2024-11-11T08:56:44.033678Z"
    },
    "papermill": {
     "duration": 0.023164,
     "end_time": "2024-11-11T08:56:44.038540",
     "exception": false,
     "start_time": "2024-11-11T08:56:44.015376",
     "status": "completed"
    },
    "tags": []
   },
   "outputs": [
    {
     "name": "stdout",
     "output_type": "stream",
     "text": [
      "   NumRooms  RoofType_Slate  RoofType_nan\n",
      "0       3.0           False          True\n",
      "1       2.0           False          True\n",
      "2       4.0            True         False\n",
      "3       3.0           False          True\n"
     ]
    }
   ],
   "source": [
    "inputs = inputs.fillna(inputs.mean())  # 对于数值字段中缺失的数据，使用均值填充\n",
    "print(inputs)"
   ]
  },
  {
   "cell_type": "code",
   "execution_count": 6,
   "id": "b7108905",
   "metadata": {
    "execution": {
     "iopub.execute_input": "2024-11-11T08:56:44.048638Z",
     "iopub.status.busy": "2024-11-11T08:56:44.048172Z",
     "iopub.status.idle": "2024-11-11T08:56:48.235303Z",
     "shell.execute_reply": "2024-11-11T08:56:48.233697Z"
    },
    "papermill": {
     "duration": 4.197188,
     "end_time": "2024-11-11T08:56:48.239907",
     "exception": false,
     "start_time": "2024-11-11T08:56:44.042719",
     "status": "completed"
    },
    "tags": []
   },
   "outputs": [
    {
     "data": {
      "text/plain": [
       "(tensor([[3., 0., 1.],\n",
       "         [2., 0., 1.],\n",
       "         [4., 1., 0.],\n",
       "         [3., 0., 1.]], dtype=torch.float64),\n",
       " tensor([127500., 106000., 178100., 140000.], dtype=torch.float64))"
      ]
     },
     "execution_count": 6,
     "metadata": {},
     "output_type": "execute_result"
    }
   ],
   "source": [
    "import torch\n",
    "\n",
    "# 将数据格式转为Tensor\n",
    "X = torch.tensor(inputs.to_numpy(dtype=float))\n",
    "y = torch.tensor(targets.to_numpy(dtype=float))\n",
    "X, y"
   ]
  }
 ],
 "metadata": {
  "kaggle": {
   "accelerator": "none",
   "dataSources": [],
   "dockerImageVersionId": 30786,
   "isGpuEnabled": false,
   "isInternetEnabled": true,
   "language": "python",
   "sourceType": "notebook"
  },
  "kernelspec": {
   "display_name": "Python 3",
   "language": "python",
   "name": "python3"
  },
  "language_info": {
   "codemirror_mode": {
    "name": "ipython",
    "version": 3
   },
   "file_extension": ".py",
   "mimetype": "text/x-python",
   "name": "python",
   "nbconvert_exporter": "python",
   "pygments_lexer": "ipython3",
   "version": "3.10.14"
  },
  "papermill": {
   "default_parameters": {},
   "duration": 10.687071,
   "end_time": "2024-11-11T08:56:49.373594",
   "environment_variables": {},
   "exception": null,
   "input_path": "__notebook__.ipynb",
   "output_path": "__notebook__.ipynb",
   "parameters": {},
   "start_time": "2024-11-11T08:56:38.686523",
   "version": "2.6.0"
  }
 },
 "nbformat": 4,
 "nbformat_minor": 5
}
