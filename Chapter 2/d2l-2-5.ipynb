{
 "cells": [
  {
   "cell_type": "code",
   "execution_count": 1,
   "id": "253fe984",
   "metadata": {
    "_cell_guid": "b1076dfc-b9ad-4769-8c92-a6c4dae69d19",
    "_uuid": "8f2839f25d086af736a60e9eeb907d3b93b6e0e5",
    "execution": {
     "iopub.execute_input": "2024-11-11T10:46:02.671726Z",
     "iopub.status.busy": "2024-11-11T10:46:02.671286Z",
     "iopub.status.idle": "2024-11-11T10:46:03.698987Z",
     "shell.execute_reply": "2024-11-11T10:46:03.697652Z"
    },
    "papermill": {
     "duration": 1.039799,
     "end_time": "2024-11-11T10:46:03.702572",
     "exception": false,
     "start_time": "2024-11-11T10:46:02.662773",
     "status": "completed"
    },
    "tags": []
   },
   "outputs": [],
   "source": [
    "# This Python 3 environment comes with many helpful analytics libraries installed\n",
    "# It is defined by the kaggle/python Docker image: https://github.com/kaggle/docker-python\n",
    "# For example, here's several helpful packages to load\n",
    "\n",
    "import numpy as np # linear algebra\n",
    "import pandas as pd # data processing, CSV file I/O (e.g. pd.read_csv)\n",
    "\n",
    "# Input data files are available in the read-only \"../input/\" directory\n",
    "# For example, running this (by clicking run or pressing Shift+Enter) will list all files under the input directory\n",
    "\n",
    "import os\n",
    "for dirname, _, filenames in os.walk('/kaggle/input'):\n",
    "    for filename in filenames:\n",
    "        print(os.path.join(dirname, filename))\n",
    "\n",
    "# You can write up to 20GB to the current directory (/kaggle/working/) that gets preserved as output when you create a version using \"Save & Run All\" \n",
    "# You can also write temporary files to /kaggle/temp/, but they won't be saved outside of the current session"
   ]
  },
  {
   "cell_type": "code",
   "execution_count": 2,
   "id": "a480242f",
   "metadata": {
    "execution": {
     "iopub.execute_input": "2024-11-11T10:46:03.717184Z",
     "iopub.status.busy": "2024-11-11T10:46:03.716520Z",
     "iopub.status.idle": "2024-11-11T10:46:07.359939Z",
     "shell.execute_reply": "2024-11-11T10:46:07.358751Z"
    },
    "papermill": {
     "duration": 3.654376,
     "end_time": "2024-11-11T10:46:07.363330",
     "exception": false,
     "start_time": "2024-11-11T10:46:03.708954",
     "status": "completed"
    },
    "tags": []
   },
   "outputs": [],
   "source": [
    "import torch"
   ]
  },
  {
   "cell_type": "code",
   "execution_count": 3,
   "id": "9c6f6a78",
   "metadata": {
    "execution": {
     "iopub.execute_input": "2024-11-11T10:46:07.379663Z",
     "iopub.status.busy": "2024-11-11T10:46:07.377973Z",
     "iopub.status.idle": "2024-11-11T10:46:07.502817Z",
     "shell.execute_reply": "2024-11-11T10:46:07.501164Z"
    },
    "papermill": {
     "duration": 0.135972,
     "end_time": "2024-11-11T10:46:07.505762",
     "exception": false,
     "start_time": "2024-11-11T10:46:07.369790",
     "status": "completed"
    },
    "tags": []
   },
   "outputs": [
    {
     "data": {
      "text/plain": [
       "tensor([0., 1., 2., 3.])"
      ]
     },
     "execution_count": 3,
     "metadata": {},
     "output_type": "execute_result"
    }
   ],
   "source": [
    "x = torch.arange(4.0)\n",
    "x"
   ]
  },
  {
   "cell_type": "code",
   "execution_count": 4,
   "id": "85eedc09",
   "metadata": {
    "execution": {
     "iopub.execute_input": "2024-11-11T10:46:07.520116Z",
     "iopub.status.busy": "2024-11-11T10:46:07.519563Z",
     "iopub.status.idle": "2024-11-11T10:46:07.526257Z",
     "shell.execute_reply": "2024-11-11T10:46:07.524876Z"
    },
    "papermill": {
     "duration": 0.017022,
     "end_time": "2024-11-11T10:46:07.528935",
     "exception": false,
     "start_time": "2024-11-11T10:46:07.511913",
     "status": "completed"
    },
    "tags": []
   },
   "outputs": [],
   "source": [
    "# Can also create x = torch.arange(4.0, requires_grad=True)\n",
    "x.requires_grad_(True)\n",
    "x.grad  # The gradient is None by default"
   ]
  },
  {
   "cell_type": "markdown",
   "id": "372f6af4",
   "metadata": {
    "papermill": {
     "duration": 0.005539,
     "end_time": "2024-11-11T10:46:07.540573",
     "exception": false,
     "start_time": "2024-11-11T10:46:07.535034",
     "status": "completed"
    },
    "tags": []
   },
   "source": [
    "$y = 2\\mathbf{x}^{\\top}\\mathbf{x}$"
   ]
  },
  {
   "cell_type": "code",
   "execution_count": 5,
   "id": "cf31a52b",
   "metadata": {
    "execution": {
     "iopub.execute_input": "2024-11-11T10:46:07.555424Z",
     "iopub.status.busy": "2024-11-11T10:46:07.554868Z",
     "iopub.status.idle": "2024-11-11T10:46:07.570715Z",
     "shell.execute_reply": "2024-11-11T10:46:07.569220Z"
    },
    "papermill": {
     "duration": 0.026984,
     "end_time": "2024-11-11T10:46:07.573752",
     "exception": false,
     "start_time": "2024-11-11T10:46:07.546768",
     "status": "completed"
    },
    "tags": []
   },
   "outputs": [
    {
     "data": {
      "text/plain": [
       "tensor(28., grad_fn=<MulBackward0>)"
      ]
     },
     "execution_count": 5,
     "metadata": {},
     "output_type": "execute_result"
    }
   ],
   "source": [
    "y = 2 * torch.dot(x, x)  # 2 * (0^2 + 1^2 + 2^2 + 3^2)\n",
    "y"
   ]
  },
  {
   "cell_type": "code",
   "execution_count": 6,
   "id": "f9437589",
   "metadata": {
    "execution": {
     "iopub.execute_input": "2024-11-11T10:46:07.588573Z",
     "iopub.status.busy": "2024-11-11T10:46:07.588047Z",
     "iopub.status.idle": "2024-11-11T10:46:07.607249Z",
     "shell.execute_reply": "2024-11-11T10:46:07.605840Z"
    },
    "papermill": {
     "duration": 0.030035,
     "end_time": "2024-11-11T10:46:07.610106",
     "exception": false,
     "start_time": "2024-11-11T10:46:07.580071",
     "status": "completed"
    },
    "tags": []
   },
   "outputs": [
    {
     "data": {
      "text/plain": [
       "tensor([ 0.,  4.,  8., 12.])"
      ]
     },
     "execution_count": 6,
     "metadata": {},
     "output_type": "execute_result"
    }
   ],
   "source": [
    "y.backward()\n",
    "x.grad"
   ]
  },
  {
   "cell_type": "code",
   "execution_count": 7,
   "id": "82a00f1b",
   "metadata": {
    "execution": {
     "iopub.execute_input": "2024-11-11T10:46:07.624881Z",
     "iopub.status.busy": "2024-11-11T10:46:07.624388Z",
     "iopub.status.idle": "2024-11-11T10:46:07.635301Z",
     "shell.execute_reply": "2024-11-11T10:46:07.634110Z"
    },
    "papermill": {
     "duration": 0.021824,
     "end_time": "2024-11-11T10:46:07.638172",
     "exception": false,
     "start_time": "2024-11-11T10:46:07.616348",
     "status": "completed"
    },
    "tags": []
   },
   "outputs": [
    {
     "data": {
      "text/plain": [
       "tensor([True, True, True, True])"
      ]
     },
     "execution_count": 7,
     "metadata": {},
     "output_type": "execute_result"
    }
   ],
   "source": [
    "x.grad == 4 * x"
   ]
  },
  {
   "cell_type": "code",
   "execution_count": 8,
   "id": "babfb48a",
   "metadata": {
    "execution": {
     "iopub.execute_input": "2024-11-11T10:46:07.655646Z",
     "iopub.status.busy": "2024-11-11T10:46:07.655204Z",
     "iopub.status.idle": "2024-11-11T10:46:07.668784Z",
     "shell.execute_reply": "2024-11-11T10:46:07.667499Z"
    },
    "papermill": {
     "duration": 0.025382,
     "end_time": "2024-11-11T10:46:07.671695",
     "exception": false,
     "start_time": "2024-11-11T10:46:07.646313",
     "status": "completed"
    },
    "tags": []
   },
   "outputs": [
    {
     "data": {
      "text/plain": [
       "(tensor([0., 1., 2., 3.], requires_grad=True),\n",
       " tensor(6., grad_fn=<SumBackward0>),\n",
       " tensor([1., 1., 1., 1.]))"
      ]
     },
     "execution_count": 8,
     "metadata": {},
     "output_type": "execute_result"
    }
   ],
   "source": [
    "x.grad.zero_()  # Reset the gradient\n",
    "y = x.sum()\n",
    "y.backward()\n",
    "x, y, x.grad"
   ]
  },
  {
   "cell_type": "code",
   "execution_count": 9,
   "id": "ef8ad112",
   "metadata": {
    "execution": {
     "iopub.execute_input": "2024-11-11T10:46:07.688063Z",
     "iopub.status.busy": "2024-11-11T10:46:07.687566Z",
     "iopub.status.idle": "2024-11-11T10:46:08.671591Z",
     "shell.execute_reply": "2024-11-11T10:46:08.670089Z"
    },
    "papermill": {
     "duration": 0.995759,
     "end_time": "2024-11-11T10:46:08.674476",
     "exception": false,
     "start_time": "2024-11-11T10:46:07.678717",
     "status": "completed"
    },
    "tags": []
   },
   "outputs": [
    {
     "data": {
      "text/plain": [
       "(tensor([0., 1., 2., 3.], requires_grad=True),\n",
       " tensor([0., 1., 4., 9.], grad_fn=<MulBackward0>),\n",
       " tensor([0., 2., 4., 6.]))"
      ]
     },
     "execution_count": 9,
     "metadata": {},
     "output_type": "execute_result"
    }
   ],
   "source": [
    "x.grad.zero_()\n",
    "y = x * x\n",
    "y.backward(gradient=torch.ones(len(y)))  # Faster: y.sum().backward()\n",
    "x, y, x.grad"
   ]
  },
  {
   "cell_type": "code",
   "execution_count": 10,
   "id": "bea41e2d",
   "metadata": {
    "execution": {
     "iopub.execute_input": "2024-11-11T10:46:08.690639Z",
     "iopub.status.busy": "2024-11-11T10:46:08.689883Z",
     "iopub.status.idle": "2024-11-11T10:46:08.702823Z",
     "shell.execute_reply": "2024-11-11T10:46:08.701561Z"
    },
    "papermill": {
     "duration": 0.024356,
     "end_time": "2024-11-11T10:46:08.705685",
     "exception": false,
     "start_time": "2024-11-11T10:46:08.681329",
     "status": "completed"
    },
    "tags": []
   },
   "outputs": [
    {
     "data": {
      "text/plain": [
       "tensor([True, True, True, True])"
      ]
     },
     "execution_count": 10,
     "metadata": {},
     "output_type": "execute_result"
    }
   ],
   "source": [
    "x.grad.zero_()\n",
    "y = x * x\n",
    "u = y.detach()\n",
    "z = u * x\n",
    "\n",
    "z.sum().backward()\n",
    "x.grad == u"
   ]
  },
  {
   "cell_type": "code",
   "execution_count": 11,
   "id": "6891a32a",
   "metadata": {
    "execution": {
     "iopub.execute_input": "2024-11-11T10:46:08.722439Z",
     "iopub.status.busy": "2024-11-11T10:46:08.720914Z",
     "iopub.status.idle": "2024-11-11T10:46:08.731367Z",
     "shell.execute_reply": "2024-11-11T10:46:08.730200Z"
    },
    "papermill": {
     "duration": 0.021452,
     "end_time": "2024-11-11T10:46:08.733882",
     "exception": false,
     "start_time": "2024-11-11T10:46:08.712430",
     "status": "completed"
    },
    "tags": []
   },
   "outputs": [
    {
     "data": {
      "text/plain": [
       "tensor([True, True, True, True])"
      ]
     },
     "execution_count": 11,
     "metadata": {},
     "output_type": "execute_result"
    }
   ],
   "source": [
    "x.grad.zero_()\n",
    "y.sum().backward()\n",
    "x.grad == 2 * x"
   ]
  },
  {
   "cell_type": "code",
   "execution_count": 12,
   "id": "8a4bd3c4",
   "metadata": {
    "execution": {
     "iopub.execute_input": "2024-11-11T10:46:08.750020Z",
     "iopub.status.busy": "2024-11-11T10:46:08.749537Z",
     "iopub.status.idle": "2024-11-11T10:46:08.756644Z",
     "shell.execute_reply": "2024-11-11T10:46:08.755407Z"
    },
    "papermill": {
     "duration": 0.018334,
     "end_time": "2024-11-11T10:46:08.759313",
     "exception": false,
     "start_time": "2024-11-11T10:46:08.740979",
     "status": "completed"
    },
    "tags": []
   },
   "outputs": [],
   "source": [
    "def f(a):\n",
    "    b = a * 2\n",
    "    while b.norm() < 1000:\n",
    "        b = b * 2\n",
    "    if b.sum() > 0:\n",
    "        c = b\n",
    "    else:\n",
    "        c = 100 * b\n",
    "    return c"
   ]
  },
  {
   "cell_type": "code",
   "execution_count": 13,
   "id": "d425c857",
   "metadata": {
    "execution": {
     "iopub.execute_input": "2024-11-11T10:46:08.777132Z",
     "iopub.status.busy": "2024-11-11T10:46:08.776591Z",
     "iopub.status.idle": "2024-11-11T10:46:08.794429Z",
     "shell.execute_reply": "2024-11-11T10:46:08.793074Z"
    },
    "papermill": {
     "duration": 0.030181,
     "end_time": "2024-11-11T10:46:08.797298",
     "exception": false,
     "start_time": "2024-11-11T10:46:08.767117",
     "status": "completed"
    },
    "tags": []
   },
   "outputs": [],
   "source": [
    "a = torch.randn(size=(), requires_grad=True)\n",
    "d = f(a)\n",
    "d.backward()"
   ]
  },
  {
   "cell_type": "code",
   "execution_count": 14,
   "id": "8870c23d",
   "metadata": {
    "execution": {
     "iopub.execute_input": "2024-11-11T10:46:08.813878Z",
     "iopub.status.busy": "2024-11-11T10:46:08.813293Z",
     "iopub.status.idle": "2024-11-11T10:46:08.823626Z",
     "shell.execute_reply": "2024-11-11T10:46:08.822320Z"
    },
    "papermill": {
     "duration": 0.022739,
     "end_time": "2024-11-11T10:46:08.827045",
     "exception": false,
     "start_time": "2024-11-11T10:46:08.804306",
     "status": "completed"
    },
    "tags": []
   },
   "outputs": [
    {
     "data": {
      "text/plain": [
       "tensor(True)"
      ]
     },
     "execution_count": 14,
     "metadata": {},
     "output_type": "execute_result"
    }
   ],
   "source": [
    "a.grad == d / a"
   ]
  }
 ],
 "metadata": {
  "kaggle": {
   "accelerator": "none",
   "dataSources": [],
   "dockerImageVersionId": 30786,
   "isGpuEnabled": false,
   "isInternetEnabled": true,
   "language": "python",
   "sourceType": "notebook"
  },
  "kernelspec": {
   "display_name": "Python 3",
   "language": "python",
   "name": "python3"
  },
  "language_info": {
   "codemirror_mode": {
    "name": "ipython",
    "version": 3
   },
   "file_extension": ".py",
   "mimetype": "text/x-python",
   "name": "python",
   "nbconvert_exporter": "python",
   "pygments_lexer": "ipython3",
   "version": "3.10.14"
  },
  "papermill": {
   "default_parameters": {},
   "duration": 10.523162,
   "end_time": "2024-11-11T10:46:09.960212",
   "environment_variables": {},
   "exception": null,
   "input_path": "__notebook__.ipynb",
   "output_path": "__notebook__.ipynb",
   "parameters": {},
   "start_time": "2024-11-11T10:45:59.437050",
   "version": "2.6.0"
  }
 },
 "nbformat": 4,
 "nbformat_minor": 5
}
