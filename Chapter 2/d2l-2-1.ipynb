{
 "cells": [
  {
   "cell_type": "code",
   "execution_count": 1,
   "id": "c585d8f7",
   "metadata": {
    "_cell_guid": "b1076dfc-b9ad-4769-8c92-a6c4dae69d19",
    "_uuid": "8f2839f25d086af736a60e9eeb907d3b93b6e0e5",
    "execution": {
     "iopub.execute_input": "2024-11-11T08:48:27.524772Z",
     "iopub.status.busy": "2024-11-11T08:48:27.524305Z",
     "iopub.status.idle": "2024-11-11T08:48:28.475832Z",
     "shell.execute_reply": "2024-11-11T08:48:28.474602Z"
    },
    "papermill": {
     "duration": 0.965895,
     "end_time": "2024-11-11T08:48:28.478807",
     "exception": false,
     "start_time": "2024-11-11T08:48:27.512912",
     "status": "completed"
    },
    "tags": []
   },
   "outputs": [],
   "source": [
    "# This Python 3 environment comes with many helpful analytics libraries installed\n",
    "# It is defined by the kaggle/python Docker image: https://github.com/kaggle/docker-python\n",
    "# For example, here's several helpful packages to load\n",
    "\n",
    "import numpy as np # linear algebra\n",
    "import pandas as pd # data processing, CSV file I/O (e.g. pd.read_csv)\n",
    "\n",
    "# Input data files are available in the read-only \"../input/\" directory\n",
    "# For example, running this (by clicking run or pressing Shift+Enter) will list all files under the input directory\n",
    "\n",
    "import os\n",
    "for dirname, _, filenames in os.walk('/kaggle/input'):\n",
    "    for filename in filenames:\n",
    "        print(os.path.join(dirname, filename))\n",
    "\n",
    "# You can write up to 20GB to the current directory (/kaggle/working/) that gets preserved as output when you create a version using \"Save & Run All\" \n",
    "# You can also write temporary files to /kaggle/temp/, but they won't be saved outside of the current session"
   ]
  },
  {
   "cell_type": "code",
   "execution_count": 2,
   "id": "af85ca0a",
   "metadata": {
    "execution": {
     "iopub.execute_input": "2024-11-11T08:48:28.499070Z",
     "iopub.status.busy": "2024-11-11T08:48:28.497546Z",
     "iopub.status.idle": "2024-11-11T08:48:31.963502Z",
     "shell.execute_reply": "2024-11-11T08:48:31.962198Z"
    },
    "papermill": {
     "duration": 3.479167,
     "end_time": "2024-11-11T08:48:31.966772",
     "exception": false,
     "start_time": "2024-11-11T08:48:28.487605",
     "status": "completed"
    },
    "tags": []
   },
   "outputs": [],
   "source": [
    "import torch"
   ]
  },
  {
   "cell_type": "code",
   "execution_count": 3,
   "id": "d1c7f2e4",
   "metadata": {
    "execution": {
     "iopub.execute_input": "2024-11-11T08:48:31.986714Z",
     "iopub.status.busy": "2024-11-11T08:48:31.986097Z",
     "iopub.status.idle": "2024-11-11T08:48:32.106939Z",
     "shell.execute_reply": "2024-11-11T08:48:32.105683Z"
    },
    "papermill": {
     "duration": 0.133967,
     "end_time": "2024-11-11T08:48:32.109663",
     "exception": false,
     "start_time": "2024-11-11T08:48:31.975696",
     "status": "completed"
    },
    "tags": []
   },
   "outputs": [
    {
     "data": {
      "text/plain": [
       "tensor([ 0.,  1.,  2.,  3.,  4.,  5.,  6.,  7.,  8.,  9., 10., 11.])"
      ]
     },
     "execution_count": 3,
     "metadata": {},
     "output_type": "execute_result"
    }
   ],
   "source": [
    "x = torch.arange(12, dtype=torch.float32)\n",
    "x"
   ]
  },
  {
   "cell_type": "code",
   "execution_count": 4,
   "id": "cb37b785",
   "metadata": {
    "execution": {
     "iopub.execute_input": "2024-11-11T08:48:32.130284Z",
     "iopub.status.busy": "2024-11-11T08:48:32.129839Z",
     "iopub.status.idle": "2024-11-11T08:48:32.139568Z",
     "shell.execute_reply": "2024-11-11T08:48:32.137958Z"
    },
    "papermill": {
     "duration": 0.023884,
     "end_time": "2024-11-11T08:48:32.142455",
     "exception": false,
     "start_time": "2024-11-11T08:48:32.118571",
     "status": "completed"
    },
    "tags": []
   },
   "outputs": [
    {
     "data": {
      "text/plain": [
       "12"
      ]
     },
     "execution_count": 4,
     "metadata": {},
     "output_type": "execute_result"
    }
   ],
   "source": [
    "x.numel()  # x中元素的个数"
   ]
  },
  {
   "cell_type": "code",
   "execution_count": 5,
   "id": "73a4aa00",
   "metadata": {
    "execution": {
     "iopub.execute_input": "2024-11-11T08:48:32.162962Z",
     "iopub.status.busy": "2024-11-11T08:48:32.162535Z",
     "iopub.status.idle": "2024-11-11T08:48:32.170593Z",
     "shell.execute_reply": "2024-11-11T08:48:32.169192Z"
    },
    "papermill": {
     "duration": 0.021761,
     "end_time": "2024-11-11T08:48:32.173224",
     "exception": false,
     "start_time": "2024-11-11T08:48:32.151463",
     "status": "completed"
    },
    "tags": []
   },
   "outputs": [
    {
     "data": {
      "text/plain": [
       "torch.Size([12])"
      ]
     },
     "execution_count": 5,
     "metadata": {},
     "output_type": "execute_result"
    }
   ],
   "source": [
    "x.shape"
   ]
  },
  {
   "cell_type": "code",
   "execution_count": 6,
   "id": "999b2a27",
   "metadata": {
    "execution": {
     "iopub.execute_input": "2024-11-11T08:48:32.194472Z",
     "iopub.status.busy": "2024-11-11T08:48:32.193929Z",
     "iopub.status.idle": "2024-11-11T08:48:32.203531Z",
     "shell.execute_reply": "2024-11-11T08:48:32.202299Z"
    },
    "papermill": {
     "duration": 0.022586,
     "end_time": "2024-11-11T08:48:32.206150",
     "exception": false,
     "start_time": "2024-11-11T08:48:32.183564",
     "status": "completed"
    },
    "tags": []
   },
   "outputs": [
    {
     "data": {
      "text/plain": [
       "tensor([[ 0.,  1.,  2.,  3.],\n",
       "        [ 4.,  5.,  6.,  7.],\n",
       "        [ 8.,  9., 10., 11.]])"
      ]
     },
     "execution_count": 6,
     "metadata": {},
     "output_type": "execute_result"
    }
   ],
   "source": [
    "X = x.reshape(3, 4)\n",
    "X"
   ]
  },
  {
   "cell_type": "code",
   "execution_count": 7,
   "id": "42790b21",
   "metadata": {
    "execution": {
     "iopub.execute_input": "2024-11-11T08:48:32.228319Z",
     "iopub.status.busy": "2024-11-11T08:48:32.227869Z",
     "iopub.status.idle": "2024-11-11T08:48:32.238070Z",
     "shell.execute_reply": "2024-11-11T08:48:32.236902Z"
    },
    "papermill": {
     "duration": 0.02403,
     "end_time": "2024-11-11T08:48:32.240796",
     "exception": false,
     "start_time": "2024-11-11T08:48:32.216766",
     "status": "completed"
    },
    "tags": []
   },
   "outputs": [
    {
     "data": {
      "text/plain": [
       "tensor([[[0., 0., 0., 0.],\n",
       "         [0., 0., 0., 0.],\n",
       "         [0., 0., 0., 0.]],\n",
       "\n",
       "        [[0., 0., 0., 0.],\n",
       "         [0., 0., 0., 0.],\n",
       "         [0., 0., 0., 0.]]])"
      ]
     },
     "execution_count": 7,
     "metadata": {},
     "output_type": "execute_result"
    }
   ],
   "source": [
    "torch.zeros((2, 3, 4))"
   ]
  },
  {
   "cell_type": "code",
   "execution_count": 8,
   "id": "2b139587",
   "metadata": {
    "execution": {
     "iopub.execute_input": "2024-11-11T08:48:32.261987Z",
     "iopub.status.busy": "2024-11-11T08:48:32.261540Z",
     "iopub.status.idle": "2024-11-11T08:48:32.272000Z",
     "shell.execute_reply": "2024-11-11T08:48:32.270863Z"
    },
    "papermill": {
     "duration": 0.024112,
     "end_time": "2024-11-11T08:48:32.274698",
     "exception": false,
     "start_time": "2024-11-11T08:48:32.250586",
     "status": "completed"
    },
    "tags": []
   },
   "outputs": [
    {
     "data": {
      "text/plain": [
       "tensor([[[1., 1., 1., 1.],\n",
       "         [1., 1., 1., 1.],\n",
       "         [1., 1., 1., 1.]],\n",
       "\n",
       "        [[1., 1., 1., 1.],\n",
       "         [1., 1., 1., 1.],\n",
       "         [1., 1., 1., 1.]]])"
      ]
     },
     "execution_count": 8,
     "metadata": {},
     "output_type": "execute_result"
    }
   ],
   "source": [
    "torch.ones((2, 3, 4))"
   ]
  },
  {
   "cell_type": "code",
   "execution_count": 9,
   "id": "07fc337d",
   "metadata": {
    "execution": {
     "iopub.execute_input": "2024-11-11T08:48:32.295979Z",
     "iopub.status.busy": "2024-11-11T08:48:32.295527Z",
     "iopub.status.idle": "2024-11-11T08:48:32.306908Z",
     "shell.execute_reply": "2024-11-11T08:48:32.305769Z"
    },
    "papermill": {
     "duration": 0.024876,
     "end_time": "2024-11-11T08:48:32.309614",
     "exception": false,
     "start_time": "2024-11-11T08:48:32.284738",
     "status": "completed"
    },
    "tags": []
   },
   "outputs": [
    {
     "data": {
      "text/plain": [
       "tensor([[ 0.2960,  1.5569, -0.4380,  1.2910],\n",
       "        [ 2.0625, -0.2917,  2.8286, -0.0410],\n",
       "        [ 0.5390,  0.8283, -0.5930, -0.6720]])"
      ]
     },
     "execution_count": 9,
     "metadata": {},
     "output_type": "execute_result"
    }
   ],
   "source": [
    "torch.randn(3, 4)  # 从均值为0，方差为1的高斯分布中随机采样"
   ]
  },
  {
   "cell_type": "code",
   "execution_count": 10,
   "id": "ca8407e3",
   "metadata": {
    "execution": {
     "iopub.execute_input": "2024-11-11T08:48:32.330902Z",
     "iopub.status.busy": "2024-11-11T08:48:32.330489Z",
     "iopub.status.idle": "2024-11-11T08:48:32.340811Z",
     "shell.execute_reply": "2024-11-11T08:48:32.339632Z"
    },
    "papermill": {
     "duration": 0.024281,
     "end_time": "2024-11-11T08:48:32.343698",
     "exception": false,
     "start_time": "2024-11-11T08:48:32.319417",
     "status": "completed"
    },
    "tags": []
   },
   "outputs": [
    {
     "data": {
      "text/plain": [
       "tensor([[2, 1, 4, 3],\n",
       "        [1, 2, 3, 4],\n",
       "        [4, 3, 2, 1]])"
      ]
     },
     "execution_count": 10,
     "metadata": {},
     "output_type": "execute_result"
    }
   ],
   "source": [
    "torch.tensor([[2, 1, 4, 3], [1, 2, 3, 4], [4, 3, 2, 1]])"
   ]
  },
  {
   "cell_type": "code",
   "execution_count": 11,
   "id": "38dcea63",
   "metadata": {
    "execution": {
     "iopub.execute_input": "2024-11-11T08:48:32.365285Z",
     "iopub.status.busy": "2024-11-11T08:48:32.364843Z",
     "iopub.status.idle": "2024-11-11T08:48:32.382618Z",
     "shell.execute_reply": "2024-11-11T08:48:32.381418Z"
    },
    "papermill": {
     "duration": 0.03157,
     "end_time": "2024-11-11T08:48:32.385215",
     "exception": false,
     "start_time": "2024-11-11T08:48:32.353645",
     "status": "completed"
    },
    "tags": []
   },
   "outputs": [
    {
     "data": {
      "text/plain": [
       "(tensor([[ 0.,  1.,  2.,  3.],\n",
       "         [ 4.,  5.,  6.,  7.],\n",
       "         [ 8.,  9., 10., 11.]]),\n",
       " tensor([ 8.,  9., 10., 11.]),\n",
       " tensor([[ 4.,  5.,  6.,  7.],\n",
       "         [ 8.,  9., 10., 11.]]))"
      ]
     },
     "execution_count": 11,
     "metadata": {},
     "output_type": "execute_result"
    }
   ],
   "source": [
    "X, X[-1], X[1:3]"
   ]
  },
  {
   "cell_type": "code",
   "execution_count": 12,
   "id": "48d2986a",
   "metadata": {
    "execution": {
     "iopub.execute_input": "2024-11-11T08:48:32.406984Z",
     "iopub.status.busy": "2024-11-11T08:48:32.406569Z",
     "iopub.status.idle": "2024-11-11T08:48:32.417828Z",
     "shell.execute_reply": "2024-11-11T08:48:32.416337Z"
    },
    "papermill": {
     "duration": 0.026114,
     "end_time": "2024-11-11T08:48:32.421340",
     "exception": false,
     "start_time": "2024-11-11T08:48:32.395226",
     "status": "completed"
    },
    "tags": []
   },
   "outputs": [
    {
     "data": {
      "text/plain": [
       "tensor([[ 0.,  1.,  2.,  3.],\n",
       "        [ 4.,  5., 17.,  7.],\n",
       "        [ 8.,  9., 10., 11.]])"
      ]
     },
     "execution_count": 12,
     "metadata": {},
     "output_type": "execute_result"
    }
   ],
   "source": [
    "X[1, 2] = 17\n",
    "X"
   ]
  },
  {
   "cell_type": "code",
   "execution_count": 13,
   "id": "0aaef9e1",
   "metadata": {
    "execution": {
     "iopub.execute_input": "2024-11-11T08:48:32.450947Z",
     "iopub.status.busy": "2024-11-11T08:48:32.449525Z",
     "iopub.status.idle": "2024-11-11T08:48:32.460686Z",
     "shell.execute_reply": "2024-11-11T08:48:32.458472Z"
    },
    "papermill": {
     "duration": 0.030175,
     "end_time": "2024-11-11T08:48:32.464065",
     "exception": false,
     "start_time": "2024-11-11T08:48:32.433890",
     "status": "completed"
    },
    "tags": []
   },
   "outputs": [
    {
     "data": {
      "text/plain": [
       "tensor([[12., 12., 12., 12.],\n",
       "        [12., 12., 12., 12.],\n",
       "        [ 8.,  9., 10., 11.]])"
      ]
     },
     "execution_count": 13,
     "metadata": {},
     "output_type": "execute_result"
    }
   ],
   "source": [
    "X[:2, :] = 12\n",
    "X"
   ]
  },
  {
   "cell_type": "code",
   "execution_count": 14,
   "id": "c37c5084",
   "metadata": {
    "execution": {
     "iopub.execute_input": "2024-11-11T08:48:32.489147Z",
     "iopub.status.busy": "2024-11-11T08:48:32.488717Z",
     "iopub.status.idle": "2024-11-11T08:48:32.506662Z",
     "shell.execute_reply": "2024-11-11T08:48:32.505345Z"
    },
    "papermill": {
     "duration": 0.03469,
     "end_time": "2024-11-11T08:48:32.509790",
     "exception": false,
     "start_time": "2024-11-11T08:48:32.475100",
     "status": "completed"
    },
    "tags": []
   },
   "outputs": [
    {
     "data": {
      "text/plain": [
       "(tensor([12., 12., 12., 12., 12., 12., 12., 12.,  8.,  9., 10., 11.]),\n",
       " tensor([162754.7969, 162754.7969, 162754.7969, 162754.7969, 162754.7969,\n",
       "         162754.7969, 162754.7969, 162754.7969,   2980.9580,   8103.0840,\n",
       "          22026.4648,  59874.1406]))"
      ]
     },
     "execution_count": 14,
     "metadata": {},
     "output_type": "execute_result"
    }
   ],
   "source": [
    "x, torch.exp(x)"
   ]
  },
  {
   "cell_type": "code",
   "execution_count": 15,
   "id": "c3a80133",
   "metadata": {
    "execution": {
     "iopub.execute_input": "2024-11-11T08:48:32.533870Z",
     "iopub.status.busy": "2024-11-11T08:48:32.533428Z",
     "iopub.status.idle": "2024-11-11T08:48:32.548055Z",
     "shell.execute_reply": "2024-11-11T08:48:32.546781Z"
    },
    "papermill": {
     "duration": 0.030414,
     "end_time": "2024-11-11T08:48:32.550700",
     "exception": false,
     "start_time": "2024-11-11T08:48:32.520286",
     "status": "completed"
    },
    "tags": []
   },
   "outputs": [
    {
     "data": {
      "text/plain": [
       "(tensor([ 3.,  4.,  6., 10.]),\n",
       " tensor([-1.,  0.,  2.,  6.]),\n",
       " tensor([ 2.,  4.,  8., 16.]),\n",
       " tensor([0.5000, 1.0000, 2.0000, 4.0000]),\n",
       " tensor([ 1.,  4., 16., 64.]))"
      ]
     },
     "execution_count": 15,
     "metadata": {},
     "output_type": "execute_result"
    }
   ],
   "source": [
    "x = torch.tensor([1.0, 2, 4, 8])\n",
    "y = torch.tensor([2, 2, 2, 2])\n",
    "x + y, x - y, x * y, x / y, x ** y"
   ]
  },
  {
   "cell_type": "code",
   "execution_count": 16,
   "id": "cb883737",
   "metadata": {
    "execution": {
     "iopub.execute_input": "2024-11-11T08:48:32.578090Z",
     "iopub.status.busy": "2024-11-11T08:48:32.577523Z",
     "iopub.status.idle": "2024-11-11T08:48:32.599033Z",
     "shell.execute_reply": "2024-11-11T08:48:32.596864Z"
    },
    "papermill": {
     "duration": 0.039621,
     "end_time": "2024-11-11T08:48:32.602054",
     "exception": false,
     "start_time": "2024-11-11T08:48:32.562433",
     "status": "completed"
    },
    "tags": []
   },
   "outputs": [
    {
     "data": {
      "text/plain": [
       "(tensor([[ 0.,  1.,  2.,  3.],\n",
       "         [ 4.,  5.,  6.,  7.],\n",
       "         [ 8.,  9., 10., 11.],\n",
       "         [ 2.,  1.,  4.,  3.],\n",
       "         [ 1.,  2.,  3.,  4.],\n",
       "         [ 4.,  3.,  2.,  1.]]),\n",
       " tensor([[ 0.,  1.,  2.,  3.,  2.,  1.,  4.,  3.],\n",
       "         [ 4.,  5.,  6.,  7.,  1.,  2.,  3.,  4.],\n",
       "         [ 8.,  9., 10., 11.,  4.,  3.,  2.,  1.]]))"
      ]
     },
     "execution_count": 16,
     "metadata": {},
     "output_type": "execute_result"
    }
   ],
   "source": [
    "X = torch.arange(12, dtype=torch.float32).reshape((3,4))\n",
    "Y = torch.tensor([[2.0, 1, 4, 3], [1, 2, 3, 4], [4, 3, 2, 1]])\n",
    "torch.cat((X, Y), dim=0), torch.cat((X, Y), dim=1)"
   ]
  },
  {
   "cell_type": "code",
   "execution_count": 17,
   "id": "a5e0dc4a",
   "metadata": {
    "execution": {
     "iopub.execute_input": "2024-11-11T08:48:32.642623Z",
     "iopub.status.busy": "2024-11-11T08:48:32.641968Z",
     "iopub.status.idle": "2024-11-11T08:48:32.651791Z",
     "shell.execute_reply": "2024-11-11T08:48:32.650533Z"
    },
    "papermill": {
     "duration": 0.035828,
     "end_time": "2024-11-11T08:48:32.656518",
     "exception": false,
     "start_time": "2024-11-11T08:48:32.620690",
     "status": "completed"
    },
    "tags": []
   },
   "outputs": [
    {
     "data": {
      "text/plain": [
       "tensor([[False,  True, False,  True],\n",
       "        [False, False, False, False],\n",
       "        [False, False, False, False]])"
      ]
     },
     "execution_count": 17,
     "metadata": {},
     "output_type": "execute_result"
    }
   ],
   "source": [
    "X == Y"
   ]
  },
  {
   "cell_type": "code",
   "execution_count": 18,
   "id": "c7b604e6",
   "metadata": {
    "execution": {
     "iopub.execute_input": "2024-11-11T08:48:32.689190Z",
     "iopub.status.busy": "2024-11-11T08:48:32.688271Z",
     "iopub.status.idle": "2024-11-11T08:48:32.699284Z",
     "shell.execute_reply": "2024-11-11T08:48:32.698062Z"
    },
    "papermill": {
     "duration": 0.028594,
     "end_time": "2024-11-11T08:48:32.702522",
     "exception": false,
     "start_time": "2024-11-11T08:48:32.673928",
     "status": "completed"
    },
    "tags": []
   },
   "outputs": [
    {
     "data": {
      "text/plain": [
       "tensor(66.)"
      ]
     },
     "execution_count": 18,
     "metadata": {},
     "output_type": "execute_result"
    }
   ],
   "source": [
    "X.sum()"
   ]
  },
  {
   "cell_type": "code",
   "execution_count": 19,
   "id": "787543a6",
   "metadata": {
    "execution": {
     "iopub.execute_input": "2024-11-11T08:48:32.735690Z",
     "iopub.status.busy": "2024-11-11T08:48:32.735250Z",
     "iopub.status.idle": "2024-11-11T08:48:32.744945Z",
     "shell.execute_reply": "2024-11-11T08:48:32.743725Z"
    },
    "papermill": {
     "duration": 0.026359,
     "end_time": "2024-11-11T08:48:32.747517",
     "exception": false,
     "start_time": "2024-11-11T08:48:32.721158",
     "status": "completed"
    },
    "tags": []
   },
   "outputs": [
    {
     "data": {
      "text/plain": [
       "(tensor([[0],\n",
       "         [1],\n",
       "         [2]]),\n",
       " tensor([[0, 1]]))"
      ]
     },
     "execution_count": 19,
     "metadata": {},
     "output_type": "execute_result"
    }
   ],
   "source": [
    "a = torch.arange(3).reshape((3, 1))\n",
    "b = torch.arange(2).reshape((1, 2))\n",
    "a, b"
   ]
  },
  {
   "cell_type": "code",
   "execution_count": 20,
   "id": "b05dfce5",
   "metadata": {
    "execution": {
     "iopub.execute_input": "2024-11-11T08:48:32.772209Z",
     "iopub.status.busy": "2024-11-11T08:48:32.771774Z",
     "iopub.status.idle": "2024-11-11T08:48:32.780537Z",
     "shell.execute_reply": "2024-11-11T08:48:32.779230Z"
    },
    "papermill": {
     "duration": 0.024415,
     "end_time": "2024-11-11T08:48:32.783165",
     "exception": false,
     "start_time": "2024-11-11T08:48:32.758750",
     "status": "completed"
    },
    "tags": []
   },
   "outputs": [
    {
     "data": {
      "text/plain": [
       "tensor([[0, 1],\n",
       "        [1, 2],\n",
       "        [2, 3]])"
      ]
     },
     "execution_count": 20,
     "metadata": {},
     "output_type": "execute_result"
    }
   ],
   "source": [
    "a + b"
   ]
  },
  {
   "cell_type": "code",
   "execution_count": 21,
   "id": "120ae36e",
   "metadata": {
    "execution": {
     "iopub.execute_input": "2024-11-11T08:48:32.812024Z",
     "iopub.status.busy": "2024-11-11T08:48:32.811338Z",
     "iopub.status.idle": "2024-11-11T08:48:32.822779Z",
     "shell.execute_reply": "2024-11-11T08:48:32.821020Z"
    },
    "papermill": {
     "duration": 0.031406,
     "end_time": "2024-11-11T08:48:32.826131",
     "exception": false,
     "start_time": "2024-11-11T08:48:32.794725",
     "status": "completed"
    },
    "tags": []
   },
   "outputs": [
    {
     "data": {
      "text/plain": [
       "False"
      ]
     },
     "execution_count": 21,
     "metadata": {},
     "output_type": "execute_result"
    }
   ],
   "source": [
    "before = id(Y)\n",
    "Y = Y + X\n",
    "id(Y) == before"
   ]
  },
  {
   "cell_type": "code",
   "execution_count": 22,
   "id": "f6e8a2d1",
   "metadata": {
    "execution": {
     "iopub.execute_input": "2024-11-11T08:48:32.856297Z",
     "iopub.status.busy": "2024-11-11T08:48:32.855276Z",
     "iopub.status.idle": "2024-11-11T08:48:32.863327Z",
     "shell.execute_reply": "2024-11-11T08:48:32.861970Z"
    },
    "papermill": {
     "duration": 0.024212,
     "end_time": "2024-11-11T08:48:32.866319",
     "exception": false,
     "start_time": "2024-11-11T08:48:32.842107",
     "status": "completed"
    },
    "tags": []
   },
   "outputs": [
    {
     "name": "stdout",
     "output_type": "stream",
     "text": [
      "id(Z): 132882925119872\n",
      "id(Z): 132882925119872\n"
     ]
    }
   ],
   "source": [
    "Z = torch.zeros_like(Y)\n",
    "print('id(Z):', id(Z))\n",
    "Z[:] = X + Y\n",
    "print('id(Z):', id(Z))"
   ]
  },
  {
   "cell_type": "code",
   "execution_count": 23,
   "id": "deeaa0d7",
   "metadata": {
    "execution": {
     "iopub.execute_input": "2024-11-11T08:48:32.899250Z",
     "iopub.status.busy": "2024-11-11T08:48:32.898815Z",
     "iopub.status.idle": "2024-11-11T08:48:32.908015Z",
     "shell.execute_reply": "2024-11-11T08:48:32.906797Z"
    },
    "papermill": {
     "duration": 0.026819,
     "end_time": "2024-11-11T08:48:32.910742",
     "exception": false,
     "start_time": "2024-11-11T08:48:32.883923",
     "status": "completed"
    },
    "tags": []
   },
   "outputs": [
    {
     "data": {
      "text/plain": [
       "True"
      ]
     },
     "execution_count": 23,
     "metadata": {},
     "output_type": "execute_result"
    }
   ],
   "source": [
    "before = id(X)\n",
    "X += Y\n",
    "id(X) == before"
   ]
  },
  {
   "cell_type": "code",
   "execution_count": 24,
   "id": "4608fc47",
   "metadata": {
    "execution": {
     "iopub.execute_input": "2024-11-11T08:48:32.936328Z",
     "iopub.status.busy": "2024-11-11T08:48:32.935917Z",
     "iopub.status.idle": "2024-11-11T08:48:32.945380Z",
     "shell.execute_reply": "2024-11-11T08:48:32.944124Z"
    },
    "papermill": {
     "duration": 0.025176,
     "end_time": "2024-11-11T08:48:32.947859",
     "exception": false,
     "start_time": "2024-11-11T08:48:32.922683",
     "status": "completed"
    },
    "tags": []
   },
   "outputs": [
    {
     "data": {
      "text/plain": [
       "(numpy.ndarray, torch.Tensor)"
      ]
     },
     "execution_count": 24,
     "metadata": {},
     "output_type": "execute_result"
    }
   ],
   "source": [
    "A = X.numpy()\n",
    "B = torch.from_numpy(A)  # 将numpy对象转为torch对象\n",
    "type(A), type(B)"
   ]
  },
  {
   "cell_type": "code",
   "execution_count": 25,
   "id": "2e630dd3",
   "metadata": {
    "execution": {
     "iopub.execute_input": "2024-11-11T08:48:32.974209Z",
     "iopub.status.busy": "2024-11-11T08:48:32.973802Z",
     "iopub.status.idle": "2024-11-11T08:48:32.982709Z",
     "shell.execute_reply": "2024-11-11T08:48:32.981607Z"
    },
    "papermill": {
     "duration": 0.02534,
     "end_time": "2024-11-11T08:48:32.985190",
     "exception": false,
     "start_time": "2024-11-11T08:48:32.959850",
     "status": "completed"
    },
    "tags": []
   },
   "outputs": [
    {
     "data": {
      "text/plain": [
       "(tensor([3.5000]), 3.5, 3.5, 3)"
      ]
     },
     "execution_count": 25,
     "metadata": {},
     "output_type": "execute_result"
    }
   ],
   "source": [
    "a = torch.tensor([3.5])\n",
    "a, a.item(), float(a), int(a)"
   ]
  }
 ],
 "metadata": {
  "kaggle": {
   "accelerator": "none",
   "dataSources": [],
   "dockerImageVersionId": 30786,
   "isGpuEnabled": false,
   "isInternetEnabled": true,
   "language": "python",
   "sourceType": "notebook"
  },
  "kernelspec": {
   "display_name": "Python 3",
   "language": "python",
   "name": "python3"
  },
  "language_info": {
   "codemirror_mode": {
    "name": "ipython",
    "version": 3
   },
   "file_extension": ".py",
   "mimetype": "text/x-python",
   "name": "python",
   "nbconvert_exporter": "python",
   "pygments_lexer": "ipython3",
   "version": "3.10.14"
  },
  "papermill": {
   "default_parameters": {},
   "duration": 9.810736,
   "end_time": "2024-11-11T08:48:34.022137",
   "environment_variables": {},
   "exception": null,
   "input_path": "__notebook__.ipynb",
   "output_path": "__notebook__.ipynb",
   "parameters": {},
   "start_time": "2024-11-11T08:48:24.211401",
   "version": "2.6.0"
  }
 },
 "nbformat": 4,
 "nbformat_minor": 5
}
