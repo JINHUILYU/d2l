{
 "cells": [
  {
   "cell_type": "code",
   "execution_count": 1,
   "id": "284e3b69",
   "metadata": {
    "_cell_guid": "b1076dfc-b9ad-4769-8c92-a6c4dae69d19",
    "_uuid": "8f2839f25d086af736a60e9eeb907d3b93b6e0e5",
    "execution": {
     "iopub.execute_input": "2024-11-11T09:11:31.219129Z",
     "iopub.status.busy": "2024-11-11T09:11:31.218708Z",
     "iopub.status.idle": "2024-11-11T09:11:32.144211Z",
     "shell.execute_reply": "2024-11-11T09:11:32.142707Z"
    },
    "papermill": {
     "duration": 0.939914,
     "end_time": "2024-11-11T09:11:32.149043",
     "exception": false,
     "start_time": "2024-11-11T09:11:31.209129",
     "status": "completed"
    },
    "tags": []
   },
   "outputs": [],
   "source": [
    "# This Python 3 environment comes with many helpful analytics libraries installed\n",
    "# It is defined by the kaggle/python Docker image: https://github.com/kaggle/docker-python\n",
    "# For example, here's several helpful packages to load\n",
    "\n",
    "import numpy as np # linear algebra\n",
    "import pandas as pd # data processing, CSV file I/O (e.g. pd.read_csv)\n",
    "\n",
    "# Input data files are available in the read-only \"../input/\" directory\n",
    "# For example, running this (by clicking run or pressing Shift+Enter) will list all files under the input directory\n",
    "\n",
    "import os\n",
    "for dirname, _, filenames in os.walk('/kaggle/input'):\n",
    "    for filename in filenames:\n",
    "        print(os.path.join(dirname, filename))\n",
    "\n",
    "# You can write up to 20GB to the current directory (/kaggle/working/) that gets preserved as output when you create a version using \"Save & Run All\" \n",
    "# You can also write temporary files to /kaggle/temp/, but they won't be saved outside of the current session"
   ]
  },
  {
   "cell_type": "code",
   "execution_count": 2,
   "id": "e9354b7d",
   "metadata": {
    "execution": {
     "iopub.execute_input": "2024-11-11T09:11:32.167667Z",
     "iopub.status.busy": "2024-11-11T09:11:32.167098Z",
     "iopub.status.idle": "2024-11-11T09:11:35.201445Z",
     "shell.execute_reply": "2024-11-11T09:11:35.200150Z"
    },
    "papermill": {
     "duration": 3.047373,
     "end_time": "2024-11-11T09:11:35.204369",
     "exception": false,
     "start_time": "2024-11-11T09:11:32.156996",
     "status": "completed"
    },
    "tags": []
   },
   "outputs": [],
   "source": [
    "import torch"
   ]
  },
  {
   "cell_type": "code",
   "execution_count": 3,
   "id": "0f8c48ba",
   "metadata": {
    "execution": {
     "iopub.execute_input": "2024-11-11T09:11:35.220796Z",
     "iopub.status.busy": "2024-11-11T09:11:35.220217Z",
     "iopub.status.idle": "2024-11-11T09:11:35.326644Z",
     "shell.execute_reply": "2024-11-11T09:11:35.325485Z"
    },
    "papermill": {
     "duration": 0.117461,
     "end_time": "2024-11-11T09:11:35.329229",
     "exception": false,
     "start_time": "2024-11-11T09:11:35.211768",
     "status": "completed"
    },
    "tags": []
   },
   "outputs": [
    {
     "data": {
      "text/plain": [
       "(tensor(5.), tensor(6.), tensor(1.5000), tensor(9.))"
      ]
     },
     "execution_count": 3,
     "metadata": {},
     "output_type": "execute_result"
    }
   ],
   "source": [
    "x = torch.tensor(3.0)\n",
    "y = torch.tensor(2.0)\n",
    "\n",
    "x + y, x * y, x / y, x**y"
   ]
  },
  {
   "cell_type": "code",
   "execution_count": 4,
   "id": "da731dfa",
   "metadata": {
    "execution": {
     "iopub.execute_input": "2024-11-11T09:11:35.345864Z",
     "iopub.status.busy": "2024-11-11T09:11:35.345385Z",
     "iopub.status.idle": "2024-11-11T09:11:35.358859Z",
     "shell.execute_reply": "2024-11-11T09:11:35.357759Z"
    },
    "papermill": {
     "duration": 0.024592,
     "end_time": "2024-11-11T09:11:35.361329",
     "exception": false,
     "start_time": "2024-11-11T09:11:35.336737",
     "status": "completed"
    },
    "tags": []
   },
   "outputs": [
    {
     "data": {
      "text/plain": [
       "tensor([0, 1, 2])"
      ]
     },
     "execution_count": 4,
     "metadata": {},
     "output_type": "execute_result"
    }
   ],
   "source": [
    "x = torch.arange(3)  # Vector\n",
    "x"
   ]
  },
  {
   "cell_type": "code",
   "execution_count": 5,
   "id": "05ce0b63",
   "metadata": {
    "execution": {
     "iopub.execute_input": "2024-11-11T09:11:35.379211Z",
     "iopub.status.busy": "2024-11-11T09:11:35.378781Z",
     "iopub.status.idle": "2024-11-11T09:11:35.387029Z",
     "shell.execute_reply": "2024-11-11T09:11:35.385946Z"
    },
    "papermill": {
     "duration": 0.019239,
     "end_time": "2024-11-11T09:11:35.389366",
     "exception": false,
     "start_time": "2024-11-11T09:11:35.370127",
     "status": "completed"
    },
    "tags": []
   },
   "outputs": [
    {
     "data": {
      "text/plain": [
       "tensor(2)"
      ]
     },
     "execution_count": 5,
     "metadata": {},
     "output_type": "execute_result"
    }
   ],
   "source": [
    "x[2]"
   ]
  },
  {
   "cell_type": "code",
   "execution_count": 6,
   "id": "fb442f78",
   "metadata": {
    "execution": {
     "iopub.execute_input": "2024-11-11T09:11:35.406362Z",
     "iopub.status.busy": "2024-11-11T09:11:35.405927Z",
     "iopub.status.idle": "2024-11-11T09:11:35.413032Z",
     "shell.execute_reply": "2024-11-11T09:11:35.411722Z"
    },
    "papermill": {
     "duration": 0.018454,
     "end_time": "2024-11-11T09:11:35.415476",
     "exception": false,
     "start_time": "2024-11-11T09:11:35.397022",
     "status": "completed"
    },
    "tags": []
   },
   "outputs": [
    {
     "data": {
      "text/plain": [
       "3"
      ]
     },
     "execution_count": 6,
     "metadata": {},
     "output_type": "execute_result"
    }
   ],
   "source": [
    "len(x)"
   ]
  },
  {
   "cell_type": "code",
   "execution_count": 7,
   "id": "0906a5c9",
   "metadata": {
    "execution": {
     "iopub.execute_input": "2024-11-11T09:11:35.433419Z",
     "iopub.status.busy": "2024-11-11T09:11:35.433002Z",
     "iopub.status.idle": "2024-11-11T09:11:35.440407Z",
     "shell.execute_reply": "2024-11-11T09:11:35.439277Z"
    },
    "papermill": {
     "duration": 0.019641,
     "end_time": "2024-11-11T09:11:35.443205",
     "exception": false,
     "start_time": "2024-11-11T09:11:35.423564",
     "status": "completed"
    },
    "tags": []
   },
   "outputs": [
    {
     "data": {
      "text/plain": [
       "torch.Size([3])"
      ]
     },
     "execution_count": 7,
     "metadata": {},
     "output_type": "execute_result"
    }
   ],
   "source": [
    "x.shape"
   ]
  },
  {
   "cell_type": "code",
   "execution_count": 8,
   "id": "21dd90d0",
   "metadata": {
    "execution": {
     "iopub.execute_input": "2024-11-11T09:11:35.462378Z",
     "iopub.status.busy": "2024-11-11T09:11:35.461931Z",
     "iopub.status.idle": "2024-11-11T09:11:35.470512Z",
     "shell.execute_reply": "2024-11-11T09:11:35.469191Z"
    },
    "papermill": {
     "duration": 0.02129,
     "end_time": "2024-11-11T09:11:35.473226",
     "exception": false,
     "start_time": "2024-11-11T09:11:35.451936",
     "status": "completed"
    },
    "tags": []
   },
   "outputs": [
    {
     "data": {
      "text/plain": [
       "tensor([[0, 1],\n",
       "        [2, 3],\n",
       "        [4, 5]])"
      ]
     },
     "execution_count": 8,
     "metadata": {},
     "output_type": "execute_result"
    }
   ],
   "source": [
    "A = torch.arange(6).reshape(3, 2)\n",
    "A"
   ]
  },
  {
   "cell_type": "code",
   "execution_count": 9,
   "id": "fc72d912",
   "metadata": {
    "execution": {
     "iopub.execute_input": "2024-11-11T09:11:35.491490Z",
     "iopub.status.busy": "2024-11-11T09:11:35.490788Z",
     "iopub.status.idle": "2024-11-11T09:11:35.505958Z",
     "shell.execute_reply": "2024-11-11T09:11:35.504678Z"
    },
    "papermill": {
     "duration": 0.027167,
     "end_time": "2024-11-11T09:11:35.508499",
     "exception": false,
     "start_time": "2024-11-11T09:11:35.481332",
     "status": "completed"
    },
    "tags": []
   },
   "outputs": [
    {
     "data": {
      "text/plain": [
       "tensor([[0, 2, 4],\n",
       "        [1, 3, 5]])"
      ]
     },
     "execution_count": 9,
     "metadata": {},
     "output_type": "execute_result"
    }
   ],
   "source": [
    "A.T  # 转置"
   ]
  },
  {
   "cell_type": "code",
   "execution_count": 10,
   "id": "98375e92",
   "metadata": {
    "execution": {
     "iopub.execute_input": "2024-11-11T09:11:35.526247Z",
     "iopub.status.busy": "2024-11-11T09:11:35.525813Z",
     "iopub.status.idle": "2024-11-11T09:11:35.535595Z",
     "shell.execute_reply": "2024-11-11T09:11:35.534393Z"
    },
    "papermill": {
     "duration": 0.021746,
     "end_time": "2024-11-11T09:11:35.538236",
     "exception": false,
     "start_time": "2024-11-11T09:11:35.516490",
     "status": "completed"
    },
    "tags": []
   },
   "outputs": [
    {
     "data": {
      "text/plain": [
       "(tensor([[1, 2, 3],\n",
       "         [2, 0, 4],\n",
       "         [3, 4, 5]]),\n",
       " tensor([[True, True, True],\n",
       "         [True, True, True],\n",
       "         [True, True, True]]))"
      ]
     },
     "execution_count": 10,
     "metadata": {},
     "output_type": "execute_result"
    }
   ],
   "source": [
    "A = torch.tensor([[1, 2, 3], [2, 0, 4], [3, 4, 5]])\n",
    "A, A == A.T"
   ]
  },
  {
   "cell_type": "code",
   "execution_count": 11,
   "id": "605c3ef9",
   "metadata": {
    "execution": {
     "iopub.execute_input": "2024-11-11T09:11:35.556303Z",
     "iopub.status.busy": "2024-11-11T09:11:35.555881Z",
     "iopub.status.idle": "2024-11-11T09:11:35.565045Z",
     "shell.execute_reply": "2024-11-11T09:11:35.563743Z"
    },
    "papermill": {
     "duration": 0.021034,
     "end_time": "2024-11-11T09:11:35.567486",
     "exception": false,
     "start_time": "2024-11-11T09:11:35.546452",
     "status": "completed"
    },
    "tags": []
   },
   "outputs": [
    {
     "data": {
      "text/plain": [
       "tensor([[[ 0,  1,  2,  3],\n",
       "         [ 4,  5,  6,  7],\n",
       "         [ 8,  9, 10, 11]],\n",
       "\n",
       "        [[12, 13, 14, 15],\n",
       "         [16, 17, 18, 19],\n",
       "         [20, 21, 22, 23]]])"
      ]
     },
     "execution_count": 11,
     "metadata": {},
     "output_type": "execute_result"
    }
   ],
   "source": [
    "torch.arange(24).reshape(2, 3, 4)"
   ]
  },
  {
   "cell_type": "code",
   "execution_count": 12,
   "id": "a4988845",
   "metadata": {
    "execution": {
     "iopub.execute_input": "2024-11-11T09:11:35.585836Z",
     "iopub.status.busy": "2024-11-11T09:11:35.585270Z",
     "iopub.status.idle": "2024-11-11T09:11:35.595482Z",
     "shell.execute_reply": "2024-11-11T09:11:35.594306Z"
    },
    "papermill": {
     "duration": 0.022048,
     "end_time": "2024-11-11T09:11:35.597705",
     "exception": false,
     "start_time": "2024-11-11T09:11:35.575657",
     "status": "completed"
    },
    "tags": []
   },
   "outputs": [
    {
     "data": {
      "text/plain": [
       "(tensor([[0., 1., 2.],\n",
       "         [3., 4., 5.]]),\n",
       " tensor([[ 0.,  2.,  4.],\n",
       "         [ 6.,  8., 10.]]),\n",
       " False)"
      ]
     },
     "execution_count": 12,
     "metadata": {},
     "output_type": "execute_result"
    }
   ],
   "source": [
    "A = torch.arange(6, dtype=torch.float32).reshape(2, 3)\n",
    "B = A.clone()  # Assign a copy of A to B by allocating new memory\n",
    "A, A + B, id(A) == id(B)"
   ]
  },
  {
   "cell_type": "code",
   "execution_count": 13,
   "id": "5c838996",
   "metadata": {
    "execution": {
     "iopub.execute_input": "2024-11-11T09:11:35.616389Z",
     "iopub.status.busy": "2024-11-11T09:11:35.615975Z",
     "iopub.status.idle": "2024-11-11T09:11:35.624439Z",
     "shell.execute_reply": "2024-11-11T09:11:35.623259Z"
    },
    "papermill": {
     "duration": 0.020726,
     "end_time": "2024-11-11T09:11:35.626848",
     "exception": false,
     "start_time": "2024-11-11T09:11:35.606122",
     "status": "completed"
    },
    "tags": []
   },
   "outputs": [
    {
     "data": {
      "text/plain": [
       "tensor([[ 0.,  1.,  4.],\n",
       "        [ 9., 16., 25.]])"
      ]
     },
     "execution_count": 13,
     "metadata": {},
     "output_type": "execute_result"
    }
   ],
   "source": [
    "A * B  # 哈达玛积"
   ]
  },
  {
   "cell_type": "code",
   "execution_count": 14,
   "id": "f19c0f5a",
   "metadata": {
    "execution": {
     "iopub.execute_input": "2024-11-11T09:11:35.648298Z",
     "iopub.status.busy": "2024-11-11T09:11:35.646587Z",
     "iopub.status.idle": "2024-11-11T09:11:35.660279Z",
     "shell.execute_reply": "2024-11-11T09:11:35.658693Z"
    },
    "papermill": {
     "duration": 0.027038,
     "end_time": "2024-11-11T09:11:35.663259",
     "exception": false,
     "start_time": "2024-11-11T09:11:35.636221",
     "status": "completed"
    },
    "tags": []
   },
   "outputs": [
    {
     "data": {
      "text/plain": [
       "(tensor([[[ 0,  1,  2,  3],\n",
       "          [ 4,  5,  6,  7],\n",
       "          [ 8,  9, 10, 11]],\n",
       " \n",
       "         [[12, 13, 14, 15],\n",
       "          [16, 17, 18, 19],\n",
       "          [20, 21, 22, 23]]]),\n",
       " tensor([[[ 2,  3,  4,  5],\n",
       "          [ 6,  7,  8,  9],\n",
       "          [10, 11, 12, 13]],\n",
       " \n",
       "         [[14, 15, 16, 17],\n",
       "          [18, 19, 20, 21],\n",
       "          [22, 23, 24, 25]]]),\n",
       " torch.Size([2, 3, 4]))"
      ]
     },
     "execution_count": 14,
     "metadata": {},
     "output_type": "execute_result"
    }
   ],
   "source": [
    "a = 2\n",
    "X = torch.arange(24).reshape(2, 3, 4)\n",
    "X, a + X, (a * X).shape"
   ]
  },
  {
   "cell_type": "code",
   "execution_count": 15,
   "id": "04fe985e",
   "metadata": {
    "execution": {
     "iopub.execute_input": "2024-11-11T09:11:35.683538Z",
     "iopub.status.busy": "2024-11-11T09:11:35.682482Z",
     "iopub.status.idle": "2024-11-11T09:11:35.692399Z",
     "shell.execute_reply": "2024-11-11T09:11:35.691103Z"
    },
    "papermill": {
     "duration": 0.022952,
     "end_time": "2024-11-11T09:11:35.694963",
     "exception": false,
     "start_time": "2024-11-11T09:11:35.672011",
     "status": "completed"
    },
    "tags": []
   },
   "outputs": [
    {
     "data": {
      "text/plain": [
       "(tensor([0., 1., 2.]), tensor(3.))"
      ]
     },
     "execution_count": 15,
     "metadata": {},
     "output_type": "execute_result"
    }
   ],
   "source": [
    "x = torch.arange(3, dtype=torch.float32)\n",
    "x, x.sum()"
   ]
  },
  {
   "cell_type": "code",
   "execution_count": 16,
   "id": "fd043654",
   "metadata": {
    "execution": {
     "iopub.execute_input": "2024-11-11T09:11:35.714094Z",
     "iopub.status.busy": "2024-11-11T09:11:35.713621Z",
     "iopub.status.idle": "2024-11-11T09:11:35.722600Z",
     "shell.execute_reply": "2024-11-11T09:11:35.721427Z"
    },
    "papermill": {
     "duration": 0.02152,
     "end_time": "2024-11-11T09:11:35.725064",
     "exception": false,
     "start_time": "2024-11-11T09:11:35.703544",
     "status": "completed"
    },
    "tags": []
   },
   "outputs": [
    {
     "data": {
      "text/plain": [
       "(tensor([[0., 1., 2.],\n",
       "         [3., 4., 5.]]),\n",
       " torch.Size([2, 3]),\n",
       " tensor(15.))"
      ]
     },
     "execution_count": 16,
     "metadata": {},
     "output_type": "execute_result"
    }
   ],
   "source": [
    "A, A.shape, A.sum()"
   ]
  },
  {
   "cell_type": "code",
   "execution_count": 17,
   "id": "cd56fa54",
   "metadata": {
    "execution": {
     "iopub.execute_input": "2024-11-11T09:11:35.744925Z",
     "iopub.status.busy": "2024-11-11T09:11:35.744480Z",
     "iopub.status.idle": "2024-11-11T09:11:35.753789Z",
     "shell.execute_reply": "2024-11-11T09:11:35.752583Z"
    },
    "papermill": {
     "duration": 0.0221,
     "end_time": "2024-11-11T09:11:35.756115",
     "exception": false,
     "start_time": "2024-11-11T09:11:35.734015",
     "status": "completed"
    },
    "tags": []
   },
   "outputs": [
    {
     "data": {
      "text/plain": [
       "(torch.Size([2, 3]), tensor([3., 5., 7.]), torch.Size([3]))"
      ]
     },
     "execution_count": 17,
     "metadata": {},
     "output_type": "execute_result"
    }
   ],
   "source": [
    "A.shape, A.sum(axis=0), A.sum(axis=0).shape  # 按照维度求和"
   ]
  },
  {
   "cell_type": "code",
   "execution_count": 18,
   "id": "015f473e",
   "metadata": {
    "execution": {
     "iopub.execute_input": "2024-11-11T09:11:35.775610Z",
     "iopub.status.busy": "2024-11-11T09:11:35.775193Z",
     "iopub.status.idle": "2024-11-11T09:11:35.784975Z",
     "shell.execute_reply": "2024-11-11T09:11:35.783849Z"
    },
    "papermill": {
     "duration": 0.02223,
     "end_time": "2024-11-11T09:11:35.787280",
     "exception": false,
     "start_time": "2024-11-11T09:11:35.765050",
     "status": "completed"
    },
    "tags": []
   },
   "outputs": [
    {
     "data": {
      "text/plain": [
       "(torch.Size([2, 3]), tensor([ 3., 12.]), torch.Size([2]))"
      ]
     },
     "execution_count": 18,
     "metadata": {},
     "output_type": "execute_result"
    }
   ],
   "source": [
    "A.shape, A.sum(axis=1), A.sum(axis=1).shape"
   ]
  },
  {
   "cell_type": "code",
   "execution_count": 19,
   "id": "6445b0fb",
   "metadata": {
    "execution": {
     "iopub.execute_input": "2024-11-11T09:11:35.807272Z",
     "iopub.status.busy": "2024-11-11T09:11:35.806833Z",
     "iopub.status.idle": "2024-11-11T09:11:35.816275Z",
     "shell.execute_reply": "2024-11-11T09:11:35.815044Z"
    },
    "papermill": {
     "duration": 0.022613,
     "end_time": "2024-11-11T09:11:35.818896",
     "exception": false,
     "start_time": "2024-11-11T09:11:35.796283",
     "status": "completed"
    },
    "tags": []
   },
   "outputs": [
    {
     "data": {
      "text/plain": [
       "tensor(True)"
      ]
     },
     "execution_count": 19,
     "metadata": {},
     "output_type": "execute_result"
    }
   ],
   "source": [
    "A.sum(axis=[0, 1]) == A.sum()  # Same as A.sum()"
   ]
  },
  {
   "cell_type": "code",
   "execution_count": 20,
   "id": "614d6e0e",
   "metadata": {
    "execution": {
     "iopub.execute_input": "2024-11-11T09:11:35.839869Z",
     "iopub.status.busy": "2024-11-11T09:11:35.838965Z",
     "iopub.status.idle": "2024-11-11T09:11:35.849113Z",
     "shell.execute_reply": "2024-11-11T09:11:35.847729Z"
    },
    "papermill": {
     "duration": 0.024468,
     "end_time": "2024-11-11T09:11:35.852870",
     "exception": false,
     "start_time": "2024-11-11T09:11:35.828402",
     "status": "completed"
    },
    "tags": []
   },
   "outputs": [
    {
     "data": {
      "text/plain": [
       "(tensor(2.5000), tensor(2.5000))"
      ]
     },
     "execution_count": 20,
     "metadata": {},
     "output_type": "execute_result"
    }
   ],
   "source": [
    "A.mean(), A.sum() / A.numel()"
   ]
  },
  {
   "cell_type": "code",
   "execution_count": 21,
   "id": "e7573af3",
   "metadata": {
    "execution": {
     "iopub.execute_input": "2024-11-11T09:11:35.875800Z",
     "iopub.status.busy": "2024-11-11T09:11:35.875367Z",
     "iopub.status.idle": "2024-11-11T09:11:35.885127Z",
     "shell.execute_reply": "2024-11-11T09:11:35.884020Z"
    },
    "papermill": {
     "duration": 0.022688,
     "end_time": "2024-11-11T09:11:35.887512",
     "exception": false,
     "start_time": "2024-11-11T09:11:35.864824",
     "status": "completed"
    },
    "tags": []
   },
   "outputs": [
    {
     "data": {
      "text/plain": [
       "(tensor([1.5000, 2.5000, 3.5000]), tensor([1.5000, 2.5000, 3.5000]))"
      ]
     },
     "execution_count": 21,
     "metadata": {},
     "output_type": "execute_result"
    }
   ],
   "source": [
    "A.mean(axis=0), A.sum(axis=0) / A.shape[0]"
   ]
  },
  {
   "cell_type": "code",
   "execution_count": 22,
   "id": "f8d15b42",
   "metadata": {
    "execution": {
     "iopub.execute_input": "2024-11-11T09:11:35.908387Z",
     "iopub.status.busy": "2024-11-11T09:11:35.907963Z",
     "iopub.status.idle": "2024-11-11T09:11:35.916780Z",
     "shell.execute_reply": "2024-11-11T09:11:35.915486Z"
    },
    "papermill": {
     "duration": 0.022655,
     "end_time": "2024-11-11T09:11:35.919399",
     "exception": false,
     "start_time": "2024-11-11T09:11:35.896744",
     "status": "completed"
    },
    "tags": []
   },
   "outputs": [
    {
     "data": {
      "text/plain": [
       "(tensor([[ 3.],\n",
       "         [12.]]),\n",
       " torch.Size([2, 1]))"
      ]
     },
     "execution_count": 22,
     "metadata": {},
     "output_type": "execute_result"
    }
   ],
   "source": [
    "sum_A = A.sum(axis=1, keepdims=True)\n",
    "sum_A, sum_A.shape"
   ]
  },
  {
   "cell_type": "code",
   "execution_count": 23,
   "id": "c43580a9",
   "metadata": {
    "execution": {
     "iopub.execute_input": "2024-11-11T09:11:35.943334Z",
     "iopub.status.busy": "2024-11-11T09:11:35.942908Z",
     "iopub.status.idle": "2024-11-11T09:11:35.954312Z",
     "shell.execute_reply": "2024-11-11T09:11:35.952304Z"
    },
    "papermill": {
     "duration": 0.02821,
     "end_time": "2024-11-11T09:11:35.957518",
     "exception": false,
     "start_time": "2024-11-11T09:11:35.929308",
     "status": "completed"
    },
    "tags": []
   },
   "outputs": [
    {
     "data": {
      "text/plain": [
       "(tensor([[0., 1., 2.],\n",
       "         [3., 4., 5.]]),\n",
       " tensor([[ 3.],\n",
       "         [12.]]),\n",
       " tensor([[0.0000, 0.3333, 0.6667],\n",
       "         [0.2500, 0.3333, 0.4167]]))"
      ]
     },
     "execution_count": 23,
     "metadata": {},
     "output_type": "execute_result"
    }
   ],
   "source": [
    "A, sum_A, A / sum_A  # 广播机制"
   ]
  },
  {
   "cell_type": "code",
   "execution_count": 24,
   "id": "a82240b7",
   "metadata": {
    "execution": {
     "iopub.execute_input": "2024-11-11T09:11:35.980550Z",
     "iopub.status.busy": "2024-11-11T09:11:35.980022Z",
     "iopub.status.idle": "2024-11-11T09:11:35.993406Z",
     "shell.execute_reply": "2024-11-11T09:11:35.992138Z"
    },
    "papermill": {
     "duration": 0.027471,
     "end_time": "2024-11-11T09:11:35.995826",
     "exception": false,
     "start_time": "2024-11-11T09:11:35.968355",
     "status": "completed"
    },
    "tags": []
   },
   "outputs": [
    {
     "data": {
      "text/plain": [
       "tensor([[0., 1., 2.],\n",
       "        [3., 5., 7.]])"
      ]
     },
     "execution_count": 24,
     "metadata": {},
     "output_type": "execute_result"
    }
   ],
   "source": [
    "A.cumsum(axis=0)  # 沿着axis轴的累积求和"
   ]
  },
  {
   "cell_type": "code",
   "execution_count": 25,
   "id": "9ae5df54",
   "metadata": {
    "execution": {
     "iopub.execute_input": "2024-11-11T09:11:36.018111Z",
     "iopub.status.busy": "2024-11-11T09:11:36.017539Z",
     "iopub.status.idle": "2024-11-11T09:11:36.034118Z",
     "shell.execute_reply": "2024-11-11T09:11:36.032840Z"
    },
    "papermill": {
     "duration": 0.030681,
     "end_time": "2024-11-11T09:11:36.036791",
     "exception": false,
     "start_time": "2024-11-11T09:11:36.006110",
     "status": "completed"
    },
    "tags": []
   },
   "outputs": [
    {
     "data": {
      "text/plain": [
       "(tensor([0., 1., 2.]), tensor([1., 1., 1.]), tensor(3.))"
      ]
     },
     "execution_count": 25,
     "metadata": {},
     "output_type": "execute_result"
    }
   ],
   "source": [
    "y = torch.ones(3, dtype = torch.float32)\n",
    "x, y, torch.dot(x, y)"
   ]
  },
  {
   "cell_type": "code",
   "execution_count": 26,
   "id": "0cdb1ce4",
   "metadata": {
    "execution": {
     "iopub.execute_input": "2024-11-11T09:11:36.059793Z",
     "iopub.status.busy": "2024-11-11T09:11:36.059145Z",
     "iopub.status.idle": "2024-11-11T09:11:36.069816Z",
     "shell.execute_reply": "2024-11-11T09:11:36.068581Z"
    },
    "papermill": {
     "duration": 0.025041,
     "end_time": "2024-11-11T09:11:36.072265",
     "exception": false,
     "start_time": "2024-11-11T09:11:36.047224",
     "status": "completed"
    },
    "tags": []
   },
   "outputs": [
    {
     "data": {
      "text/plain": [
       "tensor(3.)"
      ]
     },
     "execution_count": 26,
     "metadata": {},
     "output_type": "execute_result"
    }
   ],
   "source": [
    "torch.sum(x * y)"
   ]
  },
  {
   "cell_type": "code",
   "execution_count": 27,
   "id": "f77de432",
   "metadata": {
    "execution": {
     "iopub.execute_input": "2024-11-11T09:11:36.094749Z",
     "iopub.status.busy": "2024-11-11T09:11:36.093861Z",
     "iopub.status.idle": "2024-11-11T09:11:36.108097Z",
     "shell.execute_reply": "2024-11-11T09:11:36.106932Z"
    },
    "papermill": {
     "duration": 0.027995,
     "end_time": "2024-11-11T09:11:36.110516",
     "exception": false,
     "start_time": "2024-11-11T09:11:36.082521",
     "status": "completed"
    },
    "tags": []
   },
   "outputs": [
    {
     "data": {
      "text/plain": [
       "(tensor([[0., 1., 2.],\n",
       "         [3., 4., 5.]]),\n",
       " tensor([0., 1., 2.]),\n",
       " torch.Size([2, 3]),\n",
       " torch.Size([3]),\n",
       " tensor([ 5., 14.]),\n",
       " tensor([ 5., 14.]))"
      ]
     },
     "execution_count": 27,
     "metadata": {},
     "output_type": "execute_result"
    }
   ],
   "source": [
    "A, x, A.shape, x.shape, torch.mv(A, x), A@x  # 矩阵 x 向量"
   ]
  },
  {
   "cell_type": "code",
   "execution_count": 28,
   "id": "66654c43",
   "metadata": {
    "execution": {
     "iopub.execute_input": "2024-11-11T09:11:36.132552Z",
     "iopub.status.busy": "2024-11-11T09:11:36.132121Z",
     "iopub.status.idle": "2024-11-11T09:11:36.149156Z",
     "shell.execute_reply": "2024-11-11T09:11:36.147847Z"
    },
    "papermill": {
     "duration": 0.031244,
     "end_time": "2024-11-11T09:11:36.151721",
     "exception": false,
     "start_time": "2024-11-11T09:11:36.120477",
     "status": "completed"
    },
    "tags": []
   },
   "outputs": [
    {
     "data": {
      "text/plain": [
       "(tensor([[0., 1., 2.],\n",
       "         [3., 4., 5.]]),\n",
       " tensor([[1., 1., 1., 1.],\n",
       "         [1., 1., 1., 1.],\n",
       "         [1., 1., 1., 1.]]),\n",
       " tensor([[ 3.,  3.,  3.,  3.],\n",
       "         [12., 12., 12., 12.]]),\n",
       " tensor([[ 3.,  3.,  3.,  3.],\n",
       "         [12., 12., 12., 12.]]))"
      ]
     },
     "execution_count": 28,
     "metadata": {},
     "output_type": "execute_result"
    }
   ],
   "source": [
    "B = torch.ones(3, 4)\n",
    "A, B, torch.mm(A, B), A@B  # 矩阵 x 矩阵"
   ]
  },
  {
   "cell_type": "code",
   "execution_count": 29,
   "id": "e465bd52",
   "metadata": {
    "execution": {
     "iopub.execute_input": "2024-11-11T09:11:36.174529Z",
     "iopub.status.busy": "2024-11-11T09:11:36.174104Z",
     "iopub.status.idle": "2024-11-11T09:11:36.183962Z",
     "shell.execute_reply": "2024-11-11T09:11:36.182792Z"
    },
    "papermill": {
     "duration": 0.023596,
     "end_time": "2024-11-11T09:11:36.186193",
     "exception": false,
     "start_time": "2024-11-11T09:11:36.162597",
     "status": "completed"
    },
    "tags": []
   },
   "outputs": [
    {
     "data": {
      "text/plain": [
       "tensor(5.)"
      ]
     },
     "execution_count": 29,
     "metadata": {},
     "output_type": "execute_result"
    }
   ],
   "source": [
    "u = torch.tensor([3.0, -4.0])\n",
    "torch.norm(u)  # L2范数"
   ]
  },
  {
   "cell_type": "code",
   "execution_count": 30,
   "id": "5a892b18",
   "metadata": {
    "execution": {
     "iopub.execute_input": "2024-11-11T09:11:36.211237Z",
     "iopub.status.busy": "2024-11-11T09:11:36.210796Z",
     "iopub.status.idle": "2024-11-11T09:11:36.219366Z",
     "shell.execute_reply": "2024-11-11T09:11:36.218032Z"
    },
    "papermill": {
     "duration": 0.024702,
     "end_time": "2024-11-11T09:11:36.222141",
     "exception": false,
     "start_time": "2024-11-11T09:11:36.197439",
     "status": "completed"
    },
    "tags": []
   },
   "outputs": [
    {
     "data": {
      "text/plain": [
       "tensor(7.)"
      ]
     },
     "execution_count": 30,
     "metadata": {},
     "output_type": "execute_result"
    }
   ],
   "source": [
    "torch.abs(u).sum()  # L1范数"
   ]
  },
  {
   "cell_type": "code",
   "execution_count": 31,
   "id": "7feef942",
   "metadata": {
    "execution": {
     "iopub.execute_input": "2024-11-11T09:11:36.245136Z",
     "iopub.status.busy": "2024-11-11T09:11:36.244696Z",
     "iopub.status.idle": "2024-11-11T09:11:36.254177Z",
     "shell.execute_reply": "2024-11-11T09:11:36.252897Z"
    },
    "papermill": {
     "duration": 0.024318,
     "end_time": "2024-11-11T09:11:36.256804",
     "exception": false,
     "start_time": "2024-11-11T09:11:36.232486",
     "status": "completed"
    },
    "tags": []
   },
   "outputs": [
    {
     "data": {
      "text/plain": [
       "tensor(6.)"
      ]
     },
     "execution_count": 31,
     "metadata": {},
     "output_type": "execute_result"
    }
   ],
   "source": [
    "torch.norm(torch.ones((4, 9)))  # Frobenius 范数"
   ]
  }
 ],
 "metadata": {
  "kaggle": {
   "accelerator": "none",
   "dataSources": [],
   "dockerImageVersionId": 30786,
   "isGpuEnabled": false,
   "isInternetEnabled": true,
   "language": "python",
   "sourceType": "notebook"
  },
  "kernelspec": {
   "display_name": "Python 3",
   "language": "python",
   "name": "python3"
  },
  "language_info": {
   "codemirror_mode": {
    "name": "ipython",
    "version": 3
   },
   "file_extension": ".py",
   "mimetype": "text/x-python",
   "name": "python",
   "nbconvert_exporter": "python",
   "pygments_lexer": "ipython3",
   "version": "3.10.14"
  },
  "papermill": {
   "default_parameters": {},
   "duration": 8.779625,
   "end_time": "2024-11-11T09:11:37.190034",
   "environment_variables": {},
   "exception": null,
   "input_path": "__notebook__.ipynb",
   "output_path": "__notebook__.ipynb",
   "parameters": {},
   "start_time": "2024-11-11T09:11:28.410409",
   "version": "2.6.0"
  }
 },
 "nbformat": 4,
 "nbformat_minor": 5
}
